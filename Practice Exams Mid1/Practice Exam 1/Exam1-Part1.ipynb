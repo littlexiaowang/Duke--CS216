{
 "cells": [
  {
   "cell_type": "markdown",
   "metadata": {},
   "source": [
    "# PRACTICE Exam 1: Part 1\n",
    "\n",
    "Your acknowledgement of the honor code in Sakai applies to this notebook.\n",
    "\n",
    "This is an individual assessment. This document and your answers are for your eyes only.\n",
    "\n",
    "This exam is open book, open note, open Internet, and closed to people. This means you cannot receive help on this exam from anyone, including (but not limited to) communicating with a person while taking the exam, such as asking someone through the Internet (like stackoverflow) to receive help.\n",
    "\n",
    "For this first part, you may use `for` or `while` loops."
   ]
  },
  {
   "cell_type": "code",
   "execution_count": null,
   "metadata": {},
   "outputs": [],
   "source": [
    "import numpy as np\n",
    "import pandas as pd\n",
    "import math"
   ]
  },
  {
   "cell_type": "markdown",
   "metadata": {},
   "source": [
    "## Question 1 (20 points)\n",
    "\n",
    "Using a 2-sided coin and a 6 sided die, use both objects to create an event that is less likely than 1 in a million, but more likely than 1 in two million. In the code cell below, write the code that calculates the actual probability and put the resulting value in `q1`. In the markdown cell below, describe your event and show your work."
   ]
  },
  {
   "cell_type": "markdown",
   "metadata": {},
   "source": [
    "## Answer 1: Code"
   ]
  },
  {
   "cell_type": "code",
   "execution_count": null,
   "metadata": {
    "scrolled": true,
    "tags": []
   },
   "outputs": [],
   "source": [
    "q1 = ...\n",
    "\n",
    "\n",
    "print(q1, 1/1000000 > q1 > 1/2000000)"
   ]
  },
  {
   "cell_type": "markdown",
   "metadata": {},
   "source": [
    "## Answer 1: Written portion"
   ]
  },
  {
   "cell_type": "markdown",
   "metadata": {},
   "source": [
    "<!-- BEGIN QUESTION -->\n",
    "\n"
   ]
  },
  {
   "cell_type": "markdown",
   "metadata": {},
   "source": [
    "_Type your answer here, replacing this text._"
   ]
  },
  {
   "cell_type": "markdown",
   "metadata": {},
   "source": [
    "<!-- END QUESTION -->\n",
    "\n",
    "## Question 2 (20 points)\n",
    "\n",
    "A well known fast food chain decides to collaborate with PAW Patrol to create 10 toys for their kids meals. However, to encourage parents to come more often to get a chance for a particular toy, they decide to make half the toys rare and half 10 times more common. Design a scenario so that you can estimate the probability of that scenario happening using a Monte Carlo simulation. Then conduct the Monte Carlo simulation.\n",
    "\n",
    "In the code cell below, estimate the probability of that scenario using a Monte Carlo simulation and run enough simulations that you are confident in your answer within 0.1%. In the markdown cell below provide a 2-3 sentence explanation of the scenario."
   ]
  },
  {
   "cell_type": "markdown",
   "metadata": {},
   "source": [
    "## Answer 2: Code"
   ]
  },
  {
   "cell_type": "code",
   "execution_count": null,
   "metadata": {
    "scrolled": true,
    "tags": []
   },
   "outputs": [],
   "source": [
    "# Add and update whatever code you need into this skeleton\n",
    "count = 0\n",
    "sims = 10 # Update this value\n",
    "for i in range(sims):\n",
    "    ...\n",
    "    \n",
    "    # Leave this if statement here for grading to show you\n",
    "    # are confident in your answer within 0.1%\n",
    "    if (i+1) % 1000 == 0:\n",
    "        print(i+1, count/(i+1))\n",
    "\n",
    "\n",
    "# Leave this here to help with grading.\n",
    "print('Final result:', count/sims)"
   ]
  },
  {
   "cell_type": "markdown",
   "metadata": {},
   "source": [
    "## Answer 2: Written portion"
   ]
  },
  {
   "cell_type": "markdown",
   "metadata": {},
   "source": [
    "<!-- BEGIN QUESTION -->\n",
    "\n"
   ]
  },
  {
   "cell_type": "markdown",
   "metadata": {},
   "source": [
    "_Type your answer here, replacing this text._"
   ]
  },
  {
   "cell_type": "markdown",
   "metadata": {},
   "source": [
    "<!-- END QUESTION -->\n",
    "\n"
   ]
  }
 ],
 "metadata": {
  "kernelspec": {
   "display_name": "Python 3",
   "language": "python",
   "name": "python3"
  },
  "language_info": {
   "codemirror_mode": {
    "name": "ipython",
    "version": 3
   },
   "file_extension": ".py",
   "mimetype": "text/x-python",
   "name": "python",
   "nbconvert_exporter": "python",
   "pygments_lexer": "ipython3",
   "version": "3.8.5"
  },
  "otter": {
   "OK_FORMAT": true,
   "tests": {}
  }
 },
 "nbformat": 4,
 "nbformat_minor": 5
}
