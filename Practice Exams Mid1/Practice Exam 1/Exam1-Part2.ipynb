{
 "cells": [
  {
   "cell_type": "markdown",
   "metadata": {},
   "source": [
    "# PRACTICE Exam 1: Part 2\n",
    "\n",
    "Your acknowledgement of the honor code in Sakai applies to this notebook.\n",
    "\n",
    "This is an individual assessment. This document and your answers are for your eyes only.\n",
    "\n",
    "This exam is open book, open note, open Internet, and closed to people. This means you cannot receive help on this exam from anyone, including (but not limited to) communicating with a person while taking the exam, such as asking someone through the Internet (like stackoverflow) to receive help.\n",
    "\n",
    "You may **not use** `for` or `while` loops for this part unless you can guarantee that the loop will iterate less than 25 times, including if we swapped out the data for another data file with 10x more rows. The use of such loops will immediately mark your solution as \"Not Yet\" because one large purpose of this exam is to assess your skills at taking advantage of the data science libraries.\n",
    "\n",
    "The grading for this exam will be very lenient in the reasonableness of how you use the data since we do not expect you to have a great understanding of the data set. Moreover, the values in this data set are not necessarily reflective of the real world."
   ]
  },
  {
   "cell_type": "code",
   "execution_count": null,
   "metadata": {},
   "outputs": [],
   "source": [
    "import numpy as np\n",
    "import pandas as pd\n",
    "import math"
   ]
  },
  {
   "cell_type": "markdown",
   "metadata": {},
   "source": [
    "### Column Definitions\n",
    "This section involves the `heart_attacks` DataFrame. Its columns are explained below.\n",
    "\n",
    "1. `age` - Age of person\n",
    "1. `sex` - 1 = male; 0 = female\n",
    "1. `chest pain` - Type of chest pain\n",
    "    1. Value 0: typical angina\n",
    "    1. Value 1: atypical angina\n",
    "    1. Value 2: non-anginal pain\n",
    "    1. Value 3: asymptomatic\n",
    "1. `blood pressure` - Resting blood pressure (in mm Hg)\n",
    "1. `cholestoral` - Cholestoral in mg/dl fetched via BMI sensor\n",
    "1. `blood sugar` - Fasting blood sugar > 120 mg/dl (1 = true; 0 = false)\n",
    "1. `resting ecg` - Resting electrocardiographic results\n",
    "    1. Value 0: normal\n",
    "    1. Value 1: having ST-T wave abnormality (T wave inversions and/or ST elevation or depression of > 0.05 mV)\n",
    "    1. Value 2: showing probable or definite left ventricular hypertrophy by Estes' criteria\n",
    "1. `max heart rate` - Maximum heart rate achieved\n",
    "1. `angina` - Exercise induced angina (1 = yes; 0 = no)\n",
    "1. `old peak` - ST depression induced by exercise relative to rest\n",
    "1. `slope` - The slope of the peak exercise ST segment\n",
    "1. `vessel num` - number of major vessels (0-3) colored by flourosopy\n",
    "1. `thall` - 3 = normal; 6 = fixed defect; 7 = reversable defect\n",
    "1. `HA chance` - 0 = less chance of heart attack; 1 = more chance of heart attack\n",
    "\n",
    "Note: The values in this data set are not necessarily reflective of the real world."
   ]
  },
  {
   "cell_type": "code",
   "execution_count": null,
   "metadata": {},
   "outputs": [],
   "source": [
    "# Run this code to load the data\n",
    "heart_attacks = pd.read_csv('heart.csv')\n",
    "heart_attacks.head()"
   ]
  },
  {
   "cell_type": "code",
   "execution_count": null,
   "metadata": {
    "tags": []
   },
   "outputs": [],
   "source": [
    "# Feel free to use this cell and add more to explore the data set\n",
    "..."
   ]
  },
  {
   "cell_type": "markdown",
   "metadata": {},
   "source": [
    "## Question 1 (20 points)\n",
    "\n",
    "Create a mask that uses at least two columns and selects for at most 75% and at least 25% of the original data set. This mask must be of booleans, one for each row in the dataframe. Make that mask a new column. Use that mask to filter the data and from the resulting data calculate a single descriptive statistic for one of the columns. Finally, provide a written explanation of what the code does.\n",
    "\n",
    "To help with grading, put the new column name in `new_col_name`, the fraction of values kept in `frac_data_kept`, and place your descriptive statistic in `statistic`. Make sure to leave and run the last few lines of the cell below for grading."
   ]
  },
  {
   "cell_type": "markdown",
   "metadata": {},
   "source": [
    "## Answer 1: Code"
   ]
  },
  {
   "cell_type": "code",
   "execution_count": null,
   "metadata": {
    "tags": []
   },
   "outputs": [],
   "source": [
    "new_col_name = ...\n",
    "\n",
    "frac_data_kept = ...\n",
    "\n",
    "statistic = ...\n",
    "\n",
    "\n",
    "# Leave these here to help with grading.\n",
    "print('New column name:', new_col_name)\n",
    "print('Fraction of data kepted:', frac_data_kept)\n",
    "print('Descriptive statistic of new column:', statistic)"
   ]
  },
  {
   "cell_type": "markdown",
   "metadata": {},
   "source": [
    "## Answer 1: Written portion"
   ]
  },
  {
   "cell_type": "markdown",
   "metadata": {},
   "source": [
    "<!-- BEGIN QUESTION -->\n",
    "\n"
   ]
  },
  {
   "cell_type": "markdown",
   "metadata": {},
   "source": [
    "_Type your answer here, replacing this text._"
   ]
  },
  {
   "cell_type": "markdown",
   "metadata": {},
   "source": [
    "<!-- END QUESTION -->\n",
    "\n",
    "## Question 2 (20 points)\n",
    "\n",
    "Create events A and B such that you can derive the empirical probabilities $P(A)$, $P(B)$, $P(A|B)$, and $P(B|A)$\n",
    "using the data set. In the code cell below, write the code to directly compute all four empirical probabilities from the dataset. You should calculate every value here independently by manipulating the dataframe (for example, filter and select as appropriate) and then dividing two integer values.\n",
    "\n",
    "Then, compute $P(A|B)$ and $P(B|A)$ again using Bayes' Theorem. When computing $P(A|B)$, you can use the empirical values of $P(A)$, $P(B)$, and $P(B|A)$ above, and vice versa. Confirm the values of $P(A|B)$ and $P(B|A)$ when calculated via Bayes' Theorem match the version you get from the dataframe.\n",
    "\n",
    "Use the variables in the skeleton code below and leave the print statements for grading. In the markdown cell below, describe the two events."
   ]
  },
  {
   "cell_type": "markdown",
   "metadata": {},
   "source": [
    "## Answer 2: Code"
   ]
  },
  {
   "cell_type": "code",
   "execution_count": null,
   "metadata": {
    "tags": []
   },
   "outputs": [],
   "source": [
    "...\n",
    "\n",
    "prob_a = ...\n",
    "prob_b = ...\n",
    "prob_a_given_b_data = ...\n",
    "prob_b_given_a_data = ...\n",
    "\n",
    "prob_a_given_b_bayes = ...\n",
    "prob_b_given_a_bayes = ...\n",
    "\n",
    "\n",
    "# Leave these here to help with grading.\n",
    "print('prob_a', prob_a)\n",
    "print('prob_b', prob_b)\n",
    "print('prob_a_given_b_data', prob_a_given_b_data)\n",
    "print('prob_b_given_a_data', prob_b_given_a_data)\n",
    "print('prob_a_given_b_bayes', prob_a_given_b_bayes)\n",
    "print('prob_b_given_a_bayes', prob_b_given_a_bayes)\n",
    "print('Match? a_given_b:', math.isclose(prob_a_given_b_data, prob_a_given_b_bayes, abs_tol=0.00000001))\n",
    "print('Match? b_given_a:', math.isclose(prob_b_given_a_data, prob_b_given_a_bayes, abs_tol=0.00000001))"
   ]
  },
  {
   "cell_type": "markdown",
   "metadata": {},
   "source": [
    "## Answer 2: Written portion"
   ]
  },
  {
   "cell_type": "markdown",
   "metadata": {},
   "source": [
    "<!-- BEGIN QUESTION -->\n",
    "\n"
   ]
  },
  {
   "cell_type": "markdown",
   "metadata": {},
   "source": [
    "_Type your answer here, replacing this text._"
   ]
  },
  {
   "cell_type": "markdown",
   "metadata": {},
   "source": [
    "## Question 3 (20 points)\n",
    "\n",
    "Filter the dataset by some criteria such that you have 75% or less of the original dataset. Decide on a second criteria, then calculate the proportion of the filtered data where the second criteria is true. Then decide on what the true mean/proportion could be (50% or something else). Finally, calculate how many observations would be needed to conclude that the probability of observing the empirical proportion is at most 5% (i.e., P(observe the empirical proportion) <= 0.05) when assuming the true proportion. You can assume n is large enough that the central limit theorem holds.\n",
    "\n",
    "In the code cell below do the following steps:\n",
    "1. Filter the data\n",
    "1. Calculate the empirical proportion\n",
    "1. Calculate the number of needed observations\n",
    "\n",
    "Fill in the following variables to help with grading (you may make more as you need):\n",
    "1. `n_filtered` - The number of data points left after your code filters the data\n",
    "1. `frac_filtered` - The fraction of data points that are left after filtering the data\n",
    "1. `true_prop` - The true proportion you are using for your calculations\n",
    "1. `prop_of_filtered` - The proportion of your filtered data where the second criteria is true\n",
    "1. `variance` - The variance you are using for your calculations\n",
    "1. `delta` - The delta you are using for your calculations\n",
    "1. `n_needed` - The number of observations you need\n",
    "\n",
    "In the markdown cell below state:\n",
    "1. How you filtered the data\n",
    "1. What your second proportion was\n",
    "1. Describe what you used as your true mean and your rationale for your choice\n",
    "1. Whether your current sample has enough observations"
   ]
  },
  {
   "cell_type": "markdown",
   "metadata": {},
   "source": [
    "## Answer 3: Code"
   ]
  },
  {
   "cell_type": "code",
   "execution_count": null,
   "metadata": {
    "tags": []
   },
   "outputs": [],
   "source": [
    "...\n",
    "\n",
    "n_filtered = ...\n",
    "frac_filtered = ...\n",
    "true_prop = ...\n",
    "prop_of_filtered = ...\n",
    "variance = ...\n",
    "delta = ...\n",
    "n_needed = ...\n",
    "\n",
    "\n",
    "# Leave these here to help with grading.\n",
    "print('Size of filtered sample:', n_filtered)\n",
    "print('Proportion of original data:', frac_filtered)\n",
    "print('Proportion of filtered data:', prop_of_filtered)\n",
    "print('True proportion:', true_prop)\n",
    "print('Variance:', variance)\n",
    "print('Delta:', delta)\n",
    "print('Needed N:', n_needed)"
   ]
  },
  {
   "cell_type": "markdown",
   "metadata": {},
   "source": [
    "## Answer 3: Written portion"
   ]
  },
  {
   "cell_type": "markdown",
   "metadata": {},
   "source": [
    "<!-- BEGIN QUESTION -->\n",
    "\n"
   ]
  },
  {
   "cell_type": "markdown",
   "metadata": {},
   "source": [
    "_Type your answer here, replacing this text._"
   ]
  },
  {
   "cell_type": "markdown",
   "metadata": {},
   "source": [
    "<!-- END QUESTION -->\n",
    "\n"
   ]
  }
 ],
 "metadata": {
  "kernelspec": {
   "display_name": "Python 3",
   "language": "python",
   "name": "python3"
  },
  "language_info": {
   "codemirror_mode": {
    "name": "ipython",
    "version": 3
   },
   "file_extension": ".py",
   "mimetype": "text/x-python",
   "name": "python",
   "nbconvert_exporter": "python",
   "pygments_lexer": "ipython3",
   "version": "3.8.5"
  },
  "otter": {
   "OK_FORMAT": true,
   "tests": {}
  }
 },
 "nbformat": 4,
 "nbformat_minor": 5
}
