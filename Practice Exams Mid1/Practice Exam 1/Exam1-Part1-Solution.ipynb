{
 "cells": [
  {
   "cell_type": "markdown",
   "id": "7573c903",
   "metadata": {},
   "source": [
    "# PRACTICE Exam 1: Part 1\n",
    "\n",
    "Your acknowledgement of the honor code in Sakai applies to this notebook.\n",
    "\n",
    "This is an individual assessment. This document and your answers are for your eyes only.\n",
    "\n",
    "This exam is open book, open note, open Internet, and closed to people. This means you cannot receive help on this exam from anyone, including (but not limited to) communicating with a person while taking the exam, such as asking someone through the Internet (like stackoverflow) to receive help.\n",
    "\n",
    "For this first part, you may use `for` or `while` loops."
   ]
  },
  {
   "cell_type": "code",
   "execution_count": 1,
   "id": "0c919349",
   "metadata": {},
   "outputs": [],
   "source": [
    "import numpy as np\n",
    "import pandas as pd\n",
    "import math"
   ]
  },
  {
   "cell_type": "markdown",
   "id": "9cf891bf",
   "metadata": {},
   "source": [
    "## Question 1 (20 points)\n",
    "\n",
    "Using a 2-sided coin and a 6 sided die, use both objects to create an event that is less likely than 1 in a million, but more likely than 1 in two million. In the code cell below, write the code that calculates the actual probability and put the resulting value in `q1`. In the markdown cell below, describe your event and show your work."
   ]
  },
  {
   "cell_type": "markdown",
   "id": "ee04fd56",
   "metadata": {},
   "source": [
    "## Answer 1: Code"
   ]
  },
  {
   "cell_type": "markdown",
   "id": "afbc6acd",
   "metadata": {},
   "source": []
  },
  {
   "cell_type": "code",
   "execution_count": 2,
   "id": "03df6264",
   "metadata": {
    "scrolled": true,
    "tags": [
     "otter_assign_solution_cell"
    ]
   },
   "outputs": [
    {
     "name": "stdout",
     "output_type": "stream",
     "text": [
      "8.930612711476906e-07 True\n"
     ]
    }
   ],
   "source": [
    "q1 = (((1/2)**16)*2) * ((1/6)**2) # SOLUTION\n",
    "\n",
    "# BEGIN SOLUTION NO PROMPT\n",
    "# Exemplary answer\n",
    "q1 = (((1/2)**16)*2) * ((1/6)**2)\n",
    "\n",
    "\n",
    "# Satisfactory answer\n",
    "## This does not satisfy the clean code criteria since it is\n",
    "## hard to read and requires remembering order of precedence\n",
    "q1 = 1/2**16*2*1/6**2\n",
    "\n",
    "\n",
    "# Not Yet Answer\n",
    "## This does not match the written portion, it should be ((1/2)**2) * ((1/6)**7)*6\n",
    "q1 = ((1/2)**2) * ((1/6)**7)\n",
    "\n",
    "# END SOLUTION\n",
    "\n",
    "print(q1, 1/1000000 > q1 > 1/2000000)"
   ]
  },
  {
   "cell_type": "markdown",
   "id": "7584207f",
   "metadata": {},
   "source": [
    "## Answer 1: Written portion"
   ]
  },
  {
   "cell_type": "markdown",
   "id": "b709a93d",
   "metadata": {},
   "source": [
    "<!-- BEGIN QUESTION -->\n",
    "\n"
   ]
  },
  {
   "cell_type": "markdown",
   "id": "8613a163",
   "metadata": {},
   "source": [
    "_Type your answer here, replacing this text._"
   ]
  },
  {
   "cell_type": "markdown",
   "id": "fc1e7f63",
   "metadata": {
    "tags": [
     "otter_assign_solution_cell"
    ]
   },
   "source": [
    "**Solution**\n",
    "\n",
    "### Exemplary Answer\n",
    "\n",
    "Flipping the coin 16 times and getting the same side, then rolling the die twice and getting a six both times.\n",
    "\n",
    "#### Rubric\n",
    "1. The event uses both the coin and the die\n",
    "2. The event matches the code\n",
    "3. The event is between 1 in a million and 1 in two million\n",
    "4. The code is clean and easy to read\n",
    "\n",
    "\n",
    "### Satisfactory Answer\n",
    "(Same as Exemplary)\n",
    "Flipping the coin 16 times and getting the same side, then rolling the die twice and getting a six both times.\n",
    "\n",
    "#### Rubric\n",
    "- Needs #1 and #2\n",
    "- #3 - It can be a little off, but it's clear they understand how to translate the event to the probability\n",
    "- #4 - It is not clean or easy to read\n",
    "\n",
    "\n",
    "### Not Yet Answer\n",
    "Flipping the coin 2 times and getting heads, then rolling the die 7 times and getting the same side every time.\n",
    "\n",
    "#### Rubric\n",
    "1. Work that does not meet some requirements and/or displays developing or incomplete mastery of at least some learning goals and material."
   ]
  },
  {
   "cell_type": "markdown",
   "id": "af5ac7ef",
   "metadata": {},
   "source": [
    "<!-- END QUESTION -->\n",
    "\n",
    "## Question 2 (20 points)\n",
    "\n",
    "A well known fast food chain decides to collaborate with PAW Patrol to create 10 toys for their kids meals. However, to encourage parents to come more often to get a chance for a particular toy, they decide to make half the toys rare and half 10 times more common. Design a scenario so that you can estimate the probability of that scenario happening using a Monte Carlo simulation. Then conduct the Monte Carlo simulation.\n",
    "\n",
    "In the code cell below, estimate the probability of that scenario using a Monte Carlo simulation and run enough simulations that you are confident in your answer within 0.1%. In the markdown cell below provide a 2-3 sentence explanation of the scenario."
   ]
  },
  {
   "cell_type": "markdown",
   "id": "5668937e",
   "metadata": {},
   "source": [
    "## Answer 2: Code"
   ]
  },
  {
   "cell_type": "markdown",
   "id": "824d1293",
   "metadata": {},
   "source": []
  },
  {
   "cell_type": "code",
   "execution_count": 3,
   "id": "9008ae54",
   "metadata": {
    "scrolled": true,
    "tags": [
     "otter_assign_solution_cell"
    ]
   },
   "outputs": [
    {
     "name": "stdout",
     "output_type": "stream",
     "text": [
      "1000 0.182\n",
      "2000 0.176\n",
      "3000 0.18066666666666667\n",
      "4000 0.179\n",
      "5000 0.182\n",
      "6000 0.17983333333333335\n",
      "7000 0.1782857142857143\n",
      "8000 0.178375\n",
      "9000 0.17655555555555555\n",
      "10000 0.1759\n",
      "1000 0.186\n",
      "2000 0.171\n",
      "3000 0.17366666666666666\n",
      "4000 0.173\n",
      "5000 0.1726\n",
      "6000 0.17133333333333334\n",
      "7000 0.1702857142857143\n",
      "8000 0.169\n",
      "9000 0.1681111111111111\n",
      "10000 0.1682\n",
      "11000 0.168\n",
      "12000 0.16758333333333333\n",
      "13000 0.16907692307692307\n",
      "14000 0.16892857142857143\n",
      "15000 0.16846666666666665\n",
      "16000 0.1695625\n",
      "17000 0.16941176470588235\n",
      "18000 0.17022222222222222\n",
      "19000 0.1706842105263158\n",
      "20000 0.1707\n",
      "21000 0.17033333333333334\n",
      "22000 0.17004545454545456\n",
      "23000 0.1696521739130435\n",
      "24000 0.16895833333333332\n",
      "25000 0.1686\n",
      "26000 0.16853846153846153\n",
      "27000 0.16844444444444445\n",
      "28000 0.16817857142857143\n",
      "29000 0.16889655172413792\n",
      "30000 0.16863333333333333\n",
      "31000 0.16903225806451613\n",
      "32000 0.169125\n",
      "33000 0.17003030303030303\n",
      "34000 0.1705\n",
      "35000 0.1702857142857143\n",
      "36000 0.17008333333333334\n",
      "37000 0.17032432432432432\n",
      "38000 0.17026315789473684\n",
      "39000 0.1701025641025641\n",
      "40000 0.170325\n",
      "41000 0.17029268292682928\n",
      "42000 0.1705\n",
      "43000 0.17013953488372094\n",
      "44000 0.17025\n",
      "45000 0.16975555555555555\n",
      "46000 0.16921739130434782\n",
      "47000 0.16925531914893616\n",
      "48000 0.1693125\n",
      "49000 0.16961224489795917\n",
      "50000 0.16972\n",
      "51000 0.16945098039215686\n",
      "52000 0.1693076923076923\n",
      "53000 0.16911320754716982\n",
      "54000 0.1691111111111111\n",
      "55000 0.16894545454545454\n",
      "56000 0.16908928571428572\n",
      "57000 0.16910526315789473\n",
      "58000 0.16913793103448277\n",
      "59000 0.16903389830508475\n",
      "60000 0.16893333333333332\n",
      "61000 0.1689344262295082\n",
      "62000 0.16890322580645162\n",
      "63000 0.16866666666666666\n",
      "64000 0.168578125\n",
      "65000 0.1684923076923077\n",
      "66000 0.16874242424242425\n",
      "67000 0.16861194029850746\n",
      "68000 0.16836764705882354\n",
      "69000 0.16856521739130434\n",
      "70000 0.1682142857142857\n",
      "71000 0.16790140845070423\n",
      "72000 0.16793055555555556\n",
      "73000 0.167986301369863\n",
      "74000 0.1681081081081081\n",
      "75000 0.16822666666666666\n",
      "76000 0.1685921052631579\n",
      "77000 0.16837662337662337\n",
      "78000 0.16824358974358974\n",
      "79000 0.1680632911392405\n",
      "80000 0.167775\n",
      "81000 0.16765432098765432\n",
      "82000 0.16770731707317074\n",
      "83000 0.1678433734939759\n",
      "84000 0.16813095238095238\n",
      "85000 0.168\n",
      "86000 0.16804651162790699\n",
      "87000 0.16789655172413792\n",
      "88000 0.167875\n",
      "89000 0.16782022471910113\n",
      "90000 0.1678\n",
      "91000 0.16783516483516484\n",
      "92000 0.16778260869565217\n",
      "93000 0.16786021505376345\n",
      "94000 0.16782978723404254\n",
      "95000 0.16792631578947367\n",
      "96000 0.16773958333333333\n",
      "97000 0.16784536082474227\n",
      "98000 0.16783673469387755\n",
      "99000 0.16787878787878788\n",
      "100000 0.16807\n",
      "Final result: 0.16807\n"
     ]
    }
   ],
   "source": [
    "\"\"\" # BEGIN PROMPT\n",
    "# Add and update whatever code you need into this skeleton\n",
    "count = 0\n",
    "sims = 10 # Update this value\n",
    "for i in range(sims):\n",
    "    ...\n",
    "    \n",
    "    # Leave this if statement here for grading to show you\n",
    "    # are confident in your answer within 0.1%\n",
    "    if (i+1) % 1000 == 0:\n",
    "        print(i+1, count/(i+1))\n",
    "\"\"\" # END PROMPT\n",
    "\n",
    "# BEGIN SOLUTION NO PROMPT\n",
    "# Exemplary\n",
    "count = 0\n",
    "sims = 10000\n",
    "options = ['a']*5 + ['b']*50\n",
    "for i in range(sims):\n",
    "    if 'a' in np.random.choice(options, 2):\n",
    "        count += 1\n",
    "    if (i+1) % 1000 == 0:\n",
    "        print(i+1, count/(i+1))\n",
    "\n",
    "\n",
    "# Satisfactory\n",
    "## This code is not as clean as it could be and does unnecessary work\n",
    "## showing a lack of understanding of how to use random.choices.\n",
    "## weights could have just been [1,1,1,1,1,10,10,10,10,10] with no call to np.random.uniform\n",
    "## The if statements assigning isRare and isCommon could have just used an assignment statement.\n",
    "import random\n",
    "random.seed(12345)\n",
    "count = 0\n",
    "sims = 100000 # Update this value\n",
    "for i in range(sims):\n",
    "    \n",
    "    prob_rare = np.random.uniform(0, .1)\n",
    "    prob_common = 10 * prob_rare\n",
    "    \n",
    "    recieved = random.choices(population=['a']*5 + ['b']*5 ,\n",
    "                   weights = [prob_rare, prob_rare, prob_rare,\n",
    "                             prob_rare, prob_rare, prob_common,\n",
    "                             prob_common, prob_common, prob_common, \n",
    "                            prob_common], \n",
    "                    k = 2)\n",
    "    \n",
    "    if 'a' in recieved:\n",
    "        isRare = True\n",
    "    else:\n",
    "        isRare = False\n",
    "        \n",
    "    if 'b' in recieved:\n",
    "        isCommon = True\n",
    "    else:\n",
    "        isCommon = False\n",
    "    \n",
    "    if(isCommon and isRare):\n",
    "        count+=1\n",
    "\n",
    "    if (i+1) % 1000 == 0:\n",
    "        print(i+1, count/(i+1))    \n",
    "# END SOLUTION\n",
    "\n",
    "# Leave this here to help with grading.\n",
    "print('Final result:', count/sims)"
   ]
  },
  {
   "cell_type": "markdown",
   "id": "cd40b607",
   "metadata": {},
   "source": [
    "## Answer 2: Written portion"
   ]
  },
  {
   "cell_type": "markdown",
   "id": "10c70676",
   "metadata": {},
   "source": [
    "<!-- BEGIN QUESTION -->\n",
    "\n"
   ]
  },
  {
   "cell_type": "markdown",
   "id": "a326bd90",
   "metadata": {},
   "source": [
    "_Type your answer here, replacing this text._"
   ]
  },
  {
   "cell_type": "markdown",
   "id": "2826ea0b",
   "metadata": {
    "tags": [
     "otter_assign_solution_cell"
    ]
   },
   "source": [
    "**Solution**\n",
    "### Exemplary Answer\n",
    "What is the probability that of getting at least one rare toy when purchasing two kids meals?\n",
    "\n",
    "#### Rubric\n",
    "1. Event can happen with the given scenario\n",
    "2. Their event matches the simulation\n",
    "3. Has >1,000 simulations (or at least enough to be confident in the results based on the printing)\n",
    "4. Evidence that they can be confident in their results by the 0.1% digit\n",
    "5. The code is clean and easy to read\n",
    "\n",
    "\n",
    "### Satisfactory Answer\n",
    "Getting 1 common toy and 1 rare toy when purchasing 2 toys\n",
    "\n",
    "#### Rubric\n",
    "- Needs #1\n",
    "- #2 - It's almost exactly this but they can be off by one as long as it's clear they understand the probability they are using\n",
    "- #3 - Can not have quite enough\n",
    "- #4 - Can be missing\n",
    "- #5 - It is not clean or easy to read\n",
    "\n",
    "### Not Yet Answer Rubric\n",
    "Has a description of an event, does not have #2, or has <100 simulations. It at least has/uses the for loop."
   ]
  },
  {
   "cell_type": "markdown",
   "id": "e1811845",
   "metadata": {},
   "source": [
    "<!-- END QUESTION -->\n",
    "\n"
   ]
  }
 ],
 "metadata": {
  "kernelspec": {
   "display_name": "Python 3",
   "language": "python",
   "name": "python3"
  },
  "language_info": {
   "codemirror_mode": {
    "name": "ipython",
    "version": 3
   },
   "file_extension": ".py",
   "mimetype": "text/x-python",
   "name": "python",
   "nbconvert_exporter": "python",
   "pygments_lexer": "ipython3",
   "version": "3.8.5"
  },
  "otter": {
   "OK_FORMAT": true,
   "tests": {}
  }
 },
 "nbformat": 4,
 "nbformat_minor": 5
}
