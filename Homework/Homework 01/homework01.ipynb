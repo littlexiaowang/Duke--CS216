{
 "cells": [
  {
   "cell_type": "markdown",
   "metadata": {
    "id": "NH3ciI7BAHTK"
   },
   "source": [
    "# Homework 01"
   ]
  },
  {
   "cell_type": "markdown",
   "metadata": {
    "id": "KE4iSkX-AHTP"
   },
   "source": [
    "In this exercise, you will warm up / refresh your Python skills by analyzing some real data inside of a Jupyter notebook environment. You should write whatever **Python** code you like to solve these problems. You can search on the web for documentation and techniques to help you solve the problem. See especially the official [Python tutorial](https://docs.python.org/3/tutorial/) and [documentation](https://docs.python.org/3/).\n",
    "\n",
    "For grading, we will be using an autograder in [Gradescope](http://gradescope.com/). It grades based on values in specific variables or function names. Make sure to read the problem carefully to know what names to use so the autograder can correctly find your answers.\n",
    "\n",
    "When you are ready to check your answer(s), submit your assignment at [Gradescope](http://gradescope.com/)."
   ]
  },
  {
   "cell_type": "markdown",
   "metadata": {
    "id": "FAMWJsE1AHTR"
   },
   "source": [
    "## Part 1: Text\n",
    "The `text.txt` file contains the opening sentences of Charles' Dickens novel *A Tale of Two Cities*. Run the code below. It will read the file, store it in a string variable `text`, and print the first 500 characters."
   ]
  },
  {
   "cell_type": "code",
   "execution_count": 1,
   "metadata": {
    "id": "JprjPXt8AHTS",
    "outputId": "a49bbe7e-8761-4278-cb43-6758ac8c2807"
   },
   "outputs": [
    {
     "name": "stdout",
     "output_type": "stream",
     "text": [
      "it was the best of times, it was the worst of times, it was the age of wisdom, it was the age of foolishness, it was the epoch of belief, it was the epoch of incredulity, it was the season of light, it was the season of darkness, it was the spring of hope, it was the winter of despair, we had everything before us, we had nothing before us, we were all going direct to heaven, we were all going direct the other way- in short, the period was so far like the present period, that some of its noisiest ...\n"
     ]
    }
   ],
   "source": [
    "f = open('text.txt')\n",
    "text = f.read()\n",
    "f.close()\n",
    "\n",
    "print(text[:500], '...')"
   ]
  },
  {
   "cell_type": "markdown",
   "metadata": {
    "deletable": false,
    "editable": false,
    "id": "4Oej9d20AHTV"
   },
   "source": [
    "### Question 1\n",
    "In the variable `q1_1` put the first sentence of the text. In the variable `q1_2` put the last sentence of the text. You may assume sentences only end with a period (`'.'`).\n",
    "\n",
    "You may find the Python `split` method for strings to be useful: https://docs.python.org/3/library/stdtypes.html?highlight=split#str.split `sep='.'`.\n",
    "<!--\n",
    "BEGIN QUESTION\n",
    "name: q1\n",
    "manual: false\n",
    "points:\n",
    "    - 0.5\n",
    "    - 0.5\n",
    "    - 0.5\n",
    "    - 0.5\n",
    "    - 1\n",
    "    - 1\n",
    "-->"
   ]
  },
  {
   "cell_type": "code",
   "execution_count": 2,
   "metadata": {
    "id": "I_MRb-I3AHTV",
    "outputId": "0676495c-0ded-43d1-cf60-9576bd1b5f91",
    "scrolled": true
   },
   "outputs": [],
   "source": [
    "# Code for question 1\n",
    "q1_1 = text.split(\".\")[0]\n",
    "q1_2 = text.split(\".\")[-2]\n"
   ]
  },
  {
   "cell_type": "markdown",
   "metadata": {
    "deletable": false,
    "editable": false
   },
   "source": [
    "### Question 2\n",
    "In the variable `q2` place the total number of vowels (`a`, `e`, `i`, `o`, `u`) that appear in the text.\n",
    "<!--\n",
    "BEGIN QUESTION\n",
    "name: q2\n",
    "manual: false\n",
    "points:\n",
    "    - 2.0\n",
    "    - 2.0\n",
    "-->"
   ]
  },
  {
   "cell_type": "code",
   "execution_count": 3,
   "metadata": {},
   "outputs": [],
   "source": [
    "# Code for question 2\n",
    "q2 = text.count(\"a\") + text.count(\"e\") + text.count(\"i\") + text.count(\"o\") + text.count(\"u\")\n"
   ]
  },
  {
   "cell_type": "markdown",
   "metadata": {
    "deletable": false,
    "editable": false
   },
   "source": [
    "### Question 3\n",
    "A trigram is a string of exactly 3 characters (or a string with length exactly 3), including blank spaces. For example, the first five trigrams in the text are (blank substituted by underline `_` for better demonstration):\n",
    "1. `it_`\n",
    "2. `t_w`\n",
    "3. `_wa`\n",
    "4. `was`\n",
    "5. `as_`\n",
    "\n",
    "In the variable `q3_1` place the most common trigram in the text. In the variable `q3_2` place the number of times the most common trigram shows in the text.\n",
    "<!--\n",
    "BEGIN QUESTION\n",
    "name: q3\n",
    "manual: false\n",
    "points:\n",
    "    - 1.0\n",
    "    - 1.0\n",
    "    - 1.0\n",
    "    - 1.0\n",
    "-->"
   ]
  },
  {
   "cell_type": "code",
   "execution_count": 4,
   "metadata": {},
   "outputs": [],
   "source": [
    "# Code for question 3\n",
    "\n",
    "new_text=text.replace(\" \",\"_\")\n",
    "\n",
    "text_len = len(new_text)\n",
    "\n",
    "ans = [0] * text_len\n",
    "storage = []\n",
    "\n",
    "for i in range(text_len):\n",
    "    if (i+3 > text_len - 1): break\n",
    "    else:\n",
    "        temp = new_text[i:i+3]\n",
    "        if (temp in storage):\n",
    "            tempcnt = new_text.index(temp)\n",
    "            ans[tempcnt] = ans[tempcnt] + 1\n",
    "        else:\n",
    "            ans[i] = ans[i] + 1\n",
    "            storage.append(temp)\n",
    "            \n",
    "a = ans.index(max(ans))\n",
    "temp = new_text[a:a+3].replace(\"_\",\" \")\n",
    "\n",
    "\n",
    "# len(\"123\")\n",
    "\n",
    "\n",
    "q3_1 = temp\n",
    "q3_2 = max(ans)\n",
    "\n",
    "# print(q3_1,q3_2)"
   ]
  },
  {
   "cell_type": "markdown",
   "metadata": {},
   "source": [
    "## Part 2: Rides\n",
    "\n",
    "The [boston.csv](boston.csv) file contains data on weekday Uber rides in the Boston, Massachusetts metropolitan areas from the [Uber Movement](https://movement.uber.com) project. The `sourceid` and `dstid` columns contain codes corresponding to start and end locations of each ride. The `hod` column contains codes corresponding to the hour of the day the ride took place. The `ride time` column contains the length of the ride, in minutes.\n",
    "\n",
    "The code below will open the file and read the data as a list of rows, with each row represented as a string. It then prints the first four rows. Note that the first (index 0) row contains the column headers."
   ]
  },
  {
   "cell_type": "code",
   "execution_count": 5,
   "metadata": {},
   "outputs": [
    {
     "name": "stdout",
     "output_type": "stream",
     "text": [
      "sourceid,dstid,hod,ride time\n",
      "\n",
      "584,33,7,11.866000000000001\n",
      "\n",
      "1013,1116,13,17.799333333333333\n",
      "\n",
      "884,1190,22,19.348833333333335\n",
      "\n"
     ]
    }
   ],
   "source": [
    "f = open('boston.csv')\n",
    "data = f.readlines()\n",
    "f.close()\n",
    "for row in data[:4]:\n",
    "    print(row)"
   ]
  },
  {
   "cell_type": "markdown",
   "metadata": {
    "deletable": false,
    "editable": false
   },
   "source": [
    "### Question 4\n",
    "In the variable `q4` place how many rides are listed in the file.\n",
    "<!--\n",
    "BEGIN QUESTION\n",
    "name: q4\n",
    "manual: false\n",
    "points:\n",
    "    - 1.0\n",
    "    - 1.0\n",
    "-->"
   ]
  },
  {
   "cell_type": "code",
   "execution_count": 6,
   "metadata": {},
   "outputs": [],
   "source": [
    "# Code for question 4\n",
    "q4 = len(data)-1\n"
   ]
  },
  {
   "cell_type": "markdown",
   "metadata": {
    "deletable": false,
    "editable": false
   },
   "source": [
    "### Question 5\n",
    "In the variable `q5` place the length of the longest ride.\n",
    "<!--\n",
    "BEGIN QUESTION\n",
    "name: q5\n",
    "manual: false\n",
    "points:\n",
    "    - 1.0\n",
    "    - 1.0\n",
    "-->"
   ]
  },
  {
   "cell_type": "code",
   "execution_count": 7,
   "metadata": {},
   "outputs": [],
   "source": [
    "# Code for question 5\n",
    "\n",
    "time = []\n",
    "time_str = []\n",
    "for row in data[1:]:\n",
    "    new_row = row.split(\",\")\n",
    "    time_str.append(new_row[3])\n",
    "    temp_time = float(new_row[3])\n",
    "    time.append(temp_time)\n",
    "    # time_str.append(new_row[3])\n",
    "\n",
    "tempcnt = time.index(max(time))\n",
    "q5 = max(time)\n"
   ]
  },
  {
   "cell_type": "markdown",
   "metadata": {
    "deletable": false,
    "editable": false
   },
   "source": [
    "### Question 6\n",
    "In the variable `q6` place the average length of a ride.\n",
    "<!--\n",
    "BEGIN QUESTION\n",
    "name: q6\n",
    "manual: false\n",
    "points:\n",
    "    - 1.0\n",
    "    - 1.0\n",
    "-->"
   ]
  },
  {
   "cell_type": "code",
   "execution_count": 8,
   "metadata": {},
   "outputs": [],
   "source": [
    "# Code for question 6\n",
    "sum = 0\n",
    "\n",
    "\n",
    "for i in range(len(time)):\n",
    "    sum = sum + time[i]\n",
    "    \n",
    "\n",
    "\n",
    "q6 = sum / q4\n"
   ]
  },
  {
   "cell_type": "markdown",
   "metadata": {
    "deletable": false,
    "editable": false
   },
   "source": [
    "### Question 7\n",
    "In the variable `q7` place the percent of rides that are under 10 minutes. The percent should be between 0 and 1.\n",
    "<!--\n",
    "BEGIN QUESTION\n",
    "name: q7\n",
    "manual: false\n",
    "points:\n",
    "    - 2.0\n",
    "    - 2.0\n",
    "-->"
   ]
  },
  {
   "cell_type": "code",
   "execution_count": 9,
   "metadata": {},
   "outputs": [],
   "source": [
    "# Code for question 7\n",
    "\n",
    "cnt = 0\n",
    "\n",
    "for i in range(len(time)):\n",
    "    if time[i] < 10: cnt = cnt + 1\n",
    "\n",
    "        \n",
    "    \n",
    "q7 = cnt / q4\n"
   ]
  },
  {
   "cell_type": "markdown",
   "metadata": {
    "deletable": false,
    "editable": false
   },
   "source": [
    "### Question 8\n",
    "For each HOD (hour of day), count how many rides take place during that hour. Put it in a list where index 0 has the number of rides where `hod` was 0, at index 1 where `hod` was 1, etc. until index 23. This means your list will be 24 long. Put this list in a variable called `q8`.\n",
    "<!--\n",
    "BEGIN QUESTION\n",
    "name: q8\n",
    "manual: false\n",
    "points:\n",
    "    - 1.0\n",
    "    - 1.0\n",
    "    - 2.0\n",
    "-->"
   ]
  },
  {
   "cell_type": "code",
   "execution_count": 10,
   "metadata": {},
   "outputs": [],
   "source": [
    "# Code for question 8\n",
    "ans = [0] * 24\n",
    "new_hod = []\n",
    "\n",
    "for row in data[1:]:\n",
    "    new_row = row.split(\",\")\n",
    "    new_hod.append(int(new_row[2]))\n",
    "    \n",
    "for i in range(len(new_hod)):\n",
    "    ans[new_hod[i]] = ans[new_hod[i]] + 1\n",
    "\n",
    "q8 = ans"
   ]
  },
  {
   "cell_type": "markdown",
   "metadata": {
    "deletable": false,
    "editable": false
   },
   "source": [
    "### Question 9\n",
    "What are the three most common **start** locations (`sourceid`) for rides in the dataset? You may find the built-in Python `sorted` function helpful; it's usage is described in https://docs.python.org/3/howto/sorting.html.\n",
    "\n",
    "Place your answer in the variable `q9` sorted with the most common location first.\n",
    "<!--\n",
    "BEGIN QUESTION\n",
    "name: q9\n",
    "manual: false\n",
    "points:\n",
    "    - 0.5\n",
    "    - 0.5\n",
    "    - 1.0\n",
    "    - 2.0\n",
    "-->"
   ]
  },
  {
   "cell_type": "code",
   "execution_count": 11,
   "metadata": {},
   "outputs": [
    {
     "data": {
      "text/plain": [
       "['885', '498', '435']"
      ]
     },
     "execution_count": 11,
     "metadata": {},
     "output_type": "execute_result"
    }
   ],
   "source": [
    "# Code for question 9\n",
    "\n",
    "loc = [0] * 1248\n",
    "ans = []\n",
    "new_startloc = []\n",
    "\n",
    "for row in data[1:]:\n",
    "    new_row = row.split(\",\")\n",
    "    new_startloc.append(int(new_row[0]))\n",
    "    \n",
    "for i in range(len(new_startloc)):\n",
    "    loc[new_startloc[i]] = loc[new_startloc[i]] + 1\n",
    "    \n",
    "loc_copy = loc.copy()    \n",
    "loc_copy.sort(reverse = True)\n",
    "\n",
    "for i in range(0,3):\n",
    "    temp = loc.index(loc_copy[i])\n",
    "    ans.append(str(temp))\n",
    "\n",
    "q9 = ans\n",
    "\n",
    "q9"
   ]
  },
  {
   "cell_type": "markdown",
   "metadata": {},
   "source": [
    "## Submitting\n",
    "\n",
    "You should make sure any code that you write to answer the questions is included in this notebook. We recommend you go to the Kernel option and choose \\\"Restart & Run All.\\\" Double check that your entire notebook runs correctly and generates the expected output. Finally, make sure to save your work (timestamp at the top tells you the last checkpoint and whether there are unsaved changes). When you finish, submit your assignment at [Gradescope](http://gradescope.com/)."
   ]
  }
 ],
 "metadata": {
  "colab": {
   "collapsed_sections": [],
   "name": "practice1s.ipynb",
   "provenance": []
  },
  "kernelspec": {
   "display_name": "Python 3",
   "language": "python",
   "name": "python3"
  },
  "language_info": {
   "codemirror_mode": {
    "name": "ipython",
    "version": 3
   },
   "file_extension": ".py",
   "mimetype": "text/x-python",
   "name": "python",
   "nbconvert_exporter": "python",
   "pygments_lexer": "ipython3",
   "version": "3.8.5"
  }
 },
 "nbformat": 4,
 "nbformat_minor": 1
}
