{
 "cells": [
  {
   "cell_type": "markdown",
   "metadata": {},
   "source": [
    "# Homework 07\n",
    "In this assignment, you will practice writing SQL queries to pull data from a relational database. "
   ]
  },
  {
   "cell_type": "markdown",
   "metadata": {},
   "source": [
    "## The congress database\n",
    "A visual schema of the congress database is also available as a pdf along with this file - we encourage you to start by taking a look to get familiar. This database contains the history of the members of the United States congress through the 115th congress (the data end by 2019) as well as a good deal of voting data from 2015-2016. The visual schema shows each table in the database as a yellow box with the table name at the top and the column names listed below. The arrows showing which keys/identifiers match between different tables for join operations. At the bottom you can see previews of the tables. One in particular, the `cur_members` table, contains data about members of the 115th congress (note - everywhere you see us refer to \"current\" members below, we are referring to those in the `cur_members` table). Many, though not all, of these members are still serving as of the 117th congress, which began in January 2021."
   ]
  },
  {
   "cell_type": "markdown",
   "metadata": {},
   "source": [
    "## How to use SQL and report your results\n",
    "\n",
    "You should use Python sqlite3 and Pandas to run your SQL queries in this assignment. You should include your code (including the Strings containing your SQL queries) in this notebook and show your results for the manual grading. We recommend using multiline strings for your queries for readability; remember that multiline strings in Python are enclosed by triple quotes for example,\n",
    "\n",
    "```\n",
    "my_multiline_string = \"\"\"Hi \n",
    "There!\"\"\"\n",
    "```\n",
    "\n",
    "See the worked examples for an example query and it's result."
   ]
  },
  {
   "cell_type": "markdown",
   "metadata": {},
   "source": [
    "## Questions"
   ]
  },
  {
   "cell_type": "code",
   "execution_count": null,
   "metadata": {},
   "outputs": [],
   "source": [
    "# Run but do not modify the following code\n",
    "# to import sqlite3 and pandas, and to connect\n",
    "# to the congress database\n",
    "import sqlite3\n",
    "import pandas as pd\n",
    "import numpy as np\n",
    "conn = sqlite3.connect(\"congress\")\n",
    "# If you cannot load the database and see error message like \"no such table\", try use absolute path like following:\n",
    "# import sqlite3\n",
    "# import pandas as pd\n",
    "# import numpy as np\n",
    "# import os.path\n",
    "# BASE_DIR = os.path.dirname(os.path.abspath(\"congress\"))\n",
    "# db_path = os.path.join(BASE_DIR, \"congress\")\n",
    "# conn = sqlite3.connect(db_path)"
   ]
  },
  {
   "cell_type": "markdown",
   "metadata": {},
   "source": [
    "### Question 1 (4 points)\n",
    "Who are all of the members of congress from North Carolina (`NC`) in the `cur_members` table? Show all of the information about them from the `cur_members` table. Put your resulting DataFrame in `q1`."
   ]
  },
  {
   "cell_type": "code",
   "execution_count": null,
   "metadata": {
    "tags": []
   },
   "outputs": [],
   "source": [
    "# Start with a SQL query to extract the information\n",
    "query1 = \"\"\" ... \"\"\"\n",
    "\n",
    "# Execute queries using pandas\n",
    "q1 = ...\n",
    "\n",
    "\n",
    "# Leave this line here so that the table is shown\n",
    "q1"
   ]
  },
  {
   "cell_type": "markdown",
   "metadata": {},
   "source": [
    "### Question 2 (4 points)\n",
    "List the five youngest female (`gender = 'F'`) members of the Congress from the `cur_members` table in descending order of `birthday`. Show all information about them from the `cur_members` table. Put your resulting DataFrame in `q2`."
   ]
  },
  {
   "cell_type": "code",
   "execution_count": null,
   "metadata": {
    "tags": []
   },
   "outputs": [],
   "source": [
    "# Start with a SQL query to extract the information\n",
    "query2 = \"\"\" ... \"\"\"\n",
    "\n",
    "# Execute queries using pandas\n",
    "q2 = ...\n",
    "\n",
    "\n",
    "# Leave this line here so that the table is shown\n",
    "q2"
   ]
  },
  {
   "cell_type": "markdown",
   "metadata": {},
   "source": [
    "### Question 3 (4 points)\n",
    "For the current members of congress, show the average, minimum, and maximum age (in years) of the representatives (i.e., `type = 'rep'`). Show the same for senators (i.e., `type = 'sen'`). Compute ages in years as of Feb. 22, 2021 (`'2021-02-22'`). You may compute the age of an individual as simply `'2021-02-22' - birthday`.\n",
    "\n",
    "Note that this is not *exactly* correct due to date rounding error. A more precise calculation of age in years using [sqlite date and time functions](https://sqlite.org/lang_datefunc.html) looks like `(julianday('2021-02-22')-julianday(birthday)) / 365.25`. We will accept solutions using either, you will get very similar results.\n",
    "\n",
    "Put your resulting DataFrame in `q3` with colums of `type`, `avg`, `min`, and `max`."
   ]
  },
  {
   "cell_type": "code",
   "execution_count": null,
   "metadata": {
    "tags": []
   },
   "outputs": [],
   "source": [
    "# Start with a SQL query to extract the information\n",
    "query3 = \"\"\" ... \"\"\"\n",
    "\n",
    "# Execute queries using pandas & check for the empty string\n",
    "q3 = ...\n",
    "\n",
    "\n",
    "\n",
    "# Leave this line here so that the table is shown\n",
    "q3"
   ]
  },
  {
   "cell_type": "markdown",
   "metadata": {},
   "source": [
    "### Question 4 (4 points)\n",
    "Which parties (`party`) have had at least 50 senators (`sen`) past and present? For each, show the `party` and the number of senators (`sen`) they have had. \n",
    "\n",
    "Hint: Be sure not to double count persons who served multiple terms in the senate. You can use `COUNT(DISTINCT column)` to get the number of distinct values on given `column`.\n",
    "\n",
    "Put your resulting DataFrame in `q4` with colums of `party` and `num_senators`."
   ]
  },
  {
   "cell_type": "code",
   "execution_count": null,
   "metadata": {
    "tags": []
   },
   "outputs": [],
   "source": [
    "# Start with a SQL query to extract the information\n",
    "query4 = \"\"\" ... \"\"\"\n",
    "\n",
    "# Execute queries using pandas\n",
    "q4 = ...\n",
    "\n",
    "\n",
    "# Leave this line here so that the table is shown\n",
    "q4"
   ]
  },
  {
   "cell_type": "markdown",
   "metadata": {},
   "source": [
    "### Question 5 (4 points)\n",
    "Among the past and present members members of congress who cast at least one vote in the `person_votes` table (i.e., the members whose `person_id`s appear at all in the `person_votes` table), which five members cast the fewest votes? Show their `first_name`s, `last_name`s, and the number of votes they cast in the `person_votes` table. Put your resulting DataFrame in `q5` with colums of `first_name`, `last_name`, and `num_votes`.\n",
    "\n",
    "Note: There is a vote called \"Not Voting\", you do not need to treat them specially. Or in other words, do not filter them out when counting, count them as a vote."
   ]
  },
  {
   "cell_type": "code",
   "execution_count": null,
   "metadata": {
    "tags": []
   },
   "outputs": [],
   "source": [
    "# Start with a SQL query to extract the information\n",
    "query5 = \"\"\" ... \"\"\"\n",
    "\n",
    "# Execute queries using pandas\n",
    "q5 = ...\n",
    "\n",
    "\n",
    "# Leave this line here so that the table is shown\n",
    "q5"
   ]
  },
  {
   "cell_type": "markdown",
   "metadata": {},
   "source": [
    "### Question 6 (4 points)\n",
    "In this question, we would like to consider the change in the gender representation of the US House of Representatives over time. Find all of the `start_date`s from the `person_roles` table in which at least 40 women began terms as representatives in the house (i.e., `type='rep'`). Show the `start_date`s and the number of women beginning terms on those dates. Order the results by `start_date` from oldest to most recent. Put your resulting DataFrame in `q6` with colums of `start_date` and `house_women`."
   ]
  },
  {
   "cell_type": "code",
   "execution_count": null,
   "metadata": {
    "tags": []
   },
   "outputs": [],
   "source": [
    "# Start with a SQL query to extract the information\n",
    "query6 = \"\"\" ... \"\"\"\n",
    "\n",
    "# Execute queries using pandas\n",
    "q6 = ...\n",
    "\n",
    "\n",
    "# Leave this line here so that the table is shown\n",
    "q6"
   ]
  },
  {
   "cell_type": "markdown",
   "metadata": {},
   "source": [
    "## Submitting\n",
    "\n",
    "You should make sure any code that you write to answer the questions is included in this notebook. We recommend you go to the Kernel option and choose \\\"Restart & Run All.\\\" Double check that your entire notebook runs correctly and generates the expected output. Finally, make sure to save your work (timestamp at the top tells you the last checkpoint and whether there are unsaved changes). When you finish, submit your assignment at [Gradescope](http://gradescope.com/)."
   ]
  }
 ],
 "metadata": {
  "kernelspec": {
   "display_name": "Python 3 (ipykernel)",
   "language": "python",
   "name": "python3"
  },
  "language_info": {
   "codemirror_mode": {
    "name": "ipython",
    "version": 3
   },
   "file_extension": ".py",
   "mimetype": "text/x-python",
   "name": "python",
   "nbconvert_exporter": "python",
   "pygments_lexer": "ipython3",
   "version": "3.9.12"
  },
  "otter": {
   "OK_FORMAT": true,
   "tests": {
    "q1": {
     "name": "q1",
     "points": [
      1,
      1,
      1,
      1
     ],
     "suites": [
      {
       "cases": [
        {
         "code": ">>> q1.shape\n(15, 9)",
         "hidden": false,
         "locked": false
        },
        {
         "code": ">>> print(sorted(q1.columns))\n['birthday', 'first_name', 'gender', 'id', 'last_name', 'party', 'religion', 'state', 'type']\n",
         "hidden": false,
         "locked": false
        },
        {
         "code": ">>> from auto_checks import check_q1_state\n>>> check_q1_state(q1)\n'PASS'",
         "hidden": false,
         "locked": false
        },
        {
         "code": ">>> from auto_checks import check_q1\n>>> check_q1(q1)\n'PASS'",
         "hidden": false,
         "locked": false
        }
       ],
       "scored": true,
       "setup": "",
       "teardown": "",
       "type": "doctest"
      }
     ]
    },
    "q2": {
     "name": "q2",
     "points": [
      1,
      1,
      1,
      1
     ],
     "suites": [
      {
       "cases": [
        {
         "code": ">>> q2.shape\n(5, 9)",
         "hidden": false,
         "locked": false
        },
        {
         "code": ">>> print(sorted(q2.columns))\n['birthday', 'first_name', 'gender', 'id', 'last_name', 'party', 'religion', 'state', 'type']\n",
         "hidden": false,
         "locked": false
        },
        {
         "code": ">>> from auto_checks import check_q2_gender\n>>> check_q2_gender(q2)\n'PASS'",
         "hidden": false,
         "locked": false
        },
        {
         "code": ">>> from auto_checks import check_q2\n>>> check_q2(q2)\n'PASS'",
         "hidden": false,
         "locked": false
        }
       ],
       "scored": true,
       "setup": "",
       "teardown": "",
       "type": "doctest"
      }
     ]
    },
    "q3": {
     "name": "q3",
     "points": [
      1,
      1,
      0.5,
      0.5,
      0.5,
      0.5
     ],
     "suites": [
      {
       "cases": [
        {
         "code": ">>> q3.shape\n(2, 4)",
         "hidden": false,
         "locked": false
        },
        {
         "code": ">>> print(sorted(q3.columns))\n['avg', 'max', 'min', 'type']\n",
         "hidden": false,
         "locked": false
        },
        {
         "code": ">>> from auto_checks import check_q3_type\n>>> check_q3_type(q3)\n'PASS'",
         "hidden": false,
         "locked": false
        },
        {
         "code": ">>> from auto_checks import check_q3_avg\n>>> check_q3_avg(q3)\n'PASS'",
         "hidden": false,
         "locked": false
        },
        {
         "code": ">>> from auto_checks import check_q3_min\n>>> check_q3_min(q3)\n'PASS'",
         "hidden": false,
         "locked": false
        },
        {
         "code": ">>> from auto_checks import check_q3_max\n>>> check_q3_max(q3)\n'PASS'",
         "hidden": false,
         "locked": false
        }
       ],
       "scored": true,
       "setup": "",
       "teardown": "",
       "type": "doctest"
      }
     ]
    },
    "q4": {
     "name": "q4",
     "points": [
      1,
      1,
      1,
      1
     ],
     "suites": [
      {
       "cases": [
        {
         "code": ">>> q4.shape\n(5, 2)",
         "hidden": false,
         "locked": false
        },
        {
         "code": ">>> print(sorted(q4.columns))\n['num_senators', 'party']\n",
         "hidden": false,
         "locked": false
        },
        {
         "code": ">>> from auto_checks import check_q4_party\n>>> check_q4_party(q4)\n'PASS'",
         "hidden": false,
         "locked": false
        },
        {
         "code": ">>> from auto_checks import check_q4\n>>> check_q4(q4)\n'PASS'",
         "hidden": false,
         "locked": false
        }
       ],
       "scored": true,
       "setup": "",
       "teardown": "",
       "type": "doctest"
      }
     ]
    },
    "q5": {
     "name": "q5",
     "points": [
      1,
      1,
      2
     ],
     "suites": [
      {
       "cases": [
        {
         "code": ">>> q5.shape\n(5, 3)",
         "hidden": false,
         "locked": false
        },
        {
         "code": ">>> print(sorted(q5.columns))\n['first_name', 'last_name', 'num_votes']\n",
         "hidden": false,
         "locked": false
        },
        {
         "code": ">>> from auto_checks import check_q5\n>>> check_q5(q5)\n'PASS'",
         "hidden": false,
         "locked": false
        }
       ],
       "scored": true,
       "setup": "",
       "teardown": "",
       "type": "doctest"
      }
     ]
    },
    "q6": {
     "name": "q6",
     "points": [
      1,
      1,
      2
     ],
     "suites": [
      {
       "cases": [
        {
         "code": ">>> q6.shape\n(13, 2)",
         "hidden": false,
         "locked": false
        },
        {
         "code": ">>> print(sorted(q6.columns))\n['house_women', 'start_date']\n",
         "hidden": false,
         "locked": false
        },
        {
         "code": ">>> from auto_checks import check_q6\n>>> check_q6(q6)\n'PASS'",
         "hidden": false,
         "locked": false
        }
       ],
       "scored": true,
       "setup": "",
       "teardown": "",
       "type": "doctest"
      }
     ]
    }
   }
  }
 },
 "nbformat": 4,
 "nbformat_minor": 4
}
