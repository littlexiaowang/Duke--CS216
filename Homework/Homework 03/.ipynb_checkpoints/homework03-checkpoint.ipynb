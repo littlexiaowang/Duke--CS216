{
 "cells": [
  {
   "cell_type": "markdown",
   "metadata": {},
   "source": [
    "# Homework 03\n",
    "In this exercise, you will demonstrate your learning by solving probability problems. Many of these will be math problems. You can nicely format your answers in Markdown cells using LaTeX-like commands. \n",
    "\n",
    "Some particular LaTeX commands you might find useful include:\n",
    "- To display an inline math expression, enclose the content in single dollar signs (e.g., $x^2+4=8$).\n",
    "- To display a single-line centered math expression, enclose the content in double dollar signs like $$P(X > 5) = \\frac{1}{6}.$$\n",
    "- To display a multi-line math expression, use `\\begin{equation}` and `\\end{equation}`, and use `\\\\` to change lines. See the example below.\n",
    "- (Advanced) To align lines nicely, use `\\begin{align}` and `\\end{align}`, and put `&` wherever you want the lines to align.\n",
    "\n",
    "\n",
    "- To write a fraction, use `\\frac{numerator}{denominator}` like $\\frac{3}{4}$.\n",
    "- To write set intersection and union, use `\\cap` and `\\cup` respectively, like $A \\cap B$ and $A \\cup B$.\n",
    "- To write a bar over something (like a set complement), use `\\overline{}` like in $\\overline{E}$.\n",
    "- To write a subscript or superscript, use `_{}` or `^{}` as in $X_{n}$ or $X^{2}$.\n",
    "- To write a sum or product, use `\\sum` or `\\prod` as in $\\sum_{i=1}^{n} X_i$ or $\\prod_{i=1}^{n} X_i$.\n",
    "- To write text inside math expressions, use `\\text{}` as in $P(D \\text{ is even})$.\n",
    "\n",
    "If you are new to LaTeX, see the [overleaf documentation for mathematical expressions](https://www.overleaf.com/learn/latex/mathematical_expressions). Note that not all LaTeX commands work in Markdown cells, as they are technically not actual LaTeX environments. \n",
    "\n",
    "## Show your work!\n",
    "Show your work and/or briefly explain your answers. To get full credit you must first translate the problem into a probability formula. See the worked examples for how to best show your work. In general you will not receive full credit for numeric answers with no accompanying work or justification (math, code, explanation), and we can't give you partial credit if you don't show your work.\n",
    "\n",
    "For example, question 1.4 in the worked examples has you calculate the probability of \"A die roll greater than or equal to 3 or a coin toss of tails (possibly both).\" A full credit answer to this would be:\n",
    "\n",
    "\\begin{align}\n",
    "P(D \\geq 3 \\cup C = \\text{tails}) &= P(D \\geq 3) + P(C = \\text{tails}) - P(D \\geq 3 \\cap C = \\text{tails}) \\\\\n",
    "&= \\frac{2}{3} + \\frac{1}{2} - \\frac{2}{3} \\times \\frac{1}{2} = \\mathbf{\\frac{5}{6} \\approx 0.83}.\n",
    "\\end{align}"
   ]
  },
  {
   "cell_type": "markdown",
   "metadata": {},
   "source": [
    "## Question 1 (2 points auto-graded, 2 points manually graded per subquestion)\n",
    "Suppose 600 individuals are on a cruise. Of the individuals:\n",
    "- 300 go snorkling,\n",
    "- 450 have lunch at the restaurant,\n",
    "- 200 go dancing,\n",
    "- 200 go snorkling and have lunch at the restaurant,\n",
    "- 100 go snorkling and go dancing,\n",
    "- 100 have lunch at the restaurant and go dancing,\n",
    "- 50 go snorkling, have lunch at the restaurant, and go dancing.\n",
    "\n",
    "For each of the following, compute the probability that an individual chosen uniformly at random:\n",
    "1. goes snorkling and has lunch at the restaurant,\n",
    "2. does not have lunch at the restaurant,\n",
    "3. goes snorkling or goes dancing,\n",
    "4. has lunch at the restaurant but does not go snorkling, \n",
    "5. goes dancing given that they have lunch at the restaurant.\n",
    "\n",
    "For the autograder, in the code cell, put question 1's answer in the variable `q1_1`, question 2's answer in `q1_2`, and so on. Show your work in the Markdown cell.\n"
   ]
  },
  {
   "cell_type": "code",
   "execution_count": 1,
   "metadata": {
    "tags": []
   },
   "outputs": [],
   "source": [
    "# Code for question 1 (or can use a hand calculator and show work)\n",
    "\n",
    "q1_1 = 200/600\n",
    "q1_2 = (600-450)/600\n",
    "q1_3 = (300+200-100)/600\n",
    "q1_4 = 250/600\n",
    "q1_5 = 100/450\n"
   ]
  },
  {
   "cell_type": "markdown",
   "metadata": {},
   "source": [
    "<!-- BEGIN QUESTION -->\n",
    "\n",
    "## Answer 1"
   ]
  },
  {
   "cell_type": "markdown",
   "metadata": {},
   "source": [
    "_Type your answer here, replacing this text._\n",
    "1. $P=\\frac{200}{600}=\\frac{1}{3}$\n",
    "2. $P=P((\\text{people have lunch at the restaurant})^{c})=\\frac{600-450}{600}=\\frac{1}{4}$\n",
    "3. $P=P(snorkling \\cup dancing)=P(snorkling)+P(dancing)-P(snorkling \\cap dancing)=\\frac{300+200-100}{600}=\\frac{2}{3}$\n",
    "4. $P=P(restaurant \\cap (snorkling)^{c})=P(restaurant \\cup snorkling)-P(snorkling)=\\frac{450+300-200-300}{600}=\\frac{5}{12}$\n",
    "5. $P=P(dancing \\mid restaurant)=\\frac{P(dancing \\cap restaurant)}{P(restaurant)}=\\frac{100}{450}=\\frac{2}{9}$"
   ]
  },
  {
   "cell_type": "markdown",
   "metadata": {},
   "source": [
    "<!-- END QUESTION -->\n",
    "\n",
    "## Question 2 (2 points auto-graded, 2 points manually graded per subquestion)\n",
    "\n",
    "1. Consider a rare genetic disorder that occurs with 5\\% probability. Individuals with the genetic disorder have a 60\\% probability to develop a particular medical condition whereas individuals without the disorder only have a 10\\% probability to develop the medical condition. What is the probably that a random individual from the entire population will develop the medical condition?\n",
    "\n",
    "\n",
    "2. Suppose that for a random student, there is an 80\\% probability of passing the final exam, a 90\\% probability of passing the course, and a 99\\% probability of passing the course given that the student passes the final exam. Given that a student passed the course, what is the probability that the student did not pass the final exam?  \n",
    "\n",
    "\n",
    "3. Suppose that 10\\% of the cars produced on an assembly line have some defect. The car manufacturer has a test for checking for defects. For cars with defects, it correctly finds the defect with 99\\% probability. However, for cars without defects, the test incorrectly reports a defect with 5\\% probability.  What is the probability that a car has no defect given that the test reports that it has a defect?\n",
    "\n",
    "For the autograder, in the code cell, put question 1's answer in the variable `q2_1` and so on. Show your work in the Markdown cell.\n"
   ]
  },
  {
   "cell_type": "code",
   "execution_count": 2,
   "metadata": {
    "tags": []
   },
   "outputs": [],
   "source": [
    "# Code for question 2 (or can use a hand calculator and show work)\n",
    "\n",
    "q2_1 = 0.05 * 0.6 + 0.95 * 0.1\n",
    "q2_2 = 1 - ((0.8 * 0.99) / 0.9)\n",
    "q2_3 = 1- (0.1 * 0.99) / (0.1 * 0.99 + 0.9 * 0.05)"
   ]
  },
  {
   "cell_type": "markdown",
   "metadata": {},
   "source": [
    "<!-- BEGIN QUESTION -->\n",
    "\n",
    "## Answer 2"
   ]
  },
  {
   "cell_type": "markdown",
   "metadata": {},
   "source": [
    "1.\n",
    "\\begin{align}\n",
    "\\text{from the question we have: } &P(gen)=0.05; P(con \\mid gen)=0.6; P(con \\mid gen^{c})=0.1 \\\\\n",
    "P(con) &= P(gen)P(con \\mid gen)+P(gen^{c})P(con \\mid gen^{c}) \\\\\n",
    "&= 0.05 \\times 0.6+(1-0.05) \\times 0.1 = 0.125\n",
    "\\end{align}\n",
    "2.\n",
    "\\begin{align}\n",
    "\\text{from the question we have: } P(exam)&=0.8;P(course)=0.9;P(course \\mid exam)=0.99 \\\\\n",
    "P(exam^{c} \\mid course) &= 1-P(exam \\mid course) \\\\\n",
    "P(exam \\mid course) &= \\frac{P(exam \\cap course)}{P(course)} = \\frac{P(exam)P(course \\mid exam)}{P(course)} \\\\\n",
    "&= \\frac{0.8 \\times 0.99}{0.9} = 0.88 \\\\\n",
    "P(exam^{c} \\mid course) &= 1-0.88 = 0.12\n",
    "\\end{align}\n",
    "3.\n",
    "\\begin{align}\n",
    "\\text{from the question we have: } P(defect)&=0.1;P(find \\mid defect)=0.99;P(find \\mid defect^{c})=0.05 \\\\\n",
    "P(defect^{c} \\mid find) &= 1-P(defect \\mid find) \\\\\n",
    "P(defect \\mid find) &= \\frac{P(defect \\cap find)}{P(find)} \\\\\n",
    "&=\\frac{P(defect)P(find \\mid defect)}{P(defect)P(find \\mid defect)+P(defect^{c})P(find \\mid defect^{c})} \\\\\n",
    "&=\\frac{0.1 \\times 0.99}{0.1 \\times 0.99 + 0.9 \\times 0.05}=0.6875\\\\\n",
    "P(defect^{c} \\mid find) &= 1-0.6875 = 0.3125\n",
    "\\end{align}"
   ]
  },
  {
   "cell_type": "markdown",
   "metadata": {},
   "source": [
    "<!-- END QUESTION -->\n",
    "\n",
    "## Question 3 (2 points auto-graded, 2 points manually graded per subquestion)\n",
    "1. Suppose you are playing a game of chance. You roll a single fair 6-sided die. If the result is odd, you win a number of dollars equal to the die roll. If the result is even, you lose a number of dollars equal to the die roll. What is the expected number of dollars you will win or lose playing this game once? \n",
    "\n",
    "\n",
    "2. You play another game of chance. It proceeds in three rounds. In each round you roll a single fair 6-sided die. In the first round, if you roll a 1 you get \\\\$1. In the second round if you roll a 2 you get \\\\$2. In the third round if you roll a 3 you get \\\\$3. If at the end you have not won any of the three rounds, you lose \\\\$3. What is the expected number of dollars you will win or lose playing this game once?\n",
    "\n",
    "For the autograder, in the code cell, put question 1's answer in the variable `q3_1` and question 2's answer in `q3_2`. Show your work in the Markdown cell.\n"
   ]
  },
  {
   "cell_type": "code",
   "execution_count": 3,
   "metadata": {
    "tags": []
   },
   "outputs": [],
   "source": [
    "# Code for question 2 (or can use a hand calculator and show work)\n",
    "\n",
    "q3_1 = (1/6) * (1-2+3-4+5-6) \n",
    "q3_2 = (1/6) * (1+2+3) + (5/6)*(5/6)*(5/6)*(-3)"
   ]
  },
  {
   "cell_type": "markdown",
   "metadata": {},
   "source": [
    "<!-- BEGIN QUESTION -->\n",
    "\n",
    "## Answer 3"
   ]
  },
  {
   "cell_type": "markdown",
   "metadata": {},
   "source": [
    "1. $E=P(1) \\times 1 + P(2) \\times (-2) + P(3) \\times 3 + P(4) \\times (-4) + P(5) \\times 5 + P(6) \\times (-6)=\\frac{1}{6} \\times (1-2+3-4+5-6)=-\\frac{1}{2}$\n",
    "2. $E=P(1) \\times 1 + P(2) \\times 2 + P(3) \\times 3 + P(non123) \\times (-3)=\\frac{1}{6} \\times 1 + \\frac{1}{6} \\times 2 + \\frac{1}{6} \\times 3 + (\\frac{5}{6})^{3} \\times (-3)=1-\\frac{375}{216} \\approx 0.7361 $"
   ]
  },
  {
   "cell_type": "markdown",
   "metadata": {},
   "source": [
    "<!-- END QUESTION -->\n",
    "\n",
    "## Question 4 (2 points auto-graded, 2 points manually graded)\n",
    "Suppose you toss a coin $n$ times and observe that 51\\% of the time the result is heads. Assuming $n$ is large enough to use the central limit theorem, how large would $n$ need to be before you could conclude that the probability that the coin is fair (50/50 percent chance of heads or tails) is at most 5\\%? \n",
    "\n",
    "*Hint: It may help to define an appropriate random variable whose expectation is the quantity of interest based on a fair coin toss and calculate its variance.*\n",
    "\n",
    "For the autograder, in the code cell, put your answer in the varialbe `q4`. Show your work in the Markdown cell.\n"
   ]
  },
  {
   "cell_type": "code",
   "execution_count": 4,
   "metadata": {
    "tags": []
   },
   "outputs": [],
   "source": [
    "# Code for question 4 (or can use a hand calculator and show work)\n",
    "\n",
    "q4 = int(10000)"
   ]
  },
  {
   "cell_type": "markdown",
   "metadata": {},
   "source": [
    "<!-- BEGIN QUESTION -->\n",
    "\n",
    "## Answer 4"
   ]
  },
  {
   "cell_type": "markdown",
   "metadata": {},
   "source": [
    "\n",
    "$$\\sigma^2=0.5 \\times(1-0.5)=0.25 $$\n",
    "$$\\frac{2 \\sigma}{\\sqrt{n}}<0.01 $$\n",
    "$$n \\geq \\frac{4 \\times 0.25}{(0.01)^2} = 10000$$\n"
   ]
  },
  {
   "cell_type": "markdown",
   "metadata": {},
   "source": [
    "<!-- END QUESTION -->\n",
    "\n",
    "## Question 5 (2 points auto-graded, 3 points manually graded)\n",
    "In the US presidential election, there are typically two candidates: a Democratic candidate and a Republican candidate. Each state has a number of electoral college votes. The candidate who wins the most votes in a state receives all of the electoral college votes for that particular state (there are a couple of exceptions, but to keep things simple we will assume this is how it works for all states). A candidate who wins at least 270 electoral college votes wins the national election. \n",
    "\n",
    "### The Data\n",
    "Below we import the `polls.csv` dataset describing the 2020 US presidential election and preview the first few rows. For each of the 50 states in the USA plus Washington D.C. (which has electoral college votes like a state), the dataset records:\n",
    "- `d_percent`: The percent of polled voters indicating they will vote for the Democratic candidate in the 2020 presidential election.\n",
    "- `r_percent`: The percent of polled voters indicating they will vote for the Republican candidate in the 2020 presidential election.\n",
    "- `ec_weight`: The number of electoral college votes controlled by the particular state.  \n",
    "\n",
    "### What you will do\n",
    "**In this question, you will write a Monte Carlo simulation to understand the probabilities of the following three events.** This is based roughly on the idea of computational models for predicting election outcomes such as those you may have seen recently in the news. \n",
    "- $D$: the Democratic candidate wins at least 270 electoral college votes (and thus the presidential election);\n",
    "- $R$: the Republican candidate wins at least 270 electoral college votes (and thus the presidential election); \n",
    "- $U$: neither candidate gets 270 electoral college votes and the election is undecided.\n",
    "\n",
    "### How you will do it\n",
    "To do so, model the uncertainty in the poll numbers as follows. For each simulation:\n",
    "1. For each state independently draw 0-mean normally distributed random `noise` for a given standard deviation estimate $\\sigma$. You can do so, for example, using [numpy.random.normal](https://numpy.org/doc/stable/reference/random/generated/numpy.random.normal.html). This reflects the assumption that the poll numbers are not certain and could vary in either direction by one or two standard deviations.\n",
    "2. Add `noise` (independently for each state) to `d_percent` and subtract `noise` from `r_percent`. So if you get `noise = 1.5`, `d_percent = 42`, and `r_percent = 57` you would get `43.5` for the new `d_percent` and `55.5` for the new `r_percent`. \n",
    "\n",
    "Then for a given simulation you can check which of $D$, $R$, or $U$ occur by checking, for each state, which candidate gets a larger share of the vote, and adding up their electoral votes accross all of the states.\n",
    "\n",
    "Make sure that **each simulation starts with the original values** from the `polls` dataset, not the results from the previous simulation. \n",
    "\n",
    "Code the simulation and then **run 10,000 simulations for each of the following values of $\\sigma$: 1, 5, and 10. For each, report the empirical probability of the events $D$, $R$, and $U$.** You should therefore have a total of 9 values. Report your values by creating three lists `q5_1`, `q5_5`, and `q5_10`, one for each $\\sigma$. The first value of each list is the number of simulations the Democrats won, the second value is the number the Republicans won, and the final value is for Undecided.\n",
    "\n",
    "It may take a few seconds for your simulations to run, but if they are running for minutes, you are likely writing inefficient loops instead of taking advantage of efficient Pandas and Numpy operations. You will need one loop over the 10,000 simulations but should not need any others.\n",
    "\n",
    "*Hint: We recommend that you write the following functions:*\n",
    "1. *A function that takes a `DataFrame` of votes where the noise has already been added and returns who has won based on the electoral college votes per state.*\n",
    "1. *A function that simulates an election by taking a `DataFrame` of vote/poll data and a standard deviation and adds noise.*\n",
    "1. *A function that runs all the simulations for a specific standard deviation.*\n",
    "\n",
    "*It'll make your code easier to write and understand.*\n",
    "\n",
    "### Submission Instructions\n",
    "For the sake of consistency and easy debugging, we recommend that you do the following when you are ready to submit:\n",
    "1. Surround your code with triple quotes (e.g. `''' <code here in many lines> '''`, see example below).\n",
    "1. Outside the triple quotes, manually assign the values of `q5_1`, `q5_5`, and `q5_10` with the values of the last time you ran your code.\n",
    "\n",
    "Keep your code in your notebook so that it can be manually graded. But we do not want the autograder to timeout and therefore give you a 0."
   ]
  },
  {
   "cell_type": "code",
   "execution_count": 5,
   "metadata": {},
   "outputs": [
    {
     "data": {
      "text/html": [
       "<div>\n",
       "<style scoped>\n",
       "    .dataframe tbody tr th:only-of-type {\n",
       "        vertical-align: middle;\n",
       "    }\n",
       "\n",
       "    .dataframe tbody tr th {\n",
       "        vertical-align: top;\n",
       "    }\n",
       "\n",
       "    .dataframe thead th {\n",
       "        text-align: right;\n",
       "    }\n",
       "</style>\n",
       "<table border=\"1\" class=\"dataframe\">\n",
       "  <thead>\n",
       "    <tr style=\"text-align: right;\">\n",
       "      <th></th>\n",
       "      <th>state</th>\n",
       "      <th>d_percent</th>\n",
       "      <th>r_percent</th>\n",
       "      <th>ec_weight</th>\n",
       "    </tr>\n",
       "  </thead>\n",
       "  <tbody>\n",
       "    <tr>\n",
       "      <th>0</th>\n",
       "      <td>alabama</td>\n",
       "      <td>37</td>\n",
       "      <td>62</td>\n",
       "      <td>9</td>\n",
       "    </tr>\n",
       "    <tr>\n",
       "      <th>1</th>\n",
       "      <td>alaska</td>\n",
       "      <td>44</td>\n",
       "      <td>55</td>\n",
       "      <td>3</td>\n",
       "    </tr>\n",
       "    <tr>\n",
       "      <th>2</th>\n",
       "      <td>arizona</td>\n",
       "      <td>50</td>\n",
       "      <td>49</td>\n",
       "      <td>11</td>\n",
       "    </tr>\n",
       "    <tr>\n",
       "      <th>3</th>\n",
       "      <td>arkansas</td>\n",
       "      <td>35</td>\n",
       "      <td>64</td>\n",
       "      <td>6</td>\n",
       "    </tr>\n",
       "    <tr>\n",
       "      <th>4</th>\n",
       "      <td>california</td>\n",
       "      <td>64</td>\n",
       "      <td>35</td>\n",
       "      <td>55</td>\n",
       "    </tr>\n",
       "  </tbody>\n",
       "</table>\n",
       "</div>"
      ],
      "text/plain": [
       "        state  d_percent  r_percent  ec_weight\n",
       "0     alabama         37         62          9\n",
       "1      alaska         44         55          3\n",
       "2     arizona         50         49         11\n",
       "3    arkansas         35         64          6\n",
       "4  california         64         35         55"
      ]
     },
     "execution_count": 5,
     "metadata": {},
     "output_type": "execute_result"
    }
   ],
   "source": [
    "import pandas as pd\n",
    "polls = pd.read_csv(\"polls.csv\")\n",
    "polls.head()"
   ]
  },
  {
   "cell_type": "code",
   "execution_count": 7,
   "metadata": {
    "tags": []
   },
   "outputs": [],
   "source": [
    "import numpy as np\n",
    "\n",
    "# This is an example of convert code into a string so it is not run\n",
    "\n",
    "'''\n",
    "sig = np.array([1, 5, 10])\n",
    "num = len(polls[\"ec_weight\"])\n",
    "r = np.zeros((3,3))\n",
    "\n",
    "def who_win(d,r):\n",
    "    if d >= 270: return -1\n",
    "    if r >= 270: return 1\n",
    "    else: return 0\n",
    "    \n",
    "for i in range (3):\n",
    "    d_win = 0\n",
    "    r_win = 0\n",
    "    u_win = 0\n",
    "\n",
    "    for j in range (10000):\n",
    "        noise = np.random.normal(0, sig[i], num)\n",
    "        d_p = polls[\"d_percent\"] + noise\n",
    "        r_p = polls[\"r_percent\"] - noise\n",
    "        d_v = np.where(d_p > r_p, polls[\"ec_weight\"], 0)\n",
    "        d_total = np.sum(d_v)\n",
    "        r_v = np.where(r_p > d_p, polls[\"ec_weight\"], 0)\n",
    "        r_total = np.sum(r_v)\n",
    "\n",
    "        outcome = who_win(d_total,r_total)\n",
    "        if outcome == -1: d_win = d_win + 1\n",
    "        elif outcome == 1: r_win = r_win + 1\n",
    "        else: u_win = u_win + 1\n",
    "\n",
    "    r[i] = [d_win, r_win, u_win]\n",
    "\n",
    "\n",
    "q5_1 = r[0].tolist()\n",
    "q5_5 = r[1].tolist()\n",
    "q5_10 = r[2].tolist()\n",
    "'''\n",
    "\n",
    "# Leave these here for manual grading\n",
    "\n",
    "\n",
    "\n",
    "q5_1 = [9208, 631, 161]\n",
    "q5_5 = [8223, 1690, 87]\n",
    "q5_10 = [7441, 2482, 77]\n",
    "\n",
    "print(q5_1)\n",
    "print(q5_5)\n",
    "print(q5_10)"
   ]
  },
  {
   "cell_type": "markdown",
   "metadata": {},
   "source": [
    "_Type your answer here, replacing this text._"
   ]
  },
  {
   "cell_type": "markdown",
   "metadata": {},
   "source": [
    "<!-- END QUESTION -->\n",
    "\n",
    "## Submitting\n",
    "\n",
    "You should make sure any code that you write to answer the questions is included in this notebook. We recommend you go to the Kernel option and choose \\\"Restart & Run All.\\\" Double check that your entire notebook runs correctly and generates the expected output. Finally, make sure to save your work (timestamp at the top tells you the last checkpoint and whether there are unsaved changes). When you finish, submit your assignment at [Gradescope](http://gradescope.com/)."
   ]
  }
 ],
 "metadata": {
  "kernelspec": {
   "display_name": "Python 3",
   "language": "python",
   "name": "python3"
  },
  "language_info": {
   "codemirror_mode": {
    "name": "ipython",
    "version": 3
   },
   "file_extension": ".py",
   "mimetype": "text/x-python",
   "name": "python",
   "nbconvert_exporter": "python",
   "pygments_lexer": "ipython3",
   "version": "3.8.5"
  },
  "otter": {
   "OK_FORMAT": true,
   "tests": {
    "q1": {
     "name": "q1",
     "points": [
      0.5,
      0.5,
      1,
      0.5,
      0.5,
      1,
      0.5,
      0.5,
      1,
      0.5,
      0.5,
      1,
      0.5,
      0.5,
      1
     ],
     "suites": [
      {
       "cases": [
        {
         "code": ">>> isinstance(q1_1, float)\nTrue",
         "hidden": false,
         "locked": false
        },
        {
         "code": ">>> 0 < q1_1 < 1\nTrue",
         "hidden": false,
         "locked": false
        },
        {
         "code": ">>> from auto_checks import check_q1_1\n>>> check_q1_1(q1_1)\n'PASS'",
         "hidden": false,
         "locked": false
        },
        {
         "code": ">>> isinstance(q1_2, float)\nTrue",
         "hidden": false,
         "locked": false
        },
        {
         "code": ">>> 0 < q1_2 < 1\nTrue",
         "hidden": false,
         "locked": false
        },
        {
         "code": ">>> from auto_checks import check_q1_2\n>>> check_q1_2(q1_2)\n'PASS'",
         "hidden": false,
         "locked": false
        },
        {
         "code": ">>> isinstance(q1_3, float)\nTrue",
         "hidden": false,
         "locked": false
        },
        {
         "code": ">>> 0 < q1_3 < 1\nTrue",
         "hidden": false,
         "locked": false
        },
        {
         "code": ">>> from auto_checks import check_q1_3\n>>> check_q1_3(q1_3)\n'PASS'",
         "hidden": false,
         "locked": false
        },
        {
         "code": ">>> isinstance(q1_4, float)\nTrue",
         "hidden": false,
         "locked": false
        },
        {
         "code": ">>> 0 < q1_4< 1\nTrue",
         "hidden": false,
         "locked": false
        },
        {
         "code": ">>> from auto_checks import check_q1_4\n>>> check_q1_4(q1_4)\n'PASS'",
         "hidden": false,
         "locked": false
        },
        {
         "code": ">>> isinstance(q1_5, float)\nTrue",
         "hidden": false,
         "locked": false
        },
        {
         "code": ">>> 0 < q1_5 < 1\nTrue",
         "hidden": false,
         "locked": false
        },
        {
         "code": ">>> from auto_checks import check_q1_5\n>>> check_q1_5(q1_5)\n'PASS'",
         "hidden": false,
         "locked": false
        }
       ],
       "scored": true,
       "setup": "",
       "teardown": "",
       "type": "doctest"
      }
     ]
    },
    "q2": {
     "name": "q2",
     "points": [
      0.5,
      0.5,
      1,
      0.5,
      0.5,
      1,
      0.5,
      0.5,
      1
     ],
     "suites": [
      {
       "cases": [
        {
         "code": ">>> isinstance(q2_1, float)\nTrue",
         "hidden": false,
         "locked": false
        },
        {
         "code": ">>> 0 < q2_1 < 1\nTrue",
         "hidden": false,
         "locked": false
        },
        {
         "code": ">>> from auto_checks import check_q2_1\n>>> check_q2_1(q2_1)\n'PASS'",
         "hidden": false,
         "locked": false
        },
        {
         "code": ">>> isinstance(q2_2, float)\nTrue",
         "hidden": false,
         "locked": false
        },
        {
         "code": ">>> 0 < q2_2 < 1\nTrue",
         "hidden": false,
         "locked": false
        },
        {
         "code": ">>> from auto_checks import check_q2_2\n>>> check_q2_2(q2_2)\n'PASS'",
         "hidden": false,
         "locked": false
        },
        {
         "code": ">>> isinstance(q2_3, float)\nTrue",
         "hidden": false,
         "locked": false
        },
        {
         "code": ">>> 0 < q2_3 < 1\nTrue",
         "hidden": false,
         "locked": false
        },
        {
         "code": ">>> from auto_checks import check_q2_3\n>>> check_q2_3(q2_3)\n'PASS'",
         "hidden": false,
         "locked": false
        }
       ],
       "scored": true,
       "setup": "",
       "teardown": "",
       "type": "doctest"
      }
     ]
    },
    "q3": {
     "name": "q3",
     "points": [
      1,
      1,
      1,
      1
     ],
     "suites": [
      {
       "cases": [
        {
         "code": ">>> isinstance(q3_1, float)\nTrue",
         "hidden": false,
         "locked": false
        },
        {
         "code": ">>> from auto_checks import check_q3_1\n>>> check_q3_1(q3_1)\n'PASS'",
         "hidden": false,
         "locked": false
        },
        {
         "code": ">>> isinstance(q3_2, float)\nTrue",
         "hidden": false,
         "locked": false
        },
        {
         "code": ">>> from auto_checks import check_q3_2\n>>> check_q3_2(q3_2)\n'PASS'",
         "hidden": false,
         "locked": false
        }
       ],
       "scored": true,
       "setup": "",
       "teardown": "",
       "type": "doctest"
      }
     ]
    },
    "q4": {
     "name": "q4",
     "points": [
      0.5,
      0.5,
      1
     ],
     "suites": [
      {
       "cases": [
        {
         "code": ">>> isinstance(q4, int)\nTrue",
         "hidden": false,
         "locked": false
        },
        {
         "code": ">>> q4 > 0\nTrue",
         "hidden": false,
         "locked": false
        },
        {
         "code": ">>> from auto_checks import check_q4\n>>> check_q4(q4)\n'PASS'",
         "hidden": false,
         "locked": false
        }
       ],
       "scored": true,
       "setup": "",
       "teardown": "",
       "type": "doctest"
      }
     ]
    },
    "q5": {
     "name": "q5",
     "points": [
      0.5,
      0.5,
      1
     ],
     "suites": [
      {
       "cases": [
        {
         "code": ">>> set([isinstance(x, list) for x in [q5_1, q5_5, q5_10]]) == {True}\nTrue",
         "hidden": false,
         "locked": false
        },
        {
         "code": ">>> sum(q5_1) == sum(q5_5) == sum(q5_10) == 10000\nTrue",
         "hidden": false,
         "locked": false
        },
        {
         "code": ">>> from auto_checks import check_q5_order\n>>> check_q5_order(q5_1, q5_5, q5_10)\n'PASS'",
         "hidden": false,
         "locked": false
        }
       ],
       "scored": true,
       "setup": "",
       "teardown": "",
       "type": "doctest"
      }
     ]
    }
   }
  }
 },
 "nbformat": 4,
 "nbformat_minor": 4
}
