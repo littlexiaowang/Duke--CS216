{
 "cells": [
  {
   "cell_type": "markdown",
   "metadata": {},
   "source": [
    "# Homework 05\n",
    "\n",
    "In this exercise, you will practice inferential statistics with confidence intervals, bootstrapping, and hypothesis testing. Problems may involve a combination of math and code. \n",
    "\n",
    "Recall that you can use LaTeX to nicely format your math inside Markdown cellsby enclosing equations in single dollar signs (e.g., $x^2+4=8$) for inline math or double dollar signs for centered equations like $$P(X > 5) = \\frac{1}{6}.$$ For a reference if you are new to LaTeX, see the [overleaf documentation for mathematical expressions](https://www.overleaf.com/learn/latex/mathematical_expressions). **Please note that Gradescope currently does not render ```\\begin{align} ... \\end{align}``` and ```\\begin{equation} ... \\end{equation}```. Consider using ```\\begin{aligned} ... \\end{aligned}``` as an alternative to save the graders some hassle.**\n",
    "\n",
    "Show your work and/or briefly explain your answers. In general, you will not receive full credit for numeric answers with no accompanying work or justification (math, code, explanation). For numeric answers, we will accept answers that are very slightly off due to rounding, z score of 2 vs. 1.96, etc. \n",
    "\n",
    "When you finish please go to Kernel --> Restart and Run All, and then double check that your notebook looks correct before submitting your .ipynb file (the notebook file) on gradescope."
   ]
  },
  {
   "cell_type": "code",
   "execution_count": null,
   "metadata": {},
   "outputs": [],
   "source": [
    "# Run this code cell to import relevant libraries\n",
    "import numpy as np\n",
    "import pandas as pd\n",
    "from scipy import stats"
   ]
  },
  {
   "cell_type": "markdown",
   "metadata": {},
   "source": [
    "### Question 1\n",
    "\n",
    "1. A website is trying to increase registration for first-time visitors, exposing a random subset of these visitors to a new site design. Of $752$ randomly sampled visitors over a month who saw the new design, $64$ registered. Construct a $95\\%$ confidence interval for the percentage of visitors who would register for the website under the new design using the normal distribution. Save your answer in a tuple `q1_1` with two `numpy.float64` items that `q1_1[0]` is the left bound and `q1_1[1]` is the right bound. Use percentages for both bounds, for example, save $50.0$ in your answer for $50\\%$ of visitors.\n",
    "2. A study examined the average pay for a random sample of men and women entering the workforce as doctors for $21$ different positions. If each gender was equally paid, then we would expect about half of those positions to have men paid more than women and women would be paid more than men in the other half of positions. In the study, men were, on average, paid more in $17$ of the $21$ positions. Complete a hypothesis test using the normal distribution (two-sided or one-sided, just be clear which you are reporting) to examine whether there is significant evidence (at the $0.05$ level) of gender discrimination in pay in these positions. Report your p-value and interpret the result. Save your p-value in `q1_2` as a `numpy.float64` and interpret it in the **Answer 1.2** cell."
   ]
  },
  {
   "cell_type": "code",
   "execution_count": null,
   "metadata": {
    "tags": []
   },
   "outputs": [],
   "source": [
    "# Code for question 1\n",
    "# Leave these lines here for grading and ease of debugging\n",
    "print(q1_1)\n",
    "\n",
    "# Leave these lines here for grading and ease of debugging\n",
    "print(q1_2)"
   ]
  },
  {
   "cell_type": "markdown",
   "metadata": {},
   "source": [
    "### Answer 1.2\n",
    "Write your interpretation for 1.2 here. There is no need to write anything for 1.1."
   ]
  },
  {
   "cell_type": "markdown",
   "metadata": {},
   "source": [
    "_Type your answer here, replacing this text._"
   ]
  },
  {
   "cell_type": "markdown",
   "metadata": {},
   "source": [
    "<!-- END QUESTION -->\n",
    "\n",
    "## Movie Ratings Data\n",
    "In the remainder of this assignment you will work with the movielens dataset of movie ratings that we have seen before. Below we import and preview the data. It consists of 2 tables: `users` has a row for every individual who has rated any movies, `movie-ratings` has a row for every rating of a particular movie by a particular user. This means users with multiple ratings are in the `movie_ratings` multiple times. The data is a random sample of all of the movie ratings made on the movielens service."
   ]
  },
  {
   "cell_type": "code",
   "execution_count": null,
   "metadata": {},
   "outputs": [],
   "source": [
    "users = pd.read_csv(\"users.csv\")\n",
    "users.head()"
   ]
  },
  {
   "cell_type": "code",
   "execution_count": null,
   "metadata": {},
   "outputs": [],
   "source": [
    "movie_ratings = pd.read_csv(\"movies-all.csv\")\n",
    "movie_ratings.head()"
   ]
  },
  {
   "cell_type": "markdown",
   "metadata": {},
   "source": [
    "### Question 2\n",
    "1. Compute a $95\\%$ confidence interval for the mean `age` of users using the normal distribution. Save your answer in a tuple `q2_1` with two `numpy.float64` items that `q2_1[0]` is the left bound and `q2_1[1]` is the right bound.\n",
    "2. Compute a $95\\%$ confidence interval for the mean `age` of users who have rated the movie `Casablanca (1942)` using the normal distribution. Save your answer in `q2_2`, similar requirements as above.\n",
    "3. *Casablanca* is an old movie, one might suspect that it has been rated by older individuals on average than the entire dataset. Just looking at the confidence intervals you computed in steps 1 and 2, can you conclude that there is significant evidence for this belief? Why or why not? Put your answer in the **Answer 2.3** cell."
   ]
  },
  {
   "cell_type": "code",
   "execution_count": null,
   "metadata": {
    "tags": []
   },
   "outputs": [],
   "source": [
    "# Code for question 2\n",
    "# Leave these lines here for grading and ease of debugging\n",
    "print(q2_1)\n",
    "\n",
    "# Leave these lines here for grading and ease of debugging\n",
    "print(q2_2)"
   ]
  },
  {
   "cell_type": "markdown",
   "metadata": {},
   "source": [
    "### Answer 2.3\n",
    "Write your interpretation for 2.3 here. There is no need to write anything for 2.1 & 2.2."
   ]
  },
  {
   "cell_type": "markdown",
   "metadata": {},
   "source": [
    "_Type your answer here, replacing this text._"
   ]
  },
  {
   "cell_type": "markdown",
   "metadata": {},
   "source": [
    "<!-- END QUESTION -->\n",
    "\n",
    "### Question 3\n",
    "Only $18$ users have rated the movie `Lost in Space (1998)`.\n",
    "1. Use bootstrapping with $10000$ bootstrap resamples to compute a $95\\%$ confidence interval for the average `age` of users who have rated `Lost in Space (1998)`. Save your answer in a tuple `q3_1` with two `numpy.float64` items that `q3_1[0]` is the left bound and `q3_1[1]` is the right bound.\n",
    "2. One of the advantages of bootstrapping is that we can easily compute confidence intervals for arbitrary measurements of distributions. Use bootstrapping with $10000$ bootstrap resamples to compute a $95\\%$ confidence interval for the **median** `rating` of `Lost in Space (1998)`. Note that numpy provides a vectorized function for [calculating the median](https://numpy.org/doc/stable/reference/generated/numpy.median.html) as well as the mean. Save your answer in a tuple `q3_2` with two `numpy.float64` items. Similar requirements as above."
   ]
  },
  {
   "cell_type": "code",
   "execution_count": null,
   "metadata": {
    "tags": []
   },
   "outputs": [],
   "source": [
    "# Code for question 3\n",
    "# Leave these lines here for grading and ease of debugging\n",
    "print(q3_1)\n",
    "\n",
    "# Leave these lines here for grading and ease of debugging\n",
    "print(q3_2)"
   ]
  },
  {
   "cell_type": "markdown",
   "metadata": {},
   "source": [
    "### Question 4\n",
    "The `Star Wars (1977)` film is quite popular, with a median rating of `5` out of $5$. However, of those that left a rating, male users gave it a slightly higher average rating of about $4.4$ whereas female users gave the same movie an average rating of about $4.2$.\n",
    "\n",
    "1. Consider the null hypothesis that the average rating of `Star Wars (1977)` is the same for `sex='F'` and `sex='M'` users. The alternative hypothesis is that the average ratings are not equal. Conduct a two-sided t test using [`stats.ttest_ind`](https://docs.scipy.org/doc/scipy/reference/generated/scipy.stats.ttest_ind.html) to evaluate this using the sample ratings data. Report your p-value and interpret it at a significance level of $0.05$. Save your p-value in `q4_1` as a `numpy.float64` and interpret it in the **Answer 4** cell.\n",
    "\n",
    "2. Consider the null hypothesis that $51\\%$ of men would rate `Star Wars (1977)` a `5`. Conduct a two-sided hypothesis test using [`stats.t.cdf`](https://docs.scipy.org/doc/scipy/reference/generated/scipy.stats.t.html) to evaluate this in light of the sample ratings data of male users who rated `Star Wars (1977)`. Report your p-value and interpret it at a significance level of $0.05$. Save your p-value in `q4_2` as a `numpy.float64` and interpret it in the **Answer 4** cell.\n",
    "\n",
    "3. Consider the null hypothesis that women and men were equally likely to rate `Star Wars (1977)` a `5`. Conduct a two-sided t test using [`stats.ttest_ind_from_stats`](https://docs.scipy.org/doc/scipy/reference/generated/scipy.stats.ttest_ind_from_stats.html) to evaluate this in light of the sample data of female and male users who rated `Star Wars (1977)`. Report your p-value and interpret it at a significance level of $0.05$. Save your p-value in `q4_3` as a `numpy.float64` and interpret it in the **Answer 4** cell. You should observe a different p-value than in step 2 despite the hypotheses under consideration being ostensibly similar. Briefly explain why you observe this difference."
   ]
  },
  {
   "cell_type": "code",
   "execution_count": null,
   "metadata": {
    "tags": []
   },
   "outputs": [],
   "source": [
    "# Code for question 4\n",
    "# Leave these lines here for grading and ease of debugging\n",
    "print(q4_1)\n",
    "\n",
    "# Leave these lines here for grading and ease of debugging\n",
    "print(q4_2)\n",
    "\n",
    "# Leave these lines here for grading and ease of debugging\n",
    "print(q4_3)"
   ]
  },
  {
   "cell_type": "markdown",
   "metadata": {},
   "source": [
    "### Answer 4"
   ]
  },
  {
   "cell_type": "markdown",
   "metadata": {},
   "source": [
    "_Type your answer here, replacing this text._"
   ]
  },
  {
   "cell_type": "markdown",
   "metadata": {},
   "source": [
    "<!-- END QUESTION -->\n",
    "\n",
    "## Submitting\n",
    "\n",
    "You should make sure any code that you write to answer the questions is included in this notebook. We recommend you go to the Kernel option and choose \\\"Restart & Run All.\\\" Double check that your entire notebook runs correctly and generates the expected output. Finally, make sure to save your work (timestamp at the top tells you the last checkpoint and whether there are unsaved changes). When you finish, submit your assignment at [Gradescope](http://gradescope.com/)."
   ]
  }
 ],
 "metadata": {
  "kernelspec": {
   "display_name": "Python 3 (ipykernel)",
   "language": "python",
   "name": "python3"
  },
  "language_info": {
   "codemirror_mode": {
    "name": "ipython",
    "version": 3
   },
   "file_extension": ".py",
   "mimetype": "text/x-python",
   "name": "python",
   "nbconvert_exporter": "python",
   "pygments_lexer": "ipython3",
   "version": "3.9.12"
  },
  "otter": {
   "OK_FORMAT": true,
   "tests": {
    "q1": {
     "name": "q1",
     "points": [
      1,
      1,
      2,
      1,
      1
     ],
     "suites": [
      {
       "cases": [
        {
         "code": ">>> isinstance(q1_1, tuple)\nTrue",
         "hidden": false,
         "locked": false
        },
        {
         "code": ">>> # Looks like you might not have multiplied your confidence interval by 100.\n>>> [v >= 1 and v <= 100 for v in q1_1]\n[True, True]",
         "hidden": false,
         "locked": false
        },
        {
         "code": ">>> from auto_checks import check_q1_1\n>>> check_q1_1(q1_1)\n'PASS'",
         "hidden": false,
         "locked": false
        },
        {
         "code": ">>> import numpy\n>>> isinstance(q1_2, numpy.float64) or isinstance(q1_2, float)\nTrue",
         "hidden": false,
         "locked": false
        },
        {
         "code": ">>> from auto_checks import check_q1_2\n>>> check_q1_2(q1_2)\n'PASS'",
         "hidden": false,
         "locked": false
        }
       ],
       "scored": true,
       "setup": "",
       "teardown": "",
       "type": "doctest"
      }
     ]
    },
    "q2": {
     "name": "q2",
     "points": [
      1,
      1,
      2,
      1,
      1,
      2
     ],
     "suites": [
      {
       "cases": [
        {
         "code": ">>> isinstance(q2_1, tuple)\nTrue",
         "hidden": false,
         "locked": false
        },
        {
         "code": ">>> [v >= 1 and v <= 100 for v in q2_1]\n[True, True]",
         "hidden": false,
         "locked": false
        },
        {
         "code": ">>> from auto_checks import check_q2_1\n>>> check_q2_1(q2_1)\n'PASS'",
         "hidden": false,
         "locked": false
        },
        {
         "code": ">>> isinstance(q2_2, tuple)\nTrue",
         "hidden": false,
         "locked": false
        },
        {
         "code": ">>> [v >= 1 and v <= 100 for v in q2_2]\n[True, True]",
         "hidden": false,
         "locked": false
        },
        {
         "code": ">>> from auto_checks import check_q2_2\n>>> check_q2_2(q2_2)\n'PASS'",
         "hidden": false,
         "locked": false
        }
       ],
       "scored": true,
       "setup": "",
       "teardown": "",
       "type": "doctest"
      }
     ]
    },
    "q3": {
     "name": "q3",
     "points": [
      1,
      1,
      2,
      1,
      1,
      2
     ],
     "suites": [
      {
       "cases": [
        {
         "code": ">>> isinstance(q3_1, tuple)\nTrue",
         "hidden": false,
         "locked": false
        },
        {
         "code": ">>> [v >= 1 and v <= 100 for v in q3_1]\n[True, True]",
         "hidden": false,
         "locked": false
        },
        {
         "code": ">>> from auto_checks import check_q3_1\n>>> check_q3_1(q3_1)\n'PASS'",
         "hidden": false,
         "locked": false
        },
        {
         "code": ">>> isinstance(q3_2, tuple)\nTrue",
         "hidden": false,
         "locked": false
        },
        {
         "code": ">>> [v >= 0 and v <= 5 for v in q3_2]\n[True, True]",
         "hidden": false,
         "locked": false
        },
        {
         "code": ">>> from auto_checks import check_q3_2\n>>> check_q3_2(q3_2)\n'PASS'",
         "hidden": false,
         "locked": false
        }
       ],
       "scored": true,
       "setup": "",
       "teardown": "",
       "type": "doctest"
      }
     ]
    },
    "q4": {
     "name": "q4",
     "points": [
      1,
      1,
      1,
      1,
      1,
      1
     ],
     "suites": [
      {
       "cases": [
        {
         "code": ">>> import numpy\n>>> isinstance(q4_1, numpy.float64) or isinstance(q4_1, float)\nTrue",
         "hidden": false,
         "locked": false
        },
        {
         "code": ">>> from auto_checks import check_q4_1\n>>> check_q4_1(q4_1)\n'PASS'",
         "hidden": false,
         "locked": false
        },
        {
         "code": ">>> import numpy\n>>> isinstance(q4_2, numpy.float64) or isinstance(q4_2, float)\nTrue",
         "hidden": false,
         "locked": false
        },
        {
         "code": ">>> from auto_checks import check_q4_2\n>>> check_q4_2(q4_2)\n'PASS'",
         "hidden": false,
         "locked": false
        },
        {
         "code": ">>> import numpy\n>>> isinstance(q4_3, numpy.float64) or isinstance(q4_3, float)\nTrue",
         "hidden": false,
         "locked": false
        },
        {
         "code": ">>> from auto_checks import check_q4_3\n>>> check_q4_3(q4_3)\n'PASS'",
         "hidden": false,
         "locked": false
        }
       ],
       "scored": true,
       "setup": "",
       "teardown": "",
       "type": "doctest"
      }
     ]
    }
   }
  }
 },
 "nbformat": 4,
 "nbformat_minor": 4
}
