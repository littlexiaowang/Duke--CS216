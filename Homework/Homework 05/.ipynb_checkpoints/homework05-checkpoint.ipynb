{
 "cells": [
  {
   "cell_type": "markdown",
   "metadata": {},
   "source": [
    "# Homework 05\n",
    "\n",
    "In this exercise, you will practice inferential statistics with confidence intervals, bootstrapping, and hypothesis testing. Problems may involve a combination of math and code. \n",
    "\n",
    "Recall that you can use LaTeX to nicely format your math inside Markdown cellsby enclosing equations in single dollar signs (e.g., $x^2+4=8$) for inline math or double dollar signs for centered equations like $$P(X > 5) = \\frac{1}{6}.$$ For a reference if you are new to LaTeX, see the [overleaf documentation for mathematical expressions](https://www.overleaf.com/learn/latex/mathematical_expressions). **Please note that Gradescope currently does not render ```\\begin{align} ... \\end{align}``` and ```\\begin{equation} ... \\end{equation}```. Consider using ```\\begin{aligned} ... \\end{aligned}``` as an alternative to save the graders some hassle.**\n",
    "\n",
    "Show your work and/or briefly explain your answers. In general, you will not receive full credit for numeric answers with no accompanying work or justification (math, code, explanation). For numeric answers, we will accept answers that are very slightly off due to rounding, z score of 2 vs. 1.96, etc. \n",
    "\n",
    "When you finish please go to Kernel --> Restart and Run All, and then double check that your notebook looks correct before submitting your .ipynb file (the notebook file) on gradescope."
   ]
  },
  {
   "cell_type": "code",
   "execution_count": 2,
   "metadata": {},
   "outputs": [],
   "source": [
    "# Run this code cell to import relevant libraries\n",
    "import numpy as np\n",
    "import pandas as pd\n",
    "from scipy import stats"
   ]
  },
  {
   "cell_type": "markdown",
   "metadata": {},
   "source": [
    "### Question 1\n",
    "\n",
    "1. A website is trying to increase registration for first-time visitors, exposing a random subset of these visitors to a new site design. Of $752$ randomly sampled visitors over a month who saw the new design, $64$ registered. Construct a $95\\%$ confidence interval for the percentage of visitors who would register for the website under the new design using the normal distribution. Save your answer in a tuple `q1_1` with two `numpy.float64` items that `q1_1[0]` is the left bound and `q1_1[1]` is the right bound. Use percentages for both bounds, for example, save $50.0$ in your answer for $50\\%$ of visitors.\n",
    "2. A study examined the average pay for a random sample of men and women entering the workforce as doctors for $21$ different positions. If each gender was equally paid, then we would expect about half of those positions to have men paid more than women and women would be paid more than men in the other half of positions. In the study, men were, on average, paid more in $17$ of the $21$ positions. Complete a hypothesis test using the normal distribution (two-sided or one-sided, just be clear which you are reporting) to examine whether there is significant evidence (at the $0.05$ level) of gender discrimination in pay in these positions. Report your p-value and interpret the result. Save your p-value in `q1_2` as a `numpy.float64` and interpret it in the **Answer 1.2** cell."
   ]
  },
  {
   "cell_type": "code",
   "execution_count": 5,
   "metadata": {
    "tags": []
   },
   "outputs": [
    {
     "name": "stdout",
     "output_type": "stream",
     "text": [
      "(6.516269200219607, 10.505007395525073)\n",
      "0.0022781749015925445\n"
     ]
    }
   ],
   "source": [
    "# Code for question 1\n",
    "E = 64 / 752\n",
    "var = E - E**2\n",
    "\n",
    "q1_1 = stats.norm.interval(alpha=0.95, loc=64/752*100, scale=np.sqrt(var)/np.sqrt(752)*100)\n",
    "\n",
    "# Leave these lines here for grading and ease of debugging\n",
    "print(q1_1)\n",
    "\n",
    "z_score=np.sqrt(21)*((17/21-0.5)/0.5)\n",
    "\n",
    "q1_2 = 1 - stats.norm.cdf(z_score)\n",
    "# Leave these lines here for grading and ease of debugging\n",
    "print(q1_2)"
   ]
  },
  {
   "cell_type": "markdown",
   "metadata": {},
   "source": [
    "### Answer 1.2\n",
    "Write your interpretation for 1.2 here. There is no need to write anything for 1.1."
   ]
  },
  {
   "cell_type": "markdown",
   "metadata": {},
   "source": [
    "Null hypothesis $H_0$: there is no significant difference.\n",
    "\n",
    "Alternative hyposis $H_a$: there is significant difference.\n",
    "\n",
    "Using central limit theorem: $$\\begin{aligned} \\sqrt n \\frac{(\\overline X_n - \\mu)}{\\sigma} &\\sim N(0,1)  \\\\ \\sqrt {21} \\frac{(17 \\div 21 - 0.5)}{0.5} &\\sim N(0,1) \\\\ 2.8366 &\\sim N(0,1)\\end{aligned}$$\n",
    "\n",
    "Then, we should use the method `stats.norm.cdf` to calculate the one-sided $p-value$, and we find that the result is 0.0023, and the two-sided $p-value$ is 0.0046, which is far less than 0.05.\n",
    "Therefore, we reject H_0, the null hypothesis, and we accept the alternative hypothesis H_a"
   ]
  },
  {
   "cell_type": "markdown",
   "metadata": {},
   "source": [
    "<!-- END QUESTION -->\n",
    "\n",
    "## Movie Ratings Data\n",
    "In the remainder of this assignment you will work with the movielens dataset of movie ratings that we have seen before. Below we import and preview the data. It consists of 2 tables: `users` has a row for every individual who has rated any movies, `movie-ratings` has a row for every rating of a particular movie by a particular user. This means users with multiple ratings are in the `movie_ratings` multiple times. The data is a random sample of all of the movie ratings made on the movielens service."
   ]
  },
  {
   "cell_type": "code",
   "execution_count": 6,
   "metadata": {},
   "outputs": [
    {
     "data": {
      "text/html": [
       "<div>\n",
       "<style scoped>\n",
       "    .dataframe tbody tr th:only-of-type {\n",
       "        vertical-align: middle;\n",
       "    }\n",
       "\n",
       "    .dataframe tbody tr th {\n",
       "        vertical-align: top;\n",
       "    }\n",
       "\n",
       "    .dataframe thead th {\n",
       "        text-align: right;\n",
       "    }\n",
       "</style>\n",
       "<table border=\"1\" class=\"dataframe\">\n",
       "  <thead>\n",
       "    <tr style=\"text-align: right;\">\n",
       "      <th></th>\n",
       "      <th>user_id</th>\n",
       "      <th>age</th>\n",
       "      <th>sex</th>\n",
       "      <th>occupation</th>\n",
       "    </tr>\n",
       "  </thead>\n",
       "  <tbody>\n",
       "    <tr>\n",
       "      <th>0</th>\n",
       "      <td>1</td>\n",
       "      <td>24</td>\n",
       "      <td>M</td>\n",
       "      <td>technician</td>\n",
       "    </tr>\n",
       "    <tr>\n",
       "      <th>1</th>\n",
       "      <td>2</td>\n",
       "      <td>53</td>\n",
       "      <td>F</td>\n",
       "      <td>other</td>\n",
       "    </tr>\n",
       "    <tr>\n",
       "      <th>2</th>\n",
       "      <td>3</td>\n",
       "      <td>23</td>\n",
       "      <td>M</td>\n",
       "      <td>writer</td>\n",
       "    </tr>\n",
       "    <tr>\n",
       "      <th>3</th>\n",
       "      <td>4</td>\n",
       "      <td>24</td>\n",
       "      <td>M</td>\n",
       "      <td>technician</td>\n",
       "    </tr>\n",
       "    <tr>\n",
       "      <th>4</th>\n",
       "      <td>5</td>\n",
       "      <td>33</td>\n",
       "      <td>F</td>\n",
       "      <td>other</td>\n",
       "    </tr>\n",
       "  </tbody>\n",
       "</table>\n",
       "</div>"
      ],
      "text/plain": [
       "   user_id  age sex  occupation\n",
       "0        1   24   M  technician\n",
       "1        2   53   F       other\n",
       "2        3   23   M      writer\n",
       "3        4   24   M  technician\n",
       "4        5   33   F       other"
      ]
     },
     "execution_count": 6,
     "metadata": {},
     "output_type": "execute_result"
    }
   ],
   "source": [
    "users = pd.read_csv(\"users.csv\")\n",
    "users.head()"
   ]
  },
  {
   "cell_type": "code",
   "execution_count": 7,
   "metadata": {},
   "outputs": [
    {
     "data": {
      "text/html": [
       "<div>\n",
       "<style scoped>\n",
       "    .dataframe tbody tr th:only-of-type {\n",
       "        vertical-align: middle;\n",
       "    }\n",
       "\n",
       "    .dataframe tbody tr th {\n",
       "        vertical-align: top;\n",
       "    }\n",
       "\n",
       "    .dataframe thead th {\n",
       "        text-align: right;\n",
       "    }\n",
       "</style>\n",
       "<table border=\"1\" class=\"dataframe\">\n",
       "  <thead>\n",
       "    <tr style=\"text-align: right;\">\n",
       "      <th></th>\n",
       "      <th>user_id</th>\n",
       "      <th>age</th>\n",
       "      <th>sex</th>\n",
       "      <th>occupation</th>\n",
       "      <th>movie_id</th>\n",
       "      <th>rating</th>\n",
       "      <th>movie_title</th>\n",
       "    </tr>\n",
       "  </thead>\n",
       "  <tbody>\n",
       "    <tr>\n",
       "      <th>0</th>\n",
       "      <td>1</td>\n",
       "      <td>24</td>\n",
       "      <td>M</td>\n",
       "      <td>technician</td>\n",
       "      <td>61</td>\n",
       "      <td>4</td>\n",
       "      <td>Three Colors: White (1994)</td>\n",
       "    </tr>\n",
       "    <tr>\n",
       "      <th>1</th>\n",
       "      <td>13</td>\n",
       "      <td>47</td>\n",
       "      <td>M</td>\n",
       "      <td>educator</td>\n",
       "      <td>61</td>\n",
       "      <td>4</td>\n",
       "      <td>Three Colors: White (1994)</td>\n",
       "    </tr>\n",
       "    <tr>\n",
       "      <th>2</th>\n",
       "      <td>18</td>\n",
       "      <td>35</td>\n",
       "      <td>F</td>\n",
       "      <td>other</td>\n",
       "      <td>61</td>\n",
       "      <td>4</td>\n",
       "      <td>Three Colors: White (1994)</td>\n",
       "    </tr>\n",
       "    <tr>\n",
       "      <th>3</th>\n",
       "      <td>58</td>\n",
       "      <td>27</td>\n",
       "      <td>M</td>\n",
       "      <td>programmer</td>\n",
       "      <td>61</td>\n",
       "      <td>5</td>\n",
       "      <td>Three Colors: White (1994)</td>\n",
       "    </tr>\n",
       "    <tr>\n",
       "      <th>4</th>\n",
       "      <td>59</td>\n",
       "      <td>49</td>\n",
       "      <td>M</td>\n",
       "      <td>educator</td>\n",
       "      <td>61</td>\n",
       "      <td>4</td>\n",
       "      <td>Three Colors: White (1994)</td>\n",
       "    </tr>\n",
       "  </tbody>\n",
       "</table>\n",
       "</div>"
      ],
      "text/plain": [
       "   user_id  age sex  occupation  movie_id  rating                 movie_title\n",
       "0        1   24   M  technician        61       4  Three Colors: White (1994)\n",
       "1       13   47   M    educator        61       4  Three Colors: White (1994)\n",
       "2       18   35   F       other        61       4  Three Colors: White (1994)\n",
       "3       58   27   M  programmer        61       5  Three Colors: White (1994)\n",
       "4       59   49   M    educator        61       4  Three Colors: White (1994)"
      ]
     },
     "execution_count": 7,
     "metadata": {},
     "output_type": "execute_result"
    }
   ],
   "source": [
    "movie_ratings = pd.read_csv(\"movies-all.csv\")\n",
    "movie_ratings.head()"
   ]
  },
  {
   "cell_type": "markdown",
   "metadata": {},
   "source": [
    "### Question 2\n",
    "1. Compute a $95\\%$ confidence interval for the mean `age` of users using the normal distribution. Save your answer in a tuple `q2_1` with two `numpy.float64` items that `q2_1[0]` is the left bound and `q2_1[1]` is the right bound.\n",
    "2. Compute a $95\\%$ confidence interval for the mean `age` of users who have rated the movie `Casablanca (1942)` using the normal distribution. Save your answer in `q2_2`, similar requirements as above.\n",
    "3. *Casablanca* is an old movie, one might suspect that it has been rated by older individuals on average than the entire dataset. Just looking at the confidence intervals you computed in steps 1 and 2, can you conclude that there is significant evidence for this belief? Why or why not? Put your answer in the **Answer 2.3** cell."
   ]
  },
  {
   "cell_type": "code",
   "execution_count": 8,
   "metadata": {
    "tags": []
   },
   "outputs": [
    {
     "name": "stdout",
     "output_type": "stream",
     "text": [
      "(33.27417039488504, 34.829753253047095)\n",
      "(34.46345637868268, 37.330782304444895)\n"
     ]
    }
   ],
   "source": [
    "# Code for question 2\n",
    "m1=np.mean(users[\"age\"])\n",
    "sig1=np.std(users[\"age\"])\n",
    "n=len(users[\"age\"])\n",
    "q2_1=stats.norm.interval(alpha=0.95, loc=m1, scale=sig1/np.sqrt(n))\n",
    "# Leave these lines here for grading and ease of debugging\n",
    "print(q2_1)\n",
    "\n",
    "cas=movie_ratings[movie_ratings[\"movie_title\"]==\"Casablanca (1942)\"]\n",
    "m2=np.mean(cas[\"age\"])\n",
    "sig2=np.std(cas[\"age\"])\n",
    "n2=len(cas[\"age\"])\n",
    "q2_2=stats.norm.interval(alpha=0.95, loc=m2, scale=sig2/np.sqrt(n2))\n",
    "# Leave these lines here for grading and ease of debugging\n",
    "print(q2_2)"
   ]
  },
  {
   "cell_type": "markdown",
   "metadata": {},
   "source": [
    "### Answer 2.3\n",
    "Write your interpretation for 2.3 here. There is no need to write anything for 2.1 & 2.2."
   ]
  },
  {
   "cell_type": "markdown",
   "metadata": {},
   "source": [
    "Confidence interval of $95 \\%$ means that we estimate the mean within the interval with $95 \\%$ probability. \n",
    "There is not significant evidence for this belief because the distance between two intervals is not that big.\n",
    "Further calculation like ttest is needed to conlude that."
   ]
  },
  {
   "cell_type": "markdown",
   "metadata": {},
   "source": [
    "<!-- END QUESTION -->\n",
    "\n",
    "### Question 3\n",
    "Only $18$ users have rated the movie `Lost in Space (1998)`.\n",
    "1. Use bootstrapping with $10000$ bootstrap resamples to compute a $95\\%$ confidence interval for the average `age` of users who have rated `Lost in Space (1998)`. Save your answer in a tuple `q3_1` with two `numpy.float64` items that `q3_1[0]` is the left bound and `q3_1[1]` is the right bound.\n",
    "2. One of the advantages of bootstrapping is that we can easily compute confidence intervals for arbitrary measurements of distributions. Use bootstrapping with $10000$ bootstrap resamples to compute a $95\\%$ confidence interval for the **median** `rating` of `Lost in Space (1998)`. Note that numpy provides a vectorized function for [calculating the median](https://numpy.org/doc/stable/reference/generated/numpy.median.html) as well as the mean. Save your answer in a tuple `q3_2` with two `numpy.float64` items. Similar requirements as above."
   ]
  },
  {
   "cell_type": "code",
   "execution_count": 9,
   "metadata": {
    "tags": []
   },
   "outputs": [
    {
     "name": "stdout",
     "output_type": "stream",
     "text": [
      "(26.0, 36.72222222222222)\n",
      "(2.5, 4.0)\n"
     ]
    }
   ],
   "source": [
    "# Code for question 3\n",
    "# Leave these lines here for grading and ease of debugging\n",
    "sample1=movie_ratings[movie_ratings[\"movie_title\"]==\"Lost in Space (1998)\"][\"age\"].to_numpy()\n",
    "bootstrap_sample1=np.random.choice(sample1, size=(10000, len(sample1)), replace=True)\n",
    "sampling_means=np.average(bootstrap_sample1, axis=1)\n",
    "bootstrap_ci_l1=np.percentile(sampling_means, 2.5)\n",
    "bootstrap_ci_r1=np.percentile(sampling_means, 97.5)\n",
    "q3_1=(bootstrap_ci_l1, bootstrap_ci_r1)\n",
    "print(q3_1)\n",
    "\n",
    "sample2=movie_ratings[movie_ratings[\"movie_title\"]==\"Lost in Space (1998)\"][\"rating\"].to_numpy()\n",
    "bootstrap_sample2=np.random.choice(sample2, size=(10000, len(sample2)),replace=True)\n",
    "sampling_medians=np.median(bootstrap_sample2, axis=1)\n",
    "bootstrap_ci_l2=np.percentile(sampling_medians, 2.5)\n",
    "bootstrap_ci_r2=np.percentile(sampling_medians, 97.5)\n",
    "q3_2=(bootstrap_ci_l2, bootstrap_ci_r2)\n",
    "# Leave these lines here for grading and ease of debugging\n",
    "print(q3_2)"
   ]
  },
  {
   "cell_type": "markdown",
   "metadata": {},
   "source": [
    "### Question 4\n",
    "The `Star Wars (1977)` film is quite popular, with a median rating of `5` out of $5$. However, of those that left a rating, male users gave it a slightly higher average rating of about $4.4$ whereas female users gave the same movie an average rating of about $4.2$.\n",
    "\n",
    "1. Consider the null hypothesis that the average rating of `Star Wars (1977)` is the same for `sex='F'` and `sex='M'` users. The alternative hypothesis is that the average ratings are not equal. Conduct a two-sided t test using [`stats.ttest_ind`](https://docs.scipy.org/doc/scipy/reference/generated/scipy.stats.ttest_ind.html) to evaluate this using the sample ratings data. Report your p-value and interpret it at a significance level of $0.05$. Save your p-value in `q4_1` as a `numpy.float64` and interpret it in the **Answer 4** cell.\n",
    "\n",
    "2. Consider the null hypothesis that $51\\%$ of men would rate `Star Wars (1977)` a `5`. Conduct a two-sided hypothesis test using [`stats.t.cdf`](https://docs.scipy.org/doc/scipy/reference/generated/scipy.stats.t.html) to evaluate this in light of the sample ratings data of male users who rated `Star Wars (1977)`. Report your p-value and interpret it at a significance level of $0.05$. Save your p-value in `q4_2` as a `numpy.float64` and interpret it in the **Answer 4** cell.\n",
    "\n",
    "3. Consider the null hypothesis that women and men were equally likely to rate `Star Wars (1977)` a `5`. Conduct a two-sided t test using [`stats.ttest_ind_from_stats`](https://docs.scipy.org/doc/scipy/reference/generated/scipy.stats.ttest_ind_from_stats.html) to evaluate this in light of the sample data of female and male users who rated `Star Wars (1977)`. Report your p-value and interpret it at a significance level of $0.05$. Save your p-value in `q4_3` as a `numpy.float64` and interpret it in the **Answer 4** cell. You should observe a different p-value than in step 2 despite the hypotheses under consideration being ostensibly similar. Briefly explain why you observe this difference."
   ]
  },
  {
   "cell_type": "code",
   "execution_count": 10,
   "metadata": {
    "tags": []
   },
   "outputs": [
    {
     "name": "stdout",
     "output_type": "stream",
     "text": [
      "0.06606506021398857\n",
      "0.008010296971218134\n",
      "0.1717837459146108\n"
     ]
    }
   ],
   "source": [
    "# Code for question 4\n",
    "sw=movie_ratings[movie_ratings[\"movie_title\"]==\"Star Wars (1977)\"]\n",
    "m=sw[sw[\"sex\"]==\"M\"]\n",
    "f=sw[sw[\"sex\"]==\"F\"]\n",
    "m_ratings=m[\"rating\"].to_numpy().tolist()\n",
    "f_ratings=f[\"rating\"].to_numpy().tolist()\n",
    "f_pct=len(f[f[\"rating\"]==5])/len(f)\n",
    "m_pct=len(m[m[\"rating\"]==5])/len(m)\n",
    "t_score=np.sqrt(len(m))*abs(m_pct-0.51)/(np.sqrt(0.51*0.49))\n",
    "q4_1=stats.ttest_ind(m_ratings, f_ratings)[1]\n",
    "q4_2=(1-stats.t.cdf(t_score, len(m)-1))*2\n",
    "q4_3=stats.ttest_ind_from_stats(mean1=m_pct, std1=np.sqrt(m_pct*(1-m_pct)), nobs1=len(m), mean2=f_pct, std2=np.sqrt(f_pct*(1-f_pct)), nobs2=len(f))[1]\n",
    "# Leave these lines here for grading and ease of debugging\n",
    "print(q4_1)\n",
    "\n",
    "# Leave these lines here for grading and ease of debugging\n",
    "print(q4_2)\n",
    "\n",
    "# Leave these lines here for grading and ease of debugging\n",
    "print(q4_3)"
   ]
  },
  {
   "cell_type": "markdown",
   "metadata": {},
   "source": [
    "### Answer 4"
   ]
  },
  {
   "cell_type": "markdown",
   "metadata": {},
   "source": [
    "4.1\n",
    "\n",
    "The null hypothesis $H_0$: \"man and woman have equal average ratings\".\n",
    "\n",
    "The alternative hypothesis $H_1$: \"man and woman do not have equal average ratings\".\n",
    "\n",
    "P-value equals to 0.066, greater than 0.05, so we cannot reject $H_0$. Therefore, the average rating is same for men and women users.\n",
    "\n",
    "4.2\n",
    "\n",
    "The null hypothesis $H_0$: \"rate of man to rate 5 for Star Wars equal to $51\\%$\".\n",
    "\n",
    "The alternative hypothesis $H_1$: \"rate of man to rate 5 for Star Wars not equal to $51\\%$\".\n",
    "\n",
    "P-value equals to 0.008, less than 0.05, so we reject $H_0$. Therefore, the percentage of rating 5 for men does not equal to 51\n",
    "\n",
    "4.3\n",
    "\n",
    "The null hypothesis $H_0$: \"man and woman have equal rates to rate 5 for Star Wars\".\n",
    "\n",
    "The alternative hypothesis $H_1$ is \"man and woman do not have equal rates to rate 5 for Star Wars\".\n",
    "\n",
    "P-value equals to 0.172, greater than 0.05, so we cannot reject $H_0$. Therefore, women and men are equally likely to rate a 5."
   ]
  },
  {
   "cell_type": "markdown",
   "metadata": {},
   "source": [
    "<!-- END QUESTION -->\n",
    "\n",
    "## Submitting\n",
    "\n",
    "You should make sure any code that you write to answer the questions is included in this notebook. We recommend you go to the Kernel option and choose \\\"Restart & Run All.\\\" Double check that your entire notebook runs correctly and generates the expected output. Finally, make sure to save your work (timestamp at the top tells you the last checkpoint and whether there are unsaved changes). When you finish, submit your assignment at [Gradescope](http://gradescope.com/)."
   ]
  }
 ],
 "metadata": {
  "kernelspec": {
   "display_name": "Python 3",
   "language": "python",
   "name": "python3"
  },
  "language_info": {
   "codemirror_mode": {
    "name": "ipython",
    "version": 3
   },
   "file_extension": ".py",
   "mimetype": "text/x-python",
   "name": "python",
   "nbconvert_exporter": "python",
   "pygments_lexer": "ipython3",
   "version": "3.8.5"
  },
  "otter": {
   "OK_FORMAT": true,
   "tests": {
    "q1": {
     "name": "q1",
     "points": [
      1,
      1,
      2,
      1,
      1
     ],
     "suites": [
      {
       "cases": [
        {
         "code": ">>> isinstance(q1_1, tuple)\nTrue",
         "hidden": false,
         "locked": false
        },
        {
         "code": ">>> # Looks like you might not have multiplied your confidence interval by 100.\n>>> [v >= 1 and v <= 100 for v in q1_1]\n[True, True]",
         "hidden": false,
         "locked": false
        },
        {
         "code": ">>> from auto_checks import check_q1_1\n>>> check_q1_1(q1_1)\n'PASS'",
         "hidden": false,
         "locked": false
        },
        {
         "code": ">>> import numpy\n>>> isinstance(q1_2, numpy.float64) or isinstance(q1_2, float)\nTrue",
         "hidden": false,
         "locked": false
        },
        {
         "code": ">>> from auto_checks import check_q1_2\n>>> check_q1_2(q1_2)\n'PASS'",
         "hidden": false,
         "locked": false
        }
       ],
       "scored": true,
       "setup": "",
       "teardown": "",
       "type": "doctest"
      }
     ]
    },
    "q2": {
     "name": "q2",
     "points": [
      1,
      1,
      2,
      1,
      1,
      2
     ],
     "suites": [
      {
       "cases": [
        {
         "code": ">>> isinstance(q2_1, tuple)\nTrue",
         "hidden": false,
         "locked": false
        },
        {
         "code": ">>> [v >= 1 and v <= 100 for v in q2_1]\n[True, True]",
         "hidden": false,
         "locked": false
        },
        {
         "code": ">>> from auto_checks import check_q2_1\n>>> check_q2_1(q2_1)\n'PASS'",
         "hidden": false,
         "locked": false
        },
        {
         "code": ">>> isinstance(q2_2, tuple)\nTrue",
         "hidden": false,
         "locked": false
        },
        {
         "code": ">>> [v >= 1 and v <= 100 for v in q2_2]\n[True, True]",
         "hidden": false,
         "locked": false
        },
        {
         "code": ">>> from auto_checks import check_q2_2\n>>> check_q2_2(q2_2)\n'PASS'",
         "hidden": false,
         "locked": false
        }
       ],
       "scored": true,
       "setup": "",
       "teardown": "",
       "type": "doctest"
      }
     ]
    },
    "q3": {
     "name": "q3",
     "points": [
      1,
      1,
      2,
      1,
      1,
      2
     ],
     "suites": [
      {
       "cases": [
        {
         "code": ">>> isinstance(q3_1, tuple)\nTrue",
         "hidden": false,
         "locked": false
        },
        {
         "code": ">>> [v >= 1 and v <= 100 for v in q3_1]\n[True, True]",
         "hidden": false,
         "locked": false
        },
        {
         "code": ">>> from auto_checks import check_q3_1\n>>> check_q3_1(q3_1)\n'PASS'",
         "hidden": false,
         "locked": false
        },
        {
         "code": ">>> isinstance(q3_2, tuple)\nTrue",
         "hidden": false,
         "locked": false
        },
        {
         "code": ">>> [v >= 0 and v <= 5 for v in q3_2]\n[True, True]",
         "hidden": false,
         "locked": false
        },
        {
         "code": ">>> from auto_checks import check_q3_2\n>>> check_q3_2(q3_2)\n'PASS'",
         "hidden": false,
         "locked": false
        }
       ],
       "scored": true,
       "setup": "",
       "teardown": "",
       "type": "doctest"
      }
     ]
    },
    "q4": {
     "name": "q4",
     "points": [
      1,
      1,
      1,
      1,
      1,
      1
     ],
     "suites": [
      {
       "cases": [
        {
         "code": ">>> import numpy\n>>> isinstance(q4_1, numpy.float64) or isinstance(q4_1, float)\nTrue",
         "hidden": false,
         "locked": false
        },
        {
         "code": ">>> from auto_checks import check_q4_1\n>>> check_q4_1(q4_1)\n'PASS'",
         "hidden": false,
         "locked": false
        },
        {
         "code": ">>> import numpy\n>>> isinstance(q4_2, numpy.float64) or isinstance(q4_2, float)\nTrue",
         "hidden": false,
         "locked": false
        },
        {
         "code": ">>> from auto_checks import check_q4_2\n>>> check_q4_2(q4_2)\n'PASS'",
         "hidden": false,
         "locked": false
        },
        {
         "code": ">>> import numpy\n>>> isinstance(q4_3, numpy.float64) or isinstance(q4_3, float)\nTrue",
         "hidden": false,
         "locked": false
        },
        {
         "code": ">>> from auto_checks import check_q4_3\n>>> check_q4_3(q4_3)\n'PASS'",
         "hidden": false,
         "locked": false
        }
       ],
       "scored": true,
       "setup": "",
       "teardown": "",
       "type": "doctest"
      }
     ]
    }
   }
  }
 },
 "nbformat": 4,
 "nbformat_minor": 4
}
