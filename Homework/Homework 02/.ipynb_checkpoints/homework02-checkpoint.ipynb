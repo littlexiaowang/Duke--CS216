{
 "cells": [
  {
   "cell_type": "markdown",
   "metadata": {},
   "source": [
    "# Homework 02"
   ]
  },
  {
   "cell_type": "markdown",
   "metadata": {},
   "source": [
    "In this assignment you will demonstrate your mastery selecting and transforming data using the Numpy and Pandas Python libraries. You are welcome to refer to the [Numpy documentation](https://numpy.org/doc/stable/) and [Pandas documentation](https://pandas.pydata.org/docs/user_guide/index.html) to help solve the problems, as well as any class materials such as Prepare and worked examples resources.\n",
    "\n",
    "We will manually grade your code to check that you are taking advantage of the features of Numpy and Pandas, as opposed to using `for` loops. All questions have 2 manually graded points to make sure libraries are correctly being used and the implementation does not use `for` loops."
   ]
  },
  {
   "cell_type": "code",
   "execution_count": 1,
   "metadata": {},
   "outputs": [],
   "source": [
    "# Run but do not modify this code to import libraries\n",
    "\n",
    "# Import numpy and pandas\n",
    "import numpy as np\n",
    "import pandas as pd\n",
    "\n",
    "# Import visualization libraries\n",
    "import matplotlib.pyplot as plt\n",
    "%matplotlib inline\n",
    "import seaborn; seaborn.set()"
   ]
  },
  {
   "cell_type": "markdown",
   "metadata": {},
   "source": [
    "## Part 1: Nearby Points\n",
    "A classic problem in computational geometry with many applications in machine learning is *nearest neighbor search* in which we are given a set of points and a query (which is also a point) and asked to find the closest points to the query. The problem has many variants which are used for classification in machine learning and collaborative filtering in recommender systems. In this part you will code a few variants using Numpy.\n",
    "\n",
    "Start by running the code cell below. It will generate 100 random points (in two dimensions) as a 100 row by 2 column Numpy array `points`. Each row corresponds to a point, the first column (column index 0) contains the x-value, and the second column (column index 1) contains the y-value. Similarly, the code generates a random query point as a one-dimensional Numpy array `query` of length two, where the first value is the x-value and the second is the y-value. This data is visualized in a scatter plot where `points` are represented as smaller blue dots and `query` is represented as a larger orange dot.\n",
    "\n",
    "Throughout this part we will use Euclidean distance (standard high school geometry distance). Recall that the distance formula between two points $(x_1, y_1)$ and $(x_2, y_2)$ is $\\sqrt{(x_2-x_1)^2 + (y_2-y_1)^2}$."
   ]
  },
  {
   "cell_type": "code",
   "execution_count": 2,
   "metadata": {},
   "outputs": [
    {
     "data": {
      "text/plain": [
       "<matplotlib.collections.PathCollection at 0x7fe88ae57ee0>"
      ]
     },
     "execution_count": 2,
     "metadata": {},
     "output_type": "execute_result"
    },
    {
     "data": {
      "image/png": "[encoded data removed]",
      "text/plain": [
       "<Figure size 432x288 with 1 Axes>"
      ]
     },
     "metadata": {},
     "output_type": "display_data"
    }
   ],
   "source": [
    "# Run but do not modify this code\n",
    "n = 100\n",
    "np.random.seed(0) # so you get the same results each time\n",
    "\n",
    "points = np.random.rand(n, 2)\n",
    "query = np.random.rand(2)\n",
    "\n",
    "plt.scatter(points[:, 0], points[:, 1])\n",
    "plt.scatter(query[0], query[1], s=200)"
   ]
  },
  {
   "cell_type": "markdown",
   "metadata": {},
   "source": [
    "### Question 1: k-nearest neighbors (6 points, 2 manual points)\n",
    "The code cell below defines a `get_knn` function that takes `points` and `query` as defined above, along with a positive integer parameter `k`. It should return the `k` nearest neighbors of `query` among `points`. It should return something of type Numpy `numpy.ndarray` ([doc](https://numpy.org/doc/stable/reference/generated/numpy.ndarray.html)) with shape `<k, 2>` since we're returning `k` points each having `dimension=2`. The `k` nearest neighbors are the `k` points of minimum distance to `query`. \n",
    "\n",
    "The function is not correctly implemented (currently it just returns the first `k` points). Fix the implementation of `get_knn` so that it works as intended. You may find the Numpy `argsort` function to be helpful, you can find its [documentation here](https://numpy.org/doc/stable/reference/generated/numpy.argsort.html).\n",
    "\n",
    "You can run the next code cell to visualize your results. It will draw orange lines from `query` to the `k=10` points returned by your `get_knn` function. You do not need to report anything else for this question beyond your implementation, but please run the visualization to show your results."
   ]
  },
  {
   "cell_type": "code",
   "execution_count": 3,
   "metadata": {},
   "outputs": [],
   "source": [
    "def get_knn(points, query, k):\n",
    "    \n",
    "    row_distance = np.add(np.power(points[:,0] - query[0],2),np.power(points[:,1] - query[1],2))\n",
    "    row_distance = np.sqrt(row_distance)\n",
    "    row_distance_order = np.argsort(row_distance)\n",
    "    points = points[row_distance_order]\n",
    "    # Put your code for question 1 here.\n",
    "    return points[:k]\n",
    "    #return row_distance[:k]"
   ]
  },
  {
   "cell_type": "code",
   "execution_count": 4,
   "metadata": {},
   "outputs": [
    {
     "data": {
      "text/plain": [
       "array([[0.31856895, 0.66741038],\n",
       "       [0.26455561, 0.77423369],\n",
       "       [0.4236548 , 0.64589411],\n",
       "       [0.24875314, 0.57615733],\n",
       "       [0.42385505, 0.60639321],\n",
       "       [0.16469416, 0.6214784 ],\n",
       "       [0.16249293, 0.61555956],\n",
       "       [0.46147936, 0.78052918],\n",
       "       [0.13179786, 0.7163272 ],\n",
       "       [0.45615033, 0.56843395]])"
      ]
     },
     "execution_count": 4,
     "metadata": {},
     "output_type": "execute_result"
    }
   ],
   "source": [
    "knn = get_knn(points, query, 10)\n",
    "knn"
   ]
  },
  {
   "cell_type": "code",
   "execution_count": 5,
   "metadata": {},
   "outputs": [
    {
     "data": {
      "image/png": "[encoded data removed]",
      "text/plain": [
       "<Figure size 432x288 with 1 Axes>"
      ]
     },
     "metadata": {},
     "output_type": "display_data"
    }
   ],
   "source": [
    "# Run but do not modify this code to test your \n",
    "# implementation and visualize your final result\n",
    "plt.scatter(points[:, 0], points[:, 1])\n",
    "plt.scatter(query[0], query[1], s=200)\n",
    "\n",
    "knn = get_knn(points, query, 10)\n",
    "for point in knn:\n",
    "    plt.plot(*zip(query, point), color='orange')\n"
   ]
  },
  {
   "cell_type": "markdown",
   "metadata": {},
   "source": [
    "## Question 2: Points within radius (6 points, 2 manual points)\n",
    "The code cell below defines a `get_ball` function that takes `points` and `query` as defined above, along with a positive integer parameter `r`. It should return *all* of the `points` that are within distance `r` of `query` (that is, points within a circle of radius `r` around `query`, including points exactly `r` away from `query`). It should return something of type Numpy `numpy.ndarray` with shape `<?, 2>` ([doc](https://numpy.org/doc/stable/reference/generated/numpy.ndarray.html)). \n",
    "\n",
    "The function is not correctly implemented (currently it just returns the first point). Fix the implementation of `get_ball` so that it works as intended.\n",
    "\n",
    "You can run the next code cell to visualize your results. It will draw orange lines from `query` to the points within distance `r=0.5` from `query` returned by your `get_ball` function. You do not need to report anything else for this question beyond your implementation, but please run the visualization to show your results."
   ]
  },
  {
   "cell_type": "code",
   "execution_count": 6,
   "metadata": {},
   "outputs": [],
   "source": [
    "def get_ball(points, query, r):\n",
    "    # Put your code for question 2 here.\n",
    "    row_distance = np.add(np.power(points[:,0] - query[0],2),np.power(points[:,1] - query[1],2))\n",
    "    row_distance = np.sqrt(row_distance)\n",
    "    points = points[row_distance <= r]\n",
    "    \n",
    "    return points\n",
    "    #return points[:1]"
   ]
  },
  {
   "cell_type": "code",
   "execution_count": 7,
   "metadata": {},
   "outputs": [
    {
     "data": {
      "image/png": "[encoded data removed]",
      "text/plain": [
       "<Figure size 432x288 with 1 Axes>"
      ]
     },
     "metadata": {},
     "output_type": "display_data"
    }
   ],
   "source": [
    "# Run but do not modify this code to test your \n",
    "# implementation and visualize your final result\n",
    "plt.scatter(points[:, 0], points[:, 1])\n",
    "plt.scatter(query[0], query[1], s=200)\n",
    "\n",
    "ball = get_ball(points, query, 0.5)\n",
    "\n",
    "for point in ball:\n",
    "    plt.plot(*zip(query, point), color='orange')"
   ]
  },
  {
   "cell_type": "markdown",
   "metadata": {},
   "source": [
    "## Part 2: Election\n",
    "In this part we are working with the `president_2020.csv` dataset, imported below as a Pandas Dataframe called `df`. It contains numbers of votes cast for the democratic and republican political party candidates for president in the 2020 election in each state.  For the purposes of this dataset, the district of columbia is listed as its own state. The `d_votes` column contains the number of votes for the democratic candidate and the `r_votes` column contains the number of votes for the republican candidate. Note that exact values may differ slightly from official certified counts; please use this dataset for your analysis."
   ]
  },
  {
   "cell_type": "code",
   "execution_count": 8,
   "metadata": {
    "scrolled": true
   },
   "outputs": [
    {
     "data": {
      "text/html": [
       "<div>\n",
       "<style scoped>\n",
       "    .dataframe tbody tr th:only-of-type {\n",
       "        vertical-align: middle;\n",
       "    }\n",
       "\n",
       "    .dataframe tbody tr th {\n",
       "        vertical-align: top;\n",
       "    }\n",
       "\n",
       "    .dataframe thead th {\n",
       "        text-align: right;\n",
       "    }\n",
       "</style>\n",
       "<table border=\"1\" class=\"dataframe\">\n",
       "  <thead>\n",
       "    <tr style=\"text-align: right;\">\n",
       "      <th></th>\n",
       "      <th>d_votes</th>\n",
       "      <th>r_votes</th>\n",
       "    </tr>\n",
       "  </thead>\n",
       "  <tbody>\n",
       "    <tr>\n",
       "      <th>new jersey</th>\n",
       "      <td>2608335</td>\n",
       "      <td>1883274</td>\n",
       "    </tr>\n",
       "    <tr>\n",
       "      <th>mississippi</th>\n",
       "      <td>539398</td>\n",
       "      <td>756764</td>\n",
       "    </tr>\n",
       "    <tr>\n",
       "      <th>montana</th>\n",
       "      <td>244786</td>\n",
       "      <td>343602</td>\n",
       "    </tr>\n",
       "    <tr>\n",
       "      <th>texas</th>\n",
       "      <td>5259126</td>\n",
       "      <td>5890347</td>\n",
       "    </tr>\n",
       "    <tr>\n",
       "      <th>north dakota</th>\n",
       "      <td>114902</td>\n",
       "      <td>235595</td>\n",
       "    </tr>\n",
       "  </tbody>\n",
       "</table>\n",
       "</div>"
      ],
      "text/plain": [
       "              d_votes  r_votes\n",
       "new jersey    2608335  1883274\n",
       "mississippi    539398   756764\n",
       "montana        244786   343602\n",
       "texas         5259126  5890347\n",
       "north dakota   114902   235595"
      ]
     },
     "execution_count": 8,
     "metadata": {},
     "output_type": "execute_result"
    }
   ],
   "source": [
    "# Run but do not modify this cell to import the data and view the first five rows\n",
    "df = pd.read_csv(\"president_2020.csv\", index_col=0)\n",
    "df.head()"
   ]
  },
  {
   "cell_type": "markdown",
   "metadata": {},
   "source": [
    "### Question 3 (6 points, 2 manual points)\n",
    "Compute the following three new columns and add them to the dataframe `df`. For any percents, you should express the values as a fraction between 0 and 1 (e.g., 0.5 for 50%).\n",
    "\n",
    "1. A `total` column containing the total number of votes cast for democratic or republican candidates in each state.\n",
    "2. A `d_percent` column containing the percent of the `total` votes that were cast for the democratic candidate in each state. \n",
    "3. A `r_percent` column containing the percent of the `total` votes that were cast for the republican candidate in each state."
   ]
  },
  {
   "cell_type": "code",
   "execution_count": 9,
   "metadata": {},
   "outputs": [],
   "source": [
    "# Put your code for question 3 her\n",
    "df[\"total\"] = df[\"d_votes\"] + df[\"r_votes\"]\n",
    "df[\"d_percent\"] = df[\"d_votes\"] / df[\"total\"]\n",
    "df[\"r_percent\"] = df[\"r_votes\"] / df[\"total\"]"
   ]
  },
  {
   "cell_type": "code",
   "execution_count": 10,
   "metadata": {},
   "outputs": [
    {
     "data": {
      "text/html": [
       "<div>\n",
       "<style scoped>\n",
       "    .dataframe tbody tr th:only-of-type {\n",
       "        vertical-align: middle;\n",
       "    }\n",
       "\n",
       "    .dataframe tbody tr th {\n",
       "        vertical-align: top;\n",
       "    }\n",
       "\n",
       "    .dataframe thead th {\n",
       "        text-align: right;\n",
       "    }\n",
       "</style>\n",
       "<table border=\"1\" class=\"dataframe\">\n",
       "  <thead>\n",
       "    <tr style=\"text-align: right;\">\n",
       "      <th></th>\n",
       "      <th>d_votes</th>\n",
       "      <th>r_votes</th>\n",
       "      <th>total</th>\n",
       "      <th>d_percent</th>\n",
       "      <th>r_percent</th>\n",
       "    </tr>\n",
       "  </thead>\n",
       "  <tbody>\n",
       "    <tr>\n",
       "      <th>new jersey</th>\n",
       "      <td>2608335</td>\n",
       "      <td>1883274</td>\n",
       "      <td>4491609</td>\n",
       "      <td>0.580713</td>\n",
       "      <td>0.419287</td>\n",
       "    </tr>\n",
       "    <tr>\n",
       "      <th>mississippi</th>\n",
       "      <td>539398</td>\n",
       "      <td>756764</td>\n",
       "      <td>1296162</td>\n",
       "      <td>0.416150</td>\n",
       "      <td>0.583850</td>\n",
       "    </tr>\n",
       "    <tr>\n",
       "      <th>montana</th>\n",
       "      <td>244786</td>\n",
       "      <td>343602</td>\n",
       "      <td>588388</td>\n",
       "      <td>0.416028</td>\n",
       "      <td>0.583972</td>\n",
       "    </tr>\n",
       "    <tr>\n",
       "      <th>texas</th>\n",
       "      <td>5259126</td>\n",
       "      <td>5890347</td>\n",
       "      <td>11149473</td>\n",
       "      <td>0.471693</td>\n",
       "      <td>0.528307</td>\n",
       "    </tr>\n",
       "    <tr>\n",
       "      <th>north dakota</th>\n",
       "      <td>114902</td>\n",
       "      <td>235595</td>\n",
       "      <td>350497</td>\n",
       "      <td>0.327826</td>\n",
       "      <td>0.672174</td>\n",
       "    </tr>\n",
       "  </tbody>\n",
       "</table>\n",
       "</div>"
      ],
      "text/plain": [
       "              d_votes  r_votes     total  d_percent  r_percent\n",
       "new jersey    2608335  1883274   4491609   0.580713   0.419287\n",
       "mississippi    539398   756764   1296162   0.416150   0.583850\n",
       "montana        244786   343602    588388   0.416028   0.583972\n",
       "texas         5259126  5890347  11149473   0.471693   0.528307\n",
       "north dakota   114902   235595    350497   0.327826   0.672174"
      ]
     },
     "execution_count": 10,
     "metadata": {},
     "output_type": "execute_result"
    }
   ],
   "source": [
    "# Run this code to see the first five rows\n",
    "# of your dataframe with the new columns\n",
    "df.head()"
   ]
  },
  {
   "cell_type": "markdown",
   "metadata": {},
   "source": [
    "### Question 4 (12 points, 2 per part and 2 manual grading)\n",
    "\n",
    "Answer the following questions about the dataset. For some questions you may find the Pandas `idxmax()` ([documentation](https://pandas.pydata.org/pandas-docs/stable/reference/api/pandas.DataFrame.idxmax.html)) and `idxmin()` ([documentation](https://pandas.pydata.org/pandas-docs/stable/reference/api/pandas.DataFrame.idxmin.html)) methods to be helpful (though they are not necessary).\n",
    "\n",
    "1. How many total votes are there across all of the states? Put this in the variable `q4_1`.\n",
    "\n",
    "2. Which party received more total votes, and how many more did they receive than their opponent? In `q4_2p` put the string `'d'` for democratic or `'r'` for republican and put the number of votes in `q4_2v`.\n",
    "\n",
    "3. For each party, in how many states did they receive more votes than their opponent? Use `q4_3d` for democratic and `q4_3r` for republican.\n",
    "\n",
    "4. Which state had the largest margin of victory in terms of the difference in the number of votes cast for the two candidates, and what is that difference? Use `q4_4s` for the state and `q4_4d` for the difference.\n",
    "\n",
    "5. Which state had the smallest margin of victory in terms of the difference in the number of votes cast for the two candidates and what is that difference? Use `q4_5s` for the state and `q4_5d` for the difference."
   ]
  },
  {
   "cell_type": "code",
   "execution_count": 41,
   "metadata": {
    "scrolled": true
   },
   "outputs": [],
   "source": [
    "# for q4_2p/2v\n",
    "dtotal = (df[\"d_votes\"].sum())\n",
    "rtotal = (df[\"r_votes\"].sum())\n",
    "if (dtotal > rtotal): \n",
    "    q4_2p = \"d\"\n",
    "    q4_2v = dtotal - rtotal\n",
    "else: \n",
    "    q4_2p = \"r\"\n",
    "    q4_2v = rtotal - dtotal\n",
    "    \n",
    "# type(q4_2v)"
   ]
  },
  {
   "cell_type": "code",
   "execution_count": 12,
   "metadata": {},
   "outputs": [],
   "source": [
    "# for q4_3d/3r\n",
    "df[\"dmore\"] = df[\"d_votes\"] > df[\"r_votes\"]\n",
    "df.head()\n",
    "vote_result = df[\"dmore\"].value_counts()\n",
    "q4_3d = vote_result.loc[True]\n",
    "q4_3r = vote_result.loc[False]"
   ]
  },
  {
   "cell_type": "code",
   "execution_count": 13,
   "metadata": {},
   "outputs": [],
   "source": [
    "# for q4_4s/5s\n",
    "df[\"margin\"] = (df[\"d_votes\"] - df[\"r_votes\"]).abs()\n",
    "max_val = df[\"margin\"].idxmax()\n",
    "min_val = df[\"margin\"].idxmin()"
   ]
  },
  {
   "cell_type": "code",
   "execution_count": 14,
   "metadata": {},
   "outputs": [],
   "source": [
    "# Put your code for question 4 here. Feel free to add \n",
    "# additional code cells as necessary.\n",
    "# Use 'int' type for results of questions, not 'numpy.int64'\n",
    "q4_1 = int(df[\"total\"].sum())\n",
    "q4_2p = q4_2p\n",
    "q4_2v = q4_2v\n",
    "q4_3d = int(q4_3d)\n",
    "q4_3r = int(q4_3r)\n",
    "q4_4s = max_val\n",
    "q4_4d = df.loc[max_val,\"margin\"]\n",
    "q4_5s = min_val\n",
    "q4_5d = df.loc[min_val,\"margin\"]"
   ]
  },
  {
   "cell_type": "markdown",
   "metadata": {},
   "source": [
    "### Question 5 (10 points, 2 per part and 2 manual grading)\n",
    "Answer the following questions about the dataset. It may be helpful (though not necessary) to recall that you can get the explicit indices of a Pandas Dataframe or Series with the `.index` attribute ([documentation](https://pandas.pydata.org/pandas-docs/stable/reference/api/pandas.DataFrame.index.html)).\n",
    "\n",
    "1. List all of the states in which more than 60% of votes were cast for the democratic candidate. Save the result in a `numpy.ndarray` of strings named `q5_1`. (p.s., you may notice that there is a `dtype=object` on the variable calculated - don't worry, this answer format is acceptable.)\n",
    "\n",
    "2. List all of the states in which more than 60% of votes were cast for the republican candidate. Save the result in a `numpy.ndarray` of strings named `q5_2`.\n",
    "\n",
    "3. List all of the states with more than 2 million total votes, of which more than 60% were cast for the democratic candidate. Save the result in a `numpy.ndarray` of strings named `q5_3`.\n",
    "\n",
    "4. List all of the states with more than 2 million total votes, of which more than 60% were cast for the republican candidate. Save the result in a `numpy.ndarray` of strings named `q5_4`."
   ]
  },
  {
   "cell_type": "code",
   "execution_count": 21,
   "metadata": {},
   "outputs": [],
   "source": [
    "# for q5_1\n",
    "d_win = df[\"d_percent\"] > 0.6"
   ]
  },
  {
   "cell_type": "code",
   "execution_count": 22,
   "metadata": {},
   "outputs": [],
   "source": [
    "# for q5_2\n",
    "r_win = df[\"r_percent\"] > 0.6"
   ]
  },
  {
   "cell_type": "code",
   "execution_count": 26,
   "metadata": {},
   "outputs": [],
   "source": [
    "# for q5_3\n",
    "d_win_total = (df[\"d_percent\"] > 0.6) & (df[\"total\"] > 2000000) "
   ]
  },
  {
   "cell_type": "code",
   "execution_count": 29,
   "metadata": {},
   "outputs": [],
   "source": [
    "# for q5_4\n",
    "r_win_total = (df[\"r_percent\"] > 0.6) & (df[\"total\"] > 2000000)"
   ]
  },
  {
   "cell_type": "code",
   "execution_count": 45,
   "metadata": {},
   "outputs": [],
   "source": [
    "# Put your code for question 5 here. Feel free to add \n",
    "# additional code cells as necessary\n",
    "q5_1 = np.array(df[d_win].index)\n",
    "q5_2 = np.array(df[r_win].index)\n",
    "q5_3 = np.array(df[d_win_total].index)\n",
    "q5_4 = np.array(df[r_win_total].index)"
   ]
  },
  {
   "cell_type": "markdown",
   "metadata": {},
   "source": [
    "## Submitting\n",
    "\n",
    "You should make sure any code that you write to answer the questions is included in this notebook. We recommend you go to the Kernel option and choose \\\"Restart & Run All.\\\" Double check that your entire notebook runs correctly and generates the expected output. Finally, make sure to save your work (timestamp at the top tells you the last checkpoint and whether there are unsaved changes). When you finish, submit your assignment at [Gradescope](http://gradescope.com/)."
   ]
  }
 ],
 "metadata": {
  "kernelspec": {
   "display_name": "Python 3",
   "language": "python",
   "name": "python3"
  },
  "language_info": {
   "codemirror_mode": {
    "name": "ipython",
    "version": 3
   },
   "file_extension": ".py",
   "mimetype": "text/x-python",
   "name": "python",
   "nbconvert_exporter": "python",
   "pygments_lexer": "ipython3",
   "version": "3.8.5"
  }
 },
 "nbformat": 4,
 "nbformat_minor": 4
}
