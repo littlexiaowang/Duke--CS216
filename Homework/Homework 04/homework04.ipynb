{
 "cells": [
  {
   "cell_type": "markdown",
   "metadata": {},
   "source": [
    "# Homework 04"
   ]
  },
  {
   "cell_type": "markdown",
   "metadata": {},
   "source": [
    "In this assignment, you will practice wrangling data through different formats, with missing data, and working with text.\n",
    "\n",
    "You may or may not use `for` loops depending on the questions. **Please see the question instructions carefully to determine if `for` loops can be used.** Generally, you should never be iterating over the rows of a DataFrame using `for` loops. If you do, you will lose points."
   ]
  },
  {
   "cell_type": "markdown",
   "metadata": {},
   "source": [
    "## Part 1: Text wrangling and regular expressions\n",
    "In this part, we will work with the citation file exported from the [Nature Review Article](https://www.nature.com/articles/s41586-020-2649-2) *Array Programming with NumPy*. Below we read the file into the Python variable `cite` and print the result for you to preview.\n",
    "\n",
    "It is fine to use `for` loops in this part since it involves parsing code before putting them into a `DataFrame`."
   ]
  },
  {
   "cell_type": "code",
   "execution_count": 2,
   "metadata": {},
   "outputs": [
    {
     "name": "stdout",
     "output_type": "stream",
     "text": [
      "TY  - JOUR\n",
      "AU  - Harris, Charles R.\n",
      "AU  - Millman, K. Jarrod\n",
      "AU  - van der Walt, Stéfan J.\n",
      "AU  - Gommers, Ralf\n",
      "AU  - Virtanen, Pauli\n",
      "AU  - Cournapeau, David\n",
      "AU  - Wieser, Eric\n",
      "AU  - Taylor, Julian\n",
      "AU  - Berg, Sebastian\n",
      "AU  - Smith, Nathaniel J.\n",
      "AU  - Kern, Robert\n",
      "AU  - Picus, Matti\n",
      "AU  - Hoyer, Stephan\n",
      "AU  - van Kerkwijk, Marten H.\n",
      "AU  - Brett, Matthew\n",
      "AU  - Haldane, Allan\n",
      "AU  - del Río, Jaime Fernández\n",
      "AU  - Wiebe, Mark\n",
      "AU  - Peterson, Pearu\n",
      "AU  - Gérard-Marchant, Pierre\n",
      "AU  - Sheppard, Kevin\n",
      "AU  - Reddy, Tyler\n",
      "AU  - Weckesser, Warren\n",
      "AU  - Abbasi, Hameer\n",
      "AU  - Gohlke, Christoph\n",
      "AU  - Oliphant, Travis E.\n",
      "PY  - 2020\n",
      "DA  - 2020/09/01\n",
      "TI  - Array programming with NumPy\n",
      "JO  - Nature\n",
      "SP  - 357\n",
      "EP  - 362\n",
      "VL  - 585\n",
      "IS  - 7825\n",
      "AB  - Array programming provides a powerful, compact and expressive syntax for accessing, manipulating and operating on data in vectors, matrices and higher-dimensional arrays. NumPy is the primary array programming library for the Python language. It has an essential role in research analysis pipelines in fields as diverse as physics, chemistry, astronomy, geoscience, biology, psychology, materials science, engineering, finance and economics. For example, in astronomy, NumPy was an important part of the software stack used in the discovery of gravitational waves1 and in the first imaging of a black hole2. Here we review how a few fundamental array concepts lead to a simple and powerful programming paradigm for organizing, exploring and analysing scientific data. NumPy is the foundation upon which the scientific Python ecosystem is constructed. It is so pervasive that several projects, targeting audiences with specialized needs, have developed their own NumPy-like interfaces and array objects. Owing to its central position in the ecosystem, NumPy increasingly acts as an interoperability layer between such array computation libraries and, together with its application programming interface (API), provides a flexible framework to support the next decade of scientific and industrial analysis.\n",
      "SN  - 1476-4687\n",
      "UR  - https://doi.org/10.1038/s41586-020-2649-2\n",
      "DO  - 10.1038/s41586-020-2649-2\n",
      "ID  - Harris2020\n",
      "ER  - \n",
      "\n"
     ]
    }
   ],
   "source": [
    "# Run but do not modify this code\n",
    "with open(\"numpy_nature.txt\") as f:\n",
    "    cite = f.read()\n",
    "\n",
    "print(cite)"
   ]
  },
  {
   "cell_type": "markdown",
   "metadata": {},
   "source": [
    "### Question 1 (4 points)\n",
    "There are several authors, each recorded on a separate line beginning with `AU`. In the variable `q1` put a Python list of all of the author names formatted as in the file but without the extra characters and whitespace (i.e., without the `AU  - ` or the newline `\\n` characters). Your list should be of the form `['Harris, Charles R.', 'Millman, K. Jarrod', ..., 'Oliphant, Travis E.']`. When you are finished, print the resulting list. "
   ]
  },
  {
   "cell_type": "code",
   "execution_count": 33,
   "metadata": {},
   "outputs": [],
   "source": [
    "info=cite.split(\"\\n\")\n",
    "info1=[]\n",
    "templst=[]\n",
    "for i in info:\n",
    "    temp = i.replace(\"\\n\",\" \")\n",
    "    temp2 = temp.split(\"- \")\n",
    "    if (temp2[0] == \"AU  \"):\n",
    "        info1.append(temp.split(\"- \")[1])    "
   ]
  },
  {
   "cell_type": "code",
   "execution_count": 32,
   "metadata": {
    "tags": []
   },
   "outputs": [
    {
     "name": "stdout",
     "output_type": "stream",
     "text": [
      "['Harris, Charles R.', 'Millman, K. Jarrod', 'van der Walt, Stéfan J.', 'Gommers, Ralf', 'Virtanen, Pauli', 'Cournapeau, David', 'Wieser, Eric', 'Taylor, Julian', 'Berg, Sebastian', 'Smith, Nathaniel J.', 'Kern, Robert', 'Picus, Matti', 'Hoyer, Stephan', 'van Kerkwijk, Marten H.', 'Brett, Matthew', 'Haldane, Allan', 'del Río, Jaime Fernández', 'Wiebe, Mark', 'Peterson, Pearu', 'Gérard-Marchant, Pierre', 'Sheppard, Kevin', 'Reddy, Tyler', 'Weckesser, Warren', 'Abbasi, Hameer', 'Gohlke, Christoph', 'Oliphant, Travis E.']\n"
     ]
    }
   ],
   "source": [
    "# Put your code to answer the question here, and store the answer as the following variable\n",
    "# Please keep author names in the original order\n",
    "\n",
    "q1 = info1 # List of Authors\n",
    "\n",
    "\n",
    "print(q1)"
   ]
  },
  {
   "cell_type": "markdown",
   "metadata": {},
   "source": [
    "### Question 2 (4 points)\n",
    "Create a Pandas DataFrame that contains three columns: one for first names, one for middle names, and one for last names for all of the authors. Use the column names of the example table below. Keep the same order as the original text file and use the default primary index (the row labels) of 0, 1, 2, etc. as shown below. You are welcome to use the results of the prior question to asnwer this problem.\n",
    "\n",
    "|      | first      | middle     | last         |\n",
    "| ---- | ---------- | ---------- | ------------ |\n",
    "| 0\t   | Charles    | R.         | Harris       |\n",
    "| 1\t   | K.\t        | Jarrod     | Millman      |\n",
    "| 2\t   | Stéfan     | J.         | van der Walt |\n",
    "| 3    | Ralf       |            | Gommers      |\n",
    "| 4\t   | Pauli      |            | Virtanen     |   \n",
    "\n",
    "Note that some authors do not have any middle names, in which case you can leave the middle name column blank."
   ]
  },
  {
   "cell_type": "code",
   "execution_count": 34,
   "metadata": {},
   "outputs": [],
   "source": [
    "# Run but do not modify this code\n",
    "import pandas as pd"
   ]
  },
  {
   "cell_type": "code",
   "execution_count": 52,
   "metadata": {},
   "outputs": [],
   "source": [
    "table = pd.DataFrame(columns=['first','middle','last'])\n",
    "lastname = [name.split(\",\")[0] for name in info1]\n",
    "table['last'] = lastname\n",
    "firmid = [name.split(\", \")[1] for name in info1]\n",
    "first = [name.split(\" \")[0] for name in firmid]\n",
    "table['first'] = first\n",
    "mid = []\n",
    "for name in firmid:\n",
    "    if len(name.split(\" \")) > 1:\n",
    "        mid.append(name.split(\" \")[1])\n",
    "    else: mid.append(\"\")\n",
    "table['middle'] = mid"
   ]
  },
  {
   "cell_type": "code",
   "execution_count": 53,
   "metadata": {
    "tags": []
   },
   "outputs": [
    {
     "data": {
      "text/html": [
       "<div>\n",
       "<style scoped>\n",
       "    .dataframe tbody tr th:only-of-type {\n",
       "        vertical-align: middle;\n",
       "    }\n",
       "\n",
       "    .dataframe tbody tr th {\n",
       "        vertical-align: top;\n",
       "    }\n",
       "\n",
       "    .dataframe thead th {\n",
       "        text-align: right;\n",
       "    }\n",
       "</style>\n",
       "<table border=\"1\" class=\"dataframe\">\n",
       "  <thead>\n",
       "    <tr style=\"text-align: right;\">\n",
       "      <th></th>\n",
       "      <th>first</th>\n",
       "      <th>middle</th>\n",
       "      <th>last</th>\n",
       "    </tr>\n",
       "  </thead>\n",
       "  <tbody>\n",
       "    <tr>\n",
       "      <th>0</th>\n",
       "      <td>Charles</td>\n",
       "      <td>R.</td>\n",
       "      <td>Harris</td>\n",
       "    </tr>\n",
       "    <tr>\n",
       "      <th>1</th>\n",
       "      <td>K.</td>\n",
       "      <td>Jarrod</td>\n",
       "      <td>Millman</td>\n",
       "    </tr>\n",
       "    <tr>\n",
       "      <th>2</th>\n",
       "      <td>Stéfan</td>\n",
       "      <td>J.</td>\n",
       "      <td>van der Walt</td>\n",
       "    </tr>\n",
       "    <tr>\n",
       "      <th>3</th>\n",
       "      <td>Ralf</td>\n",
       "      <td></td>\n",
       "      <td>Gommers</td>\n",
       "    </tr>\n",
       "    <tr>\n",
       "      <th>4</th>\n",
       "      <td>Pauli</td>\n",
       "      <td></td>\n",
       "      <td>Virtanen</td>\n",
       "    </tr>\n",
       "    <tr>\n",
       "      <th>5</th>\n",
       "      <td>David</td>\n",
       "      <td></td>\n",
       "      <td>Cournapeau</td>\n",
       "    </tr>\n",
       "    <tr>\n",
       "      <th>6</th>\n",
       "      <td>Eric</td>\n",
       "      <td></td>\n",
       "      <td>Wieser</td>\n",
       "    </tr>\n",
       "    <tr>\n",
       "      <th>7</th>\n",
       "      <td>Julian</td>\n",
       "      <td></td>\n",
       "      <td>Taylor</td>\n",
       "    </tr>\n",
       "    <tr>\n",
       "      <th>8</th>\n",
       "      <td>Sebastian</td>\n",
       "      <td></td>\n",
       "      <td>Berg</td>\n",
       "    </tr>\n",
       "    <tr>\n",
       "      <th>9</th>\n",
       "      <td>Nathaniel</td>\n",
       "      <td>J.</td>\n",
       "      <td>Smith</td>\n",
       "    </tr>\n",
       "    <tr>\n",
       "      <th>10</th>\n",
       "      <td>Robert</td>\n",
       "      <td></td>\n",
       "      <td>Kern</td>\n",
       "    </tr>\n",
       "    <tr>\n",
       "      <th>11</th>\n",
       "      <td>Matti</td>\n",
       "      <td></td>\n",
       "      <td>Picus</td>\n",
       "    </tr>\n",
       "    <tr>\n",
       "      <th>12</th>\n",
       "      <td>Stephan</td>\n",
       "      <td></td>\n",
       "      <td>Hoyer</td>\n",
       "    </tr>\n",
       "    <tr>\n",
       "      <th>13</th>\n",
       "      <td>Marten</td>\n",
       "      <td>H.</td>\n",
       "      <td>van Kerkwijk</td>\n",
       "    </tr>\n",
       "    <tr>\n",
       "      <th>14</th>\n",
       "      <td>Matthew</td>\n",
       "      <td></td>\n",
       "      <td>Brett</td>\n",
       "    </tr>\n",
       "    <tr>\n",
       "      <th>15</th>\n",
       "      <td>Allan</td>\n",
       "      <td></td>\n",
       "      <td>Haldane</td>\n",
       "    </tr>\n",
       "    <tr>\n",
       "      <th>16</th>\n",
       "      <td>Jaime</td>\n",
       "      <td>Fernández</td>\n",
       "      <td>del Río</td>\n",
       "    </tr>\n",
       "    <tr>\n",
       "      <th>17</th>\n",
       "      <td>Mark</td>\n",
       "      <td></td>\n",
       "      <td>Wiebe</td>\n",
       "    </tr>\n",
       "    <tr>\n",
       "      <th>18</th>\n",
       "      <td>Pearu</td>\n",
       "      <td></td>\n",
       "      <td>Peterson</td>\n",
       "    </tr>\n",
       "    <tr>\n",
       "      <th>19</th>\n",
       "      <td>Pierre</td>\n",
       "      <td></td>\n",
       "      <td>Gérard-Marchant</td>\n",
       "    </tr>\n",
       "    <tr>\n",
       "      <th>20</th>\n",
       "      <td>Kevin</td>\n",
       "      <td></td>\n",
       "      <td>Sheppard</td>\n",
       "    </tr>\n",
       "    <tr>\n",
       "      <th>21</th>\n",
       "      <td>Tyler</td>\n",
       "      <td></td>\n",
       "      <td>Reddy</td>\n",
       "    </tr>\n",
       "    <tr>\n",
       "      <th>22</th>\n",
       "      <td>Warren</td>\n",
       "      <td></td>\n",
       "      <td>Weckesser</td>\n",
       "    </tr>\n",
       "    <tr>\n",
       "      <th>23</th>\n",
       "      <td>Hameer</td>\n",
       "      <td></td>\n",
       "      <td>Abbasi</td>\n",
       "    </tr>\n",
       "    <tr>\n",
       "      <th>24</th>\n",
       "      <td>Christoph</td>\n",
       "      <td></td>\n",
       "      <td>Gohlke</td>\n",
       "    </tr>\n",
       "    <tr>\n",
       "      <th>25</th>\n",
       "      <td>Travis</td>\n",
       "      <td>E.</td>\n",
       "      <td>Oliphant</td>\n",
       "    </tr>\n",
       "  </tbody>\n",
       "</table>\n",
       "</div>"
      ],
      "text/plain": [
       "        first     middle             last\n",
       "0     Charles         R.           Harris\n",
       "1          K.     Jarrod          Millman\n",
       "2      Stéfan         J.     van der Walt\n",
       "3        Ralf                     Gommers\n",
       "4       Pauli                    Virtanen\n",
       "5       David                  Cournapeau\n",
       "6        Eric                      Wieser\n",
       "7      Julian                      Taylor\n",
       "8   Sebastian                        Berg\n",
       "9   Nathaniel         J.            Smith\n",
       "10     Robert                        Kern\n",
       "11      Matti                       Picus\n",
       "12    Stephan                       Hoyer\n",
       "13     Marten         H.     van Kerkwijk\n",
       "14    Matthew                       Brett\n",
       "15      Allan                     Haldane\n",
       "16      Jaime  Fernández          del Río\n",
       "17       Mark                       Wiebe\n",
       "18      Pearu                    Peterson\n",
       "19     Pierre             Gérard-Marchant\n",
       "20      Kevin                    Sheppard\n",
       "21      Tyler                       Reddy\n",
       "22     Warren                   Weckesser\n",
       "23     Hameer                      Abbasi\n",
       "24  Christoph                      Gohlke\n",
       "25     Travis         E.         Oliphant"
      ]
     },
     "execution_count": 53,
     "metadata": {},
     "output_type": "execute_result"
    }
   ],
   "source": [
    "# Put your code to answer the question here, and store the answer as the following variable\n",
    "# Please keep author names in the original order\n",
    "\n",
    "q2 = table # Pandas DataFrame with three columns\n",
    "\n",
    "...\n",
    "\n",
    "q2 # This last line will display the table to check for correctness"
   ]
  },
  {
   "cell_type": "markdown",
   "metadata": {},
   "source": [
    "### Question 3 (12 points)\n",
    "Below we extract the abstract from the citation and store it in a string variable `abstract`. Write regular expressions to answer the following questions about the abstract.\n",
    "\n",
    "1. In `q3_1` put the starting index of everywhere `NumPy` appears in the abstract (i.e., the index of the `N` wherever `NumPy` occurs in the `abstract` string). This should be case sensitive.\n",
    "2. In `q3_2` put all of the capitalized words in `abstract`, including words with extra capitalized letters like `NumPy` and `NumPy-like`.\n",
    "3. In `q3_3` put all of the words that immediately follow `NumPy`, but do not include the word `NumPy` itself. For the one occurrence it is hyphenated `NumPy-like`, use `-like`."
   ]
  },
  {
   "cell_type": "code",
   "execution_count": 55,
   "metadata": {
    "scrolled": true
   },
   "outputs": [
    {
     "name": "stdout",
     "output_type": "stream",
     "text": [
      "Array programming provides a powerful, compact and expressive syntax for accessing, manipulating and operating on data in vectors, matrices and higher-dimensional arrays. NumPy is the primary array programming library for the Python language. It has an essential role in research analysis pipelines in fields as diverse as physics, chemistry, astronomy, geoscience, biology, psychology, materials science, engineering, finance and economics. For example, in astronomy, NumPy was an important part of the software stack used in the discovery of gravitational waves1 and in the first imaging of a black hole2. Here we review how a few fundamental array concepts lead to a simple and powerful programming paradigm for organizing, exploring and analysing scientific data. NumPy is the foundation upon which the scientific Python ecosystem is constructed. It is so pervasive that several projects, targeting audiences with specialized needs, have developed their own NumPy-like interfaces and array objects. Owing to its central position in the ecosystem, NumPy increasingly acts as an interoperability layer between such array computation libraries and, together with its application programming interface (API), provides a flexible framework to support the next decade of scientific and industrial analysis.\n"
     ]
    }
   ],
   "source": [
    "# Run but do not modify this code\n",
    "import re\n",
    "abstract_query = re.compile(r\"AB  - (.+)\")\n",
    "abstract = re.search(abstract_query, cite).group(1)\n",
    "print(abstract)"
   ]
  },
  {
   "cell_type": "code",
   "execution_count": 65,
   "metadata": {},
   "outputs": [],
   "source": [
    "#for q3_1\n",
    "n_appear = []\n",
    "match = re.compile(r\"NumPy\")\n",
    "indexes = re.finditer(match,abstract)\n",
    "for index in indexes:\n",
    "    n_appear.append(index.start())"
   ]
  },
  {
   "cell_type": "code",
   "execution_count": 71,
   "metadata": {},
   "outputs": [],
   "source": [
    "#for q3_2\n",
    "cap_appear = []\n",
    "match = re.compile(r\"[A-Z]+[A-Za-z|-]*\")\n",
    "cap_appear = re.findall(match, abstract)"
   ]
  },
  {
   "cell_type": "code",
   "execution_count": 75,
   "metadata": {},
   "outputs": [],
   "source": [
    "#for q3_3\n",
    "follow = []\n",
    "match = re.compile(r\"NumPy.[A-Za-z]+\")\n",
    "combines = re.findall(match, abstract)\n",
    "for combine in combines:\n",
    "    follow.append(combine.replace(\" \",\"\").replace(\"NumPy\",\"\"))"
   ]
  },
  {
   "cell_type": "code",
   "execution_count": 76,
   "metadata": {
    "tags": []
   },
   "outputs": [
    {
     "name": "stdout",
     "output_type": "stream",
     "text": [
      "q3_1: [171, 469, 768, 962, 1051]\n",
      "q3_2: ['Array', 'NumPy', 'Python', 'It', 'For', 'NumPy', 'Here', 'NumPy', 'Python', 'It', 'NumPy-like', 'Owing', 'NumPy', 'API']\n",
      "q3_3: ['is', 'was', 'is', '-like', 'increasingly']\n"
     ]
    }
   ],
   "source": [
    "# Put your code to answer the question here, and store the answer as the following variable\n",
    "# Please allow duplication in your list\n",
    "\n",
    "q3_1 = n_appear # List of index\n",
    "q3_2 = cap_appear # List of all the capitalized words\n",
    "q3_3 = follow # List of words that immediately follow Numpy\n",
    "\n",
    "...\n",
    "\n",
    "# Run but do not modify this code\n",
    "print('q3_1:', q3_1)\n",
    "print('q3_2:', q3_2)\n",
    "print('q3_3:', q3_3)"
   ]
  },
  {
   "cell_type": "markdown",
   "metadata": {},
   "source": [
    "## Part 2: Cleaning up more system logs CSV\n",
    "\n",
    "In this part, we work with a piece of messy tabular data in the form of a poorly formatted csv file containing data about programs running on computer systems. It contains all of the data about system time and memory from Worked Example 4, but also includes new information about user ids and machine ids, and some data are missing in every column. (The user ids are made up and do not correspond to any real individuals)."
   ]
  },
  {
   "cell_type": "markdown",
   "metadata": {},
   "source": [
    "### Question 4 (12 points, 2 manual points)\n",
    "\n",
    "Below, we import the dataset using the Pandas `read_csv` function that creates a dataframe. Run the code; it will preview the first five rows.\n",
    "\n",
    "**Do not** use `for` loops, unless it is guaranteed to iterate less than 50 times. The manual points are partially for checking for this. You are also likely to not pass some tests because iterating over the entire `DataFrame` sometimes causes issues with formatting."
   ]
  },
  {
   "cell_type": "code",
   "execution_count": 94,
   "metadata": {},
   "outputs": [
    {
     "data": {
      "text/html": [
       "<div>\n",
       "<style scoped>\n",
       "    .dataframe tbody tr th:only-of-type {\n",
       "        vertical-align: middle;\n",
       "    }\n",
       "\n",
       "    .dataframe tbody tr th {\n",
       "        vertical-align: top;\n",
       "    }\n",
       "\n",
       "    .dataframe thead th {\n",
       "        text-align: right;\n",
       "    }\n",
       "</style>\n",
       "<table border=\"1\" class=\"dataframe\">\n",
       "  <thead>\n",
       "    <tr style=\"text-align: right;\">\n",
       "      <th></th>\n",
       "      <th>System Time second</th>\n",
       "      <th>System Memory GB</th>\n",
       "      <th>System Memory MB</th>\n",
       "      <th>System User ID</th>\n",
       "      <th>System Machine ID</th>\n",
       "    </tr>\n",
       "  </thead>\n",
       "  <tbody>\n",
       "    <tr>\n",
       "      <th>995</th>\n",
       "      <td>System Time: 31 minute</td>\n",
       "      <td>System Mem: 2 Gb</td>\n",
       "      <td>258 Mb</td>\n",
       "      <td>User ID: zm3</td>\n",
       "      <td>Machine ID: Asparagus</td>\n",
       "    </tr>\n",
       "    <tr>\n",
       "      <th>996</th>\n",
       "      <td>System Time: 31 minute</td>\n",
       "      <td>System Mem: 3 Gb</td>\n",
       "      <td>403 Mb</td>\n",
       "      <td>User ID: bk4</td>\n",
       "      <td>?</td>\n",
       "    </tr>\n",
       "    <tr>\n",
       "      <th>997</th>\n",
       "      <td>System Time: 36 minute</td>\n",
       "      <td>System Mem: 3 Gb</td>\n",
       "      <td>350 Mb</td>\n",
       "      <td>User ID: yw22</td>\n",
       "      <td>Machine ID: Carrot</td>\n",
       "    </tr>\n",
       "    <tr>\n",
       "      <th>998</th>\n",
       "      <td>System Time: 44 minute</td>\n",
       "      <td>System Mem: 3 Gb</td>\n",
       "      <td>366 Mb</td>\n",
       "      <td>User ID: yw22</td>\n",
       "      <td>Machine ID: Asparagus</td>\n",
       "    </tr>\n",
       "    <tr>\n",
       "      <th>999</th>\n",
       "      <td>System Time: 20 minute</td>\n",
       "      <td>System Mem: 3 Gb</td>\n",
       "      <td>490 Mb</td>\n",
       "      <td>User ID: bk4</td>\n",
       "      <td>Machine ID: Asparagus</td>\n",
       "    </tr>\n",
       "  </tbody>\n",
       "</table>\n",
       "</div>"
      ],
      "text/plain": [
       "         System Time second   System Memory GB System Memory MB  \\\n",
       "995  System Time: 31 minute   System Mem: 2 Gb           258 Mb   \n",
       "996  System Time: 31 minute   System Mem: 3 Gb           403 Mb   \n",
       "997  System Time: 36 minute   System Mem: 3 Gb           350 Mb   \n",
       "998  System Time: 44 minute   System Mem: 3 Gb           366 Mb   \n",
       "999  System Time: 20 minute   System Mem: 3 Gb           490 Mb   \n",
       "\n",
       "    System User ID      System Machine ID  \n",
       "995   User ID: zm3  Machine ID: Asparagus  \n",
       "996   User ID: bk4                      ?  \n",
       "997  User ID: yw22     Machine ID: Carrot  \n",
       "998  User ID: yw22  Machine ID: Asparagus  \n",
       "999   User ID: bk4  Machine ID: Asparagus  "
      ]
     },
     "execution_count": 94,
     "metadata": {},
     "output_type": "execute_result"
    }
   ],
   "source": [
    "# Run but do not modify this code\n",
    "import pandas as pd\n",
    "import numpy as np\n",
    "sys_df = pd.read_csv(\"more_monitor.csv\")\n",
    "sys_df.tail()"
   ]
  },
  {
   "cell_type": "markdown",
   "metadata": {},
   "source": [
    "There are several formatting issues with the default import. Address the following.\n",
    "\n",
    "1. The `System User ID` and `System Machine ID` contain String data with the redundant information `User ID: ` and `Machine ID: ` in every row that has data. Remove these prefixes so that the columns only contain the user ids and machine ids themselves. Leave the `?` cells as is. For example, the first row should just have `yw22` in the `System User ID` column and `Carrot` in the `System Machine ID` column, while the second row should keep `?` for both columns.\n",
    "\n",
    "2. The first three rows for `System Time second`, `System Memory GB` and `System Memory MB` contain numerical data but are currently formatted as strings with redundant prefix information repeating the column label and missing data represented as the string `?` instead of the Numpy `NaN` sentinel value. Fix this so that each value in the first three columns is either a single numerical value or `NaN` (note, you should use the actual `np.NaN` sentinal value, not just the String with the characters `N`, `a`, and `N`). For example, when you are done, the first three columns of the first row should all have `NaN` values, the second row should be `40`, `3`, and `382`, and so on. Note that the rows at index `400` and on have System Time recorded in minutes instead of seconds, be sure to convert these to seconds by mulitplying by 60.\n",
    "\n",
    "3. Currently the System Memory is split accross two columns, one for the GB and one for the MB. For example, the total memory of the first program is 3 GB and 414 MB. Instead, represent the full system memory in the `System Memory GB` column, and get rid of the `System Memory MB` column. To do so, you need to convert the values in the MB column to GB (1 MB is 0.001 GB) and add that to the GB column, then use the [`drop` method](https://pandas.pydata.org/pandas-docs/stable/reference/api/pandas.DataFrame.drop.html). Missing values should remain missing after this transformation.\n",
    "\n",
    "When you are finished, `sys_df` should have the above issues corrected. Run both of the cells with `sys_df.head()` and `sys_df.tail()` to show the first and last few rows of your dataframe. Create a variable `q4` and have it point to this DataFrame."
   ]
  },
  {
   "cell_type": "code",
   "execution_count": 95,
   "metadata": {
    "tags": []
   },
   "outputs": [
    {
     "name": "stdout",
     "output_type": "stream",
     "text": [
      "   System Time second  System Memory GB System User ID System Machine ID\n",
      "0                 NaN               NaN           yw22            Carrot\n",
      "1                40.0             3.382              ?                 ?\n",
      "2                 NaN             2.271            tp7         Asparagus\n",
      "3                31.0             3.493              ?          Eggplant\n",
      "4                37.0             3.411              ?         Asparagus\n",
      "     System Time second  System Memory GB System User ID System Machine ID\n",
      "995              1860.0             2.258            zm3         Asparagus\n",
      "996              1860.0             3.403            bk4                 ?\n",
      "997              2160.0             3.350           yw22            Carrot\n",
      "998              2640.0             3.366           yw22         Asparagus\n",
      "999              1200.0             3.490            bk4         Asparagus\n"
     ]
    }
   ],
   "source": [
    "# Put your code to answer the question here, and store sys_df in q4 for full credit\n",
    "\n",
    "sys_df['System User ID'] = sys_df['System User ID'].str.lstrip('User ID: ')\n",
    "sys_df['System Machine ID'] = sys_df['System Machine ID'].str.lstrip('Machine ID: ')\n",
    "\n",
    "sys_df[\"System Time second\"] = sys_df[\"System Time second\"].str.replace(\"System Time: \",\"\").str.replace(\"second\",\"\").str.replace(\"minute\",\"\").str.replace(\" \",\"\").replace(\"?\",np.NaN)\n",
    "sys_df[\"System Memory GB\"] = sys_df[\"System Memory GB\"].str.replace(\"System Mem: \",\"\").str.replace(\"Gb\",\"\").str.replace(\" \",\"\").replace(\"?\",np.NaN)\n",
    "sys_df[\"System Memory MB\"] = sys_df[\"System Memory MB\"].str.replace(\"Mb\",\"\").str.replace(\" \",\"\").replace(\"?\",np.NaN)\n",
    "sys_df[\"System Time second\"] = pd.to_numeric(sys_df[\"System Time second\"])\n",
    "sys_df.loc[400:,[\"System Time second\"]] = sys_df.loc[400:,[\"System Time second\"]] * 60\n",
    "\n",
    "sys_df[\"System Memory GB\"] = pd.to_numeric(sys_df[\"System Memory GB\"])\n",
    "sys_df[\"System Memory MB\"] = pd.to_numeric(sys_df[\"System Memory MB\"])\n",
    "\n",
    "sys_df[\"System Memory GB\"] = sys_df[\"System Memory GB\"] + sys_df[\"System Memory MB\"] * 0.001\n",
    "sys_df = sys_df.drop([\"System Memory MB\"], axis = 1)\n",
    "\n",
    "\n",
    "q4 = sys_df\n",
    "\n",
    "# Run but do not modify this code\n",
    "print(q4.head())\n",
    "\n",
    "# Run but do not modify this code\n",
    "print(q4.tail())"
   ]
  },
  {
   "cell_type": "markdown",
   "metadata": {},
   "source": [
    "### Question 5 (12 points)\n",
    "The `sys_df` dataframe from question 4 should now be a little easier to read and use. Answer the following questions about `sys_df`.\n",
    "\n",
    "1. How many rows are missing data (have a `?`) in the `System Machine ID` column? Put your answer in `q5_1`.\n",
    "2. What is the average value of `System Memory GB` among the rows that are missing data (have a `?`) in the `System User ID` column?  Put your answer in `q5_2`.\n",
    "3. How many rows are missing data in both the `System Time second` and `System Memory GB` columns? Put your answer in `q5_3`."
   ]
  },
  {
   "cell_type": "code",
   "execution_count": 103,
   "metadata": {
    "tags": []
   },
   "outputs": [
    {
     "name": "stdout",
     "output_type": "stream",
     "text": [
      "q5_1: 196\n",
      "q5_2: 2.9099915966386574\n",
      "q5_3: 69\n"
     ]
    }
   ],
   "source": [
    "# Put your code to answer the question here, and store answers as the following variables\n",
    "\n",
    "q5_1 = sys_df[\"System Machine ID\"].value_counts()[-1] # number of rows\n",
    "q5_2 = np.mean(q4[q4['System User ID'].str.match(r'\\?')]['System Memory GB']) # average System Memory GB\n",
    "q5_3 = sys_df[[\"System Time second\", \"System Memory GB\"]].isna().value_counts()[1][1] # number of missing rows\n",
    "\n",
    "# Run but do not modify this code\n",
    "print('q5_1:', q5_1)\n",
    "print('q5_2:', q5_2)\n",
    "print('q5_3:', q5_3)"
   ]
  },
  {
   "cell_type": "markdown",
   "metadata": {},
   "source": [
    "## Part 3: Wrangling FDA JSON Dataset \n",
    "In this part we work with a messy JSON dataset containing information about several drugs labels."
   ]
  },
  {
   "cell_type": "markdown",
   "metadata": {},
   "source": [
    "### Question 6 (12 points)\n",
    "Below we import the `FDADrugLabel.json` file into the `labels` variable. This is the same dataset as the worked example. The resulting Python object is somewhat messy; we encourage you to explore the data before answering the questions.\n",
    "\n",
    "You may use `for` loops for this question."
   ]
  },
  {
   "cell_type": "code",
   "execution_count": 104,
   "metadata": {},
   "outputs": [],
   "source": [
    "# Run but do not modify this code\n",
    "import json\n",
    "with open(\"FDADrugLabel.json\", encoding=\"utf-8\") as f:\n",
    "    labels = json.load(f)"
   ]
  },
  {
   "cell_type": "code",
   "execution_count": null,
   "metadata": {},
   "outputs": [],
   "source": [
    "# Use this cell to explore (and you are welcome to add more cells as needed)"
   ]
  },
  {
   "cell_type": "markdown",
   "metadata": {},
   "source": [
    "Answer the following questions.\n",
    "\n",
    "1. In `q6_1` put the average number of key/value (or name/value) pairs for the drugs.\n",
    "\n",
    "2. In `q6_2` put the list of all of the `manufacturer_names` without any other information. `manufacturer_names` are not a top level key/name, you will need to search for where they are located and how to extract them.\n",
    "\n",
    "3. In `q6_3` put how many drugs contain the string `child` anywhere in their `warnings` (including as part of larger strings like `children`). Note: `warnings` is a top level key/name."
   ]
  },
  {
   "cell_type": "code",
   "execution_count": 107,
   "metadata": {},
   "outputs": [],
   "source": [
    "#for q6_1\n",
    "pair1 = []\n",
    "for label in labels:\n",
    "    pair1.append(len(label))\n",
    "ave_pair = sum(pair1) / len(pair1)"
   ]
  },
  {
   "cell_type": "code",
   "execution_count": 111,
   "metadata": {},
   "outputs": [],
   "source": [
    "#for q6_2\n",
    "name2 = []\n",
    "for i in labels:\n",
    "    name2.append(i['openfda']['manufacturer_name'])"
   ]
  },
  {
   "cell_type": "code",
   "execution_count": 112,
   "metadata": {},
   "outputs": [],
   "source": [
    "#for q6_3\n",
    "cnt = 0\n",
    "for label in labels:\n",
    "    if \"child\" in str(label.get(\"warnings\")):\n",
    "        cnt += 1"
   ]
  },
  {
   "cell_type": "code",
   "execution_count": 113,
   "metadata": {
    "scrolled": true,
    "tags": []
   },
   "outputs": [
    {
     "name": "stdout",
     "output_type": "stream",
     "text": [
      "q6_1: 19.25\n",
      "q6_2: ['Nature and Health Beauty Co., Ltd.', 'Silver Star Brands', 'Johnson & Johnson Consumer Inc.', 'Proficient Rx LP', 'Energique, Inc.', 'Energique, Inc.', 'Amerisource Bergen', 'Seroyal USA', 'Proficient Rx LP', 'MODECOS CO., LTD.', 'United Exchange Corp.', 'King Bio Inc.', 'Aurobindo Pharma Limited', 'Energique, Inc.', 'SMART SENSE (Kmart)', 'Mentor Lab', 'BCM Ltd', 'Pearl World INC.', 'Dolgencorp, Inc. (DOLLAR GENERAL & REXALL)', 'Medline Industries, Inc.']\n",
      "q6_3: 13\n"
     ]
    }
   ],
   "source": [
    "# Put your code to answer the question here, and store answers as the following variables\n",
    "\n",
    "q6_1 = ave_pair # number of rows\n",
    "q6_2 = name2 # average System Memory GB\n",
    "q6_3 = cnt # number of missing rows\n",
    "\n",
    "\n",
    "# Run but do not modify this code\n",
    "print('q6_1:', q6_1)\n",
    "print('q6_2:', q6_2)\n",
    "print('q6_3:', q6_3)"
   ]
  },
  {
   "cell_type": "markdown",
   "metadata": {},
   "source": [
    "## Submitting\n",
    "\n",
    "You should make sure any code that you write to answer the questions is included in this notebook. We recommend you go to the Kernel option and choose \\\"Restart & Run All.\\\" Double check that your entire notebook runs correctly and generates the expected output. Finally, make sure to save your work (timestamp at the top tells you the last checkpoint and whether there are unsaved changes). When you finish, submit your assignment at [Gradescope](http://gradescope.com/)."
   ]
  }
 ],
 "metadata": {
  "kernelspec": {
   "display_name": "Python 3",
   "language": "python",
   "name": "python3"
  },
  "language_info": {
   "codemirror_mode": {
    "name": "ipython",
    "version": 3
   },
   "file_extension": ".py",
   "mimetype": "text/x-python",
   "name": "python",
   "nbconvert_exporter": "python",
   "pygments_lexer": "ipython3",
   "version": "3.8.5"
  },
  "otter": {
   "OK_FORMAT": true,
   "tests": {
    "q1": {
     "name": "q1",
     "points": [
      2,
      1,
      1
     ],
     "suites": [
      {
       "cases": [
        {
         "code": ">>> isinstance(q1, list)\nTrue",
         "hidden": false,
         "locked": false
        },
        {
         "code": ">>> from auto_checks import check_q1_1\n>>> check_q1_1(q1)\n'PASS'",
         "hidden": false,
         "locked": false
        },
        {
         "code": ">>> from auto_checks import check_q1_2\n>>> check_q1_2(q1)\n'PASS'",
         "hidden": false,
         "locked": false
        }
       ],
       "scored": true,
       "setup": "",
       "teardown": "",
       "type": "doctest"
      }
     ]
    },
    "q2": {
     "name": "q2",
     "points": [
      1,
      1,
      1,
      1
     ],
     "suites": [
      {
       "cases": [
        {
         "code": ">>> q2.shape == (26, 3)\nTrue",
         "hidden": false,
         "locked": false
        },
        {
         "code": ">>> 'first' in q2.columns and 'middle' in q2.columns and 'last' in q2.columns\nTrue",
         "hidden": false,
         "locked": false
        },
        {
         "code": ">>> from auto_checks import check_q2_1\n>>> check_q2_1(q2)\n'PASS'",
         "hidden": false,
         "locked": false
        },
        {
         "code": ">>> from auto_checks import check_q2_2\n>>> check_q2_2(q2)\n'PASS'",
         "hidden": false,
         "locked": false
        }
       ],
       "scored": true,
       "setup": "",
       "teardown": "",
       "type": "doctest"
      }
     ]
    },
    "q3": {
     "name": "q3",
     "points": [
      2,
      2,
      2,
      2,
      2,
      2
     ],
     "suites": [
      {
       "cases": [
        {
         "code": ">>> isinstance(q3_1, list)\nTrue",
         "hidden": false,
         "locked": false
        },
        {
         "code": ">>> from auto_checks import check_q3_1\n>>> check_q3_1(q3_1)\n'PASS'",
         "hidden": false,
         "locked": false
        },
        {
         "code": ">>> isinstance(q3_2, list)\nTrue",
         "hidden": false,
         "locked": false
        },
        {
         "code": ">>> from auto_checks import check_q3_2\n>>> check_q3_2(q3_2)\n'PASS'",
         "hidden": false,
         "locked": false
        },
        {
         "code": ">>> isinstance(q3_3, list)\nTrue",
         "hidden": false,
         "locked": false
        },
        {
         "code": ">>> from auto_checks import check_q3_3\n>>> check_q3_3(q3_3)\n'PASS'",
         "hidden": false,
         "locked": false
        }
       ],
       "scored": true,
       "setup": "",
       "teardown": "",
       "type": "doctest"
      }
     ]
    },
    "q4": {
     "name": "q4",
     "points": [
      1,
      1,
      1,
      1,
      2,
      2,
      2,
      2
     ],
     "suites": [
      {
       "cases": [
        {
         "code": ">>> 'User ID:' not in q4.loc[(0, 'System User ID')] and 'Machine ID:' not in q4.loc[(0, 'System Machine ID')] \nTrue",
         "hidden": false,
         "locked": false
        },
        {
         "code": ">>> # Confirm that q4's row 1's user and machine id column values are ?\n>>> q4.iloc[1]['System User ID'] == \"?\" and q4.iloc[1]['System Machine ID'] == \"?\"\nTrue",
         "hidden": false,
         "locked": false
        },
        {
         "code": ">>> from auto_checks import check_q4_1\n>>> check_q4_1(q4)\n'PASS'",
         "hidden": false,
         "locked": false
        },
        {
         "code": ">>> from auto_checks import check_q4_2\n>>> check_q4_2(q4)\n'PASS'",
         "hidden": false,
         "locked": false
        },
        {
         "code": ">>> q4.loc[([0,1], ['System Time second', 'System Memory GB'])]\n   System Time second  System Memory GB\n0                 NaN               NaN\n1                40.0             3.382",
         "hidden": false,
         "locked": false
        },
        {
         "code": ">>> from auto_checks import check_q4_3\n>>> check_q4_3(q4)\n'PASS'",
         "hidden": false,
         "locked": false
        },
        {
         "code": ">>> 'System Memory MB' not in q4.columns\nTrue",
         "hidden": false,
         "locked": false
        },
        {
         "code": ">>> from auto_checks import check_q4_4\n>>> check_q4_4(q4)\n'PASS'",
         "hidden": false,
         "locked": false
        }
       ],
       "scored": true,
       "setup": "",
       "teardown": "",
       "type": "doctest"
      }
     ]
    },
    "q5": {
     "name": "q5",
     "points": [
      2,
      2,
      2,
      2,
      2,
      2
     ],
     "suites": [
      {
       "cases": [
        {
         "code": ">>> isinstance(q5_1, int) or isinstance(q5_1, np.int64)\nTrue",
         "hidden": false,
         "locked": false
        },
        {
         "code": ">>> from auto_checks import check_q5_1\n>>> check_q5_1(q5_1)\n'PASS'",
         "hidden": false,
         "locked": false
        },
        {
         "code": ">>> isinstance(q5_2, float) or isinstance(q5_2, np.float64)\nTrue",
         "hidden": false,
         "locked": false
        },
        {
         "code": ">>> from auto_checks import check_q5_2\n>>> check_q5_2(q5_2)\n'PASS'",
         "hidden": false,
         "locked": false
        },
        {
         "code": ">>> isinstance(q5_3, int) or isinstance(q5_3, np.int64)\nTrue",
         "hidden": false,
         "locked": false
        },
        {
         "code": ">>> from auto_checks import check_q5_3\n>>> check_q5_3(q5_3)\n'PASS'",
         "hidden": false,
         "locked": false
        }
       ],
       "scored": true,
       "setup": "",
       "teardown": "",
       "type": "doctest"
      }
     ]
    },
    "q6": {
     "name": "q6",
     "points": [
      2,
      2,
      1,
      1,
      2,
      2,
      2
     ],
     "suites": [
      {
       "cases": [
        {
         "code": ">>> isinstance(q6_1, float) or isinstance(q6_1, np.float64)\nTrue",
         "hidden": false,
         "locked": false
        },
        {
         "code": ">>> from auto_checks import check_q6_1\n>>> check_q6_1(q6_1)\n'PASS'",
         "hidden": false,
         "locked": false
        },
        {
         "code": ">>> isinstance(q6_2, list)\nTrue",
         "hidden": false,
         "locked": false
        },
        {
         "code": ">>> # Check type of the values in the list in q6_2\n>>> all([type(x) == str for x in q6_2])\nTrue",
         "hidden": false,
         "locked": false
        },
        {
         "code": ">>> from auto_checks import check_q6_2\n>>> check_q6_2(q6_2)\n'PASS'",
         "hidden": false,
         "locked": false
        },
        {
         "code": ">>> isinstance(q6_3, int) or isinstance(q6_3, np.int64)\nTrue",
         "hidden": false,
         "locked": false
        },
        {
         "code": ">>> from auto_checks import check_q6_3\n>>> check_q6_3(q6_3)\n'PASS'",
         "hidden": false,
         "locked": false
        }
       ],
       "scored": true,
       "setup": "",
       "teardown": "",
       "type": "doctest"
      }
     ]
    }
   }
  }
 },
 "nbformat": 4,
 "nbformat_minor": 4
}
